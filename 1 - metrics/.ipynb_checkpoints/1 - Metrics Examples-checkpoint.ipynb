{
 "cells": [
  {
   "cell_type": "markdown",
   "id": "2c41a2d7-801a-4403-bae9-367112b34555",
   "metadata": {},
   "source": [
    "# [Azure OpenAI Responses API's](https://learn.microsoft.com/en-us/azure/ai-services/openai/how-to/responses?tabs=python-secure#generate-a-text-response) (with Entra ID authentication)"
   ]
  },
  {
   "cell_type": "code",
   "execution_count": 1,
   "id": "1e02d339-2fed-4267-a979-2ca5ba446151",
   "metadata": {},
   "outputs": [],
   "source": [
    "from azure.identity import DefaultAzureCredential\n",
    "credential = DefaultAzureCredential()"
   ]
  },
  {
   "cell_type": "code",
   "execution_count": 6,
   "id": "8c1e5663-9501-4620-9190-57f9a7a088f7",
   "metadata": {},
   "outputs": [
    {
     "ename": "NameError",
     "evalue": "name 'AZURE_OPENAI_API_KEY' is not defined",
     "output_type": "error",
     "traceback": [
      "\u001b[31m---------------------------------------------------------------------------\u001b[39m",
      "\u001b[31mNameError\u001b[39m                                 Traceback (most recent call last)",
      "\u001b[36mCell\u001b[39m\u001b[36m \u001b[39m\u001b[32mIn[6]\u001b[39m\u001b[32m, line 18\u001b[39m\n\u001b[32m     11\u001b[39m \u001b[38;5;66;03m# credential = DefaultAzureCredential() \u001b[39;00m\n\u001b[32m     13\u001b[39m token_provider = get_bearer_token_provider(\n\u001b[32m     14\u001b[39m     DefaultAzureCredential(), \u001b[33m\"\u001b[39m\u001b[33mhttps://cognitiveservices.azure.com/.default\u001b[39m\u001b[33m\"\u001b[39m)\n\u001b[32m     16\u001b[39m client = AzureOpenAI(\n\u001b[32m     17\u001b[39m   \u001b[38;5;66;03m# azure_ad_token_provider=token_provider,\u001b[39;00m\n\u001b[32m---> \u001b[39m\u001b[32m18\u001b[39m     api_key=\u001b[43mAZURE_OPENAI_API_KEY\u001b[49m,\n\u001b[32m     19\u001b[39m   api_version=api_version)\n",
      "\u001b[31mNameError\u001b[39m: name 'AZURE_OPENAI_API_KEY' is not defined"
     ]
    }
   ],
   "source": [
    "import os, json\n",
    "from openai import AzureOpenAI\n",
    "from azure.identity import DefaultAzureCredential, get_bearer_token_provider\n",
    "from dotenv import load_dotenv # requires python-dotenv\n",
    "\n",
    "load_dotenv(\"./../../config/credentials_my.env\")\n",
    "\n",
    "os.environ[\"AZURE_OPENAI_ENDPOINT\"] = os.environ['AZURE_OPENAI_ENDPOINT']\n",
    "api_version = os.environ[\"OPENAI_API_VERSION\"] # at least \"2025-03-01-preview\"\n",
    "\n",
    "# credential = DefaultAzureCredential() \n",
    "\n",
    "token_provider = get_bearer_token_provider(\n",
    "    DefaultAzureCredential(), \"https://cognitiveservices.azure.com/.default\")\n",
    "\n",
    "client = AzureOpenAI(\n",
    "  azure_ad_token_provider=token_provider,\n",
    "  api_version=api_version)"
   ]
  },
  {
   "cell_type": "markdown",
   "id": "56ab7964-0df1-44d6-a76d-d03da2447fb9",
   "metadata": {},
   "source": [
    "# Read the system message plus the json list of metrics"
   ]
  },
  {
   "cell_type": "code",
   "execution_count": 3,
   "id": "bebebe22-df9b-47a7-b96b-a7e013483bf8",
   "metadata": {},
   "outputs": [
    {
     "name": "stdout",
     "output_type": "stream",
     "text": [
      "1: Intent Resolution\n",
      "2: Tool Call Accuracy\n",
      "3: Task Adherence\n",
      "4: Response Completeness\n",
      "5: Groundedness (prompt-based)\n",
      "6: Groundedness Pro\n",
      "7: Retrieval\n",
      "8: Relevance\n",
      "9: Coherence\n",
      "10: Fluency\n",
      "11: Similarity\n",
      "12: F1 Score\n",
      "13: BLEU Score\n",
      "14: ROUGE Score\n",
      "15: METEOR Score\n"
     ]
    }
   ],
   "source": [
    "# Open the system_message file in read mode\n",
    "with open(\"system_message.txt\", \"r\", encoding=\"utf-8\") as file:\n",
    "    system_message = file.read()\n",
    "\n",
    "# Open the metrics file in read mode\n",
    "with open(\"metrics.json\", \"r\", encoding=\"utf-8\") as file:\n",
    "    metrics_list = json.loads(file.read().replace(\"\\n\", \"\"))\n",
    "\n",
    "i=1\n",
    "for m in metrics_list:\n",
    "    print (f'{i}: {m[\"metric_name\"]}')\n",
    "    i += 1"
   ]
  },
  {
   "cell_type": "markdown",
   "id": "fd692fb0-62c5-4fa6-bb09-5b83e3b78560",
   "metadata": {},
   "source": [
    "# You may run the next cell multiple times to explore metrics samples"
   ]
  },
  {
   "cell_type": "code",
   "execution_count": 4,
   "id": "94e2d034-08cc-4080-8218-b1f7ac04c297",
   "metadata": {},
   "outputs": [
    {
     "name": "stdin",
     "output_type": "stream",
     "text": [
      "Which metric would you like to analyze? 8\n"
     ]
    },
    {
     "data": {
      "text/markdown": [
       "\n",
       "\n",
       "**GREAT CHOICE!** Here are a couple examples for the metric `<Relevance>`\n"
      ],
      "text/plain": [
       "<IPython.core.display.Markdown object>"
      ]
     },
     "metadata": {},
     "output_type": "display_data"
    },
    {
     "data": {
      "text/markdown": [
       "Sure! Here are examples for the \"Relevance\" metric, with explanations for each score:  \n",
       "  \n",
       "### Relevance Metric Examples  \n",
       "  \n",
       "#### Score 5  \n",
       "  \n",
       "- **QUESTION:** Qual è la capitale d'Italia?  \n",
       "- **ANSWER:** La capitale d'Italia è Roma.  \n",
       "- **SCORE:** 5  \n",
       "- **EXPLANATION:** La risposta è precisa, completa e direttamente pertinente alla domanda.  \n",
       "  \n",
       "#### Score 4  \n",
       "  \n",
       "- **QUESTION:** Come si chiama la capitale della Francia?  \n",
       "- **ANSWER:** La capitale è Parigi, situata sulla Senna.  \n",
       "- **SCORE:** 4  \n",
       "- **EXPLANATION:** Anche se la risposta è corretta, include informazioni aggiuntive non richieste.  \n",
       "  \n",
       "#### Score 3  \n",
       "  \n",
       "- **QUESTION:** Qual è la capitale della Spagna?  \n",
       "- **ANSWER:** La capitale è in Europa.  \n",
       "- **SCORE:** 3  \n",
       "- **EXPLANATION:** La risposta è solo parzialmente pertinente; manca l'informazione chiave (\"Madrid\").  \n",
       "  \n",
       "#### Score 2  \n",
       "  \n",
       "- **QUESTION:** Qual è la capitale del Portogallo?  \n",
       "- **ANSWER:** Si trova vicino alla Spagna.  \n",
       "- **SCORE:** 2  \n",
       "- **EXPLANATION:** La risposta è vaga e non fornisce la capitale (\"Lisbona\").  \n",
       "  \n",
       "#### Score 1  \n",
       "  \n",
       "- **QUESTION:** Dove si trova la capitale dell'Austria?  \n",
       "- **ANSWER:** È una nazione europea.  \n",
       "- **SCORE:** 1  \n",
       "- **EXPLANATION:** La risposta è fuori tema e non identifica la capitale (\"Vienna\")."
      ],
      "text/plain": [
       "<IPython.core.display.Markdown object>"
      ]
     },
     "metadata": {},
     "output_type": "display_data"
    }
   ],
   "source": [
    "from IPython.display import Markdown, display\n",
    "\n",
    "index = int(input(\"Which metric would you like to analyze?\"))\n",
    "\n",
    "display(Markdown(f\"\\n\\n**GREAT CHOICE!** Here are a couple examples for the metric `<{metrics_list[index-1]['metric_name']}>`\\n\"))\n",
    "\n",
    "messages=[{\"role\": \"system\", \"content\": system_message},\n",
    "          {\"role\": \"user\", \"content\": json.dumps(metrics_list[index-1])}]\n",
    "\n",
    "response = client.responses.create(\n",
    "    model=os.environ['AZURE_OPENAI_CHAT_DEPLOYMENT_NAME'],\n",
    "    input=messages)\n",
    "\n",
    "display(Markdown(response.output_text.replace(\"\\n\", \"  \\n\")))"
   ]
  }
 ],
 "metadata": {
  "kernelspec": {
   "display_name": "Generative AI evaluation",
   "language": "python",
   "name": "genai_evaluation"
  },
  "language_info": {
   "codemirror_mode": {
    "name": "ipython",
    "version": 3
   },
   "file_extension": ".py",
   "mimetype": "text/x-python",
   "name": "python",
   "nbconvert_exporter": "python",
   "pygments_lexer": "ipython3",
   "version": "3.12.11"
  }
 },
 "nbformat": 4,
 "nbformat_minor": 5
}
