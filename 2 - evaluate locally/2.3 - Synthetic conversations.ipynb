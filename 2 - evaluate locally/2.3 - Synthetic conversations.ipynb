{
 "cells": [
  {
   "cell_type": "markdown",
   "id": "c479b344-f6ae-454d-a96c-85f9137f16dc",
   "metadata": {},
   "source": [
    "# [Generate synthetic and simulated data for evaluation](https://learn.microsoft.com/en-us/azure/ai-foundry/how-to/develop/simulator-interaction-data)\n",
    "**Azure AI Evaluation SDK's** `Simulator` provides an end-to-end synthetic data generation capability to help developers test their application's response to typical user queries in the absence of production data. AI developers can use an index or text-based query generator and fully customizable simulator to create robust test datasets around non-adversarial tasks specific to their application. The `Simulator` class is a powerful tool designed to generate synthetic conversations and simulate task-based interactions. This capability is useful for:\n",
    "- **Testing Conversational Applications**: Ensure your chatbots and virtual assistants respond accurately under various scenarios.\n",
    "- **Training AI Models**: Generate diverse datasets to train and fine-tune machine learning models.\n",
    "- **Generating Datasets**: Create extensive conversation logs for analysis and development purposes.\n",
    "By automating the creation of synthetic data, the Simulator class helps streamline the development and testing processes, ensuring your applications are robust and reliable.\n",
    "<br/>\n",
    "By automating the creation of synthetic data, the `Simulator` class helps streamline the development and testing processes, ensuring your applications are robust and reliable."
   ]
  },
  {
   "cell_type": "code",
   "execution_count": 1,
   "id": "43f1ba86-e977-4636-8887-04394b833f55",
   "metadata": {},
   "outputs": [],
   "source": [
    "# !az login"
   ]
  },
  {
   "cell_type": "code",
   "execution_count": 2,
   "id": "7b8ac0ff-c633-4603-b3bf-c63ef79b1995",
   "metadata": {},
   "outputs": [],
   "source": [
    "# Constants and Libraries\n",
    "import os, json\n",
    "from azure.identity import DefaultAzureCredential, get_bearer_token_provider #requires azure-identity\n",
    "from pprint import pprint\n",
    "from dotenv import load_dotenv # requires python-dotenv\n",
    "\n",
    "if not load_dotenv(\"./../../config/credentials_my.env\"):\n",
    "    print(\"Environment variables not loaded, cell execution stopped\")\n",
    "    sys.exit()\n",
    "os.environ[\"AZURE_OPENAI_API_VERSION\"] = os.environ[\"OPENAI_API_VERSION\"]\n",
    "\n",
    "credential = DefaultAzureCredential()"
   ]
  },
  {
   "cell_type": "code",
   "execution_count": 3,
   "id": "4edd78d8-45bd-46ec-aca1-26f28afa8b5b",
   "metadata": {},
   "outputs": [],
   "source": [
    "# Initialize Azure OpenAI connection\n",
    "\n",
    "model_config = {\n",
    "    \"azure_endpoint\": os.environ.get(\"AZURE_OPENAI_ENDPOINT\"),\n",
    "    \"api_key\": os.environ.get(\"AZURE_OPENAI_API_KEY\"),\n",
    "    \"azure_deployment\": os.environ.get(\"AZURE_OPENAI_CHAT_DEPLOYMENT_NAME\"),\n",
    "    \"api_version\": os.environ.get(\"AZURE_OPENAI_API_VERSION\"),\n",
    "}"
   ]
  },
  {
   "cell_type": "markdown",
   "id": "00dfa9ff-ecb3-47a2-bf9f-798e3ca079bd",
   "metadata": {},
   "source": [
    "## Generate text or index-based synthetic data as input\n",
    "In the first part, we prepare the text for generating the input to our simulator"
   ]
  },
  {
   "cell_type": "code",
   "execution_count": 4,
   "id": "57bf56fd-42e7-4aac-837c-e4a505181885",
   "metadata": {},
   "outputs": [
    {
     "name": "stdout",
     "output_type": "stream",
     "text": [
      "Leonardo di ser Piero da Vinci (15 April 1452 – 2 May 1519) was an Italian polymath of the High Rena...\n"
     ]
    }
   ],
   "source": [
    "import asyncio\n",
    "from azure.identity import DefaultAzureCredential\n",
    "import wikipedia\n",
    "import os\n",
    "from typing import List, Dict, Any, Optional\n",
    "# Prepare the text to send to the simulator\n",
    "wiki_search_term = \"Leonardo da Vinci\"\n",
    "wiki_title = wikipedia.search(wiki_search_term)[0]\n",
    "wiki_page = wikipedia.page(wiki_title)\n",
    "text = wiki_page.summary[:5000]\n",
    "print(f\"{text[:100]}...\")"
   ]
  },
  {
   "cell_type": "markdown",
   "id": "4dfa8dc5-c6fc-4306-a3cd-422cb332d808",
   "metadata": {},
   "source": [
    "## Specify application Prompty\n",
    "The following `application.prompty` file specifies how a chat application behaves."
   ]
  },
  {
   "cell_type": "code",
   "execution_count": 5,
   "id": "ca529b72-ba77-4db9-87a9-21696f4b6d1e",
   "metadata": {},
   "outputs": [
    {
     "name": "stdout",
     "output_type": "stream",
     "text": [
      "Overwriting ./eval_assets/application.prompty\n"
     ]
    }
   ],
   "source": [
    "%%writefile ./eval_assets/application.prompty\n",
    "---\n",
    "name: ApplicationPrompty\n",
    "description: Chat RAG application\n",
    "model:\n",
    "    api: chat\n",
    "    parameters:\n",
    "        temperature: 0.0\n",
    "        top_p: 1.0\n",
    "        presence_penalty: 0\n",
    "        frequency_penalty: 0\n",
    "        response_format:\n",
    "            type: text\n",
    " \n",
    "inputs:\n",
    "    context:\n",
    "        type: string\n",
    "    query:\n",
    "        type: string\n",
    "    conversation_history:\n",
    "        type: dict\n",
    "---\n",
    "system:\n",
    "You are a helpful assistant and you're helping with the user's query. \n",
    "Keep the conversation engaging and interesting.\n",
    "\n",
    "Keep your conversation grounded in the provided context: \n",
    "{{ context }}\n",
    "\n",
    "Output with a string that continues the conversation, responding to \n",
    "the latest message from the user query using it same language:\n",
    "{{ query }}\n",
    "\n",
    "given the conversation history:\n",
    "{{ conversation_history }}"
   ]
  },
  {
   "cell_type": "code",
   "execution_count": 6,
   "id": "6da11cff-7a95-4173-a2ce-3148f7d1aecb",
   "metadata": {},
   "outputs": [
    {
     "name": "stdout",
     "output_type": "stream",
     "text": [
      "('Certo! Ecco una ricetta semplice per preparare una pizza fatta in casa:\\n'\n",
      " '\\n'\n",
      " 'Ingredienti per l’impasto:\\n'\n",
      " '- 500 g di farina 00\\n'\n",
      " '- 300 ml di acqua tiepida\\n'\n",
      " '- 10 g di sale\\n'\n",
      " '- 3 g di lievito di birra secco (oppure 10 g di lievito fresco)\\n'\n",
      " '- 1 cucchiaio di olio extravergine d’oliva\\n'\n",
      " '\\n'\n",
      " 'Procedimento:\\n'\n",
      " '1. Sciogli il lievito in un po’ d’acqua tiepida.\\n'\n",
      " '2. In una ciotola capiente, versa la farina e aggiungi il lievito sciolto.\\n'\n",
      " '3. Inizia a impastare aggiungendo gradualmente l’acqua. Quando l’impasto '\n",
      " 'inizia a formarsi, aggiungi il sale e l’olio.\\n'\n",
      " '4. Continua a impastare fino a ottenere un impasto liscio ed elastico (circa '\n",
      " '10 minuti).\\n'\n",
      " '5. Copri la ciotola con un canovaccio e lascia lievitare per almeno 2 ore, '\n",
      " 'fino al raddoppio del volume.\\n'\n",
      " '6. Stendi l’impasto su una teglia leggermente unta o su carta forno.\\n'\n",
      " '7. Condisci con salsa di pomodoro, mozzarella e gli ingredienti che '\n",
      " 'preferisci.\\n'\n",
      " '8. Cuoci in forno preriscaldato a 250°C per circa 10-15 minuti, finché la '\n",
      " 'pizza non è dorata e croccante.\\n'\n",
      " '\\n'\n",
      " 'Vuoi qualche consiglio su come condirla o preferisci una variante '\n",
      " 'dell’impasto?')\n"
     ]
    }
   ],
   "source": [
    "from promptflow.client import load_flow\n",
    "from pprint import pprint\n",
    "\n",
    "model_config[\"type\"] = \"AzureOpenAI\"\n",
    "\n",
    "prompty_path = \"eval_assets/application.prompty\"\n",
    "flow = load_flow(source=prompty_path, model={\"configuration\": model_config})\n",
    "\n",
    "pprint(flow(context=\"\", query=\"Come preparare una pizza fatta in casa\", conversation_history=[]))"
   ]
  },
  {
   "cell_type": "code",
   "execution_count": 7,
   "id": "811aad51-cd89-4f42-85da-ec1238162f0e",
   "metadata": {},
   "outputs": [
    {
     "data": {
      "text/plain": [
       "'Che bello! È un grande classico, non passa mai di moda. Lo rivedi per nostalgia o è la prima volta che lo guardi al cinema?'"
      ]
     },
     "execution_count": 7,
     "metadata": {},
     "output_type": "execute_result"
    }
   ],
   "source": [
    "context = \"Conversazione amichevole fra due persone\"\n",
    "\n",
    "conversation_history = [\n",
    "    {\n",
    "        \"content\": \"Cosa fai di bello questa sera?\",\n",
    "        \"role\": \"user\",\n",
    "        \"context\": \"Domanda amichevole\",\n",
    "    },\n",
    "    {\n",
    "        \"content\": \"Vado al cinema\",\n",
    "        \"role\": \"assistant\",\n",
    "        \"context\": \"Esposizione di un'attività ricreativa divertente\",\n",
    "    },\n",
    "    {\n",
    "        \"content\": \"Ah fantastico! Che cosa vai a vedere?\",\n",
    "        \"role\": \"user\",\n",
    "        \"context\": \"Ulteriore domanda amichevole a dimostrare interesse verso l'interlocutore\",\n",
    "    },\n",
    "    {\n",
    "        \"content\": \"Lo SQUALO di Steven Spielberg\",\n",
    "        \"role\": \"assistant\",\n",
    "        \"context\": \"Informazione specifica di un'attività divertente che si intende compiere\",\n",
    "    },\n",
    "]\n",
    "\n",
    "flow(context=conversation_history[-1][\"context\"], query=conversation_history[-1][\"content\"], conversation_history=conversation_history)"
   ]
  },
  {
   "cell_type": "code",
   "execution_count": 8,
   "id": "be6e7524-1305-4844-b5a6-d2f7a3372f65",
   "metadata": {},
   "outputs": [
    {
     "name": "stdout",
     "output_type": "stream",
     "text": [
      "Message 0 - user: Cosa fai di bello questa sera?\n",
      "\n",
      "Message 1 - assistant: Vado al cinema\n",
      "\n",
      "Message 2 - user: Ah fantastico! Che cosa vai a vedere?\n",
      "\n",
      "Message 3 - assistant: Lo SQUALO di Steven Spielberg\n",
      "\n",
      "Message 4 - user: Che bello! È un grande classico, non passa mai di moda. Lo rivedi per nostalgia o è la prima volta che lo guardi al cinema?\n",
      "\n"
     ]
    }
   ],
   "source": [
    "i = 0\n",
    "for ch in conversation_history:\n",
    "    print(f'Message {i} - {ch[\"role\"]}: {ch[\"content\"]}\\n')\n",
    "    i += 1\n",
    "    \n",
    "response = flow(context=conversation_history[-1][\"context\"], query=conversation_history[-1][\"content\"], conversation_history=conversation_history)\n",
    "\n",
    "conversation_history.append({\"content\": response, \"role\": \"user\" if conversation_history[-1][\"role\"]==\"assistant\" else \"assistant\", \"context\": \"\"})\n",
    "print(f'Message {i} - {conversation_history[-1][\"role\"]}: {conversation_history[-1][\"content\"]}\\n')"
   ]
  },
  {
   "cell_type": "markdown",
   "id": "4b5a7e0c-ae71-43f8-8422-3d62a6a10e70",
   "metadata": {},
   "source": [
    "## Specify target callback to simulate against\n",
    "You can bring any application endpoint to simulate against by specifying a target callback function such as the following given an application that is an LLM with a Prompty file like `application.prompty`"
   ]
  },
  {
   "cell_type": "code",
   "execution_count": 9,
   "id": "4e4e2868-cd07-403e-a475-6cd468102065",
   "metadata": {},
   "outputs": [],
   "source": [
    "async def callback(\n",
    "    messages: Dict,\n",
    "    stream: bool = False,\n",
    "    session_state: Any = None,  # noqa: ANN401\n",
    "    context: Optional[Dict[str, Any]] = None,\n",
    "    subfolder: str = \"eval_assets\",\n",
    ") -> dict:\n",
    "    messages_list = messages[\"messages\"]\n",
    "    # Get the last message\n",
    "    latest_message = messages_list[-1]\n",
    "    query = latest_message[\"content\"]\n",
    "    context = latest_message.get(\"context\", None) # looks for context, default None\n",
    "    # Call your endpoint or AI application here\n",
    "    prompty_path = os.path.join(os.getcwd(), subfolder, \"application.prompty\") \n",
    "    _flow = load_flow(source=prompty_path, model={\"configuration\": model_config})\n",
    "    response = _flow(query=query, context=context, conversation_history=messages_list)\n",
    "    # Format the response to follow the OpenAI chat protocol\n",
    "    formatted_response = {\n",
    "        \"content\": response,\n",
    "        \"role\": \"user\" if conversation_history[-1][\"role\"]==\"assistant\" else \"assistant\",\n",
    "        \"context\": context,\n",
    "    }\n",
    "    messages[\"messages\"].append(formatted_response)\n",
    "    return {\n",
    "        \"messages\": messages[\"messages\"],\n",
    "        \"stream\": stream,\n",
    "        \"session_state\": session_state,\n",
    "        \"context\": context\n",
    "    }"
   ]
  },
  {
   "cell_type": "code",
   "execution_count": 10,
   "id": "ae73503b-a94b-4002-9672-5ee34a6011ff",
   "metadata": {},
   "outputs": [
    {
     "name": "stderr",
     "output_type": "stream",
     "text": [
      "Class Simulator: This is an experimental class, and may change at any time. Please see https://aka.ms/azuremlexperimental for more information.\n"
     ]
    }
   ],
   "source": [
    "from azure.ai.evaluation.simulator import Simulator\n",
    "# model_config[\"type\"] = \"AzureOpenAI\" # \"azure_openai\" or \"AzureOpenAI\" \n",
    "simulator = Simulator(model_config=model_config)"
   ]
  },
  {
   "cell_type": "code",
   "execution_count": 11,
   "id": "4a38f46a-f767-4449-8fe9-af8ab99233d1",
   "metadata": {},
   "outputs": [
    {
     "name": "stderr",
     "output_type": "stream",
     "text": [
      "C:\\Users\\mauromi\\.conda\\envs\\genai_evaluation\\Lib\\site-packages\\azure\\ai\\evaluation\\simulator\\_simulator.py:152: UserWarning: You have specified 'num_queries' > len('tasks') (1 > 0). All tasks will be used for generation and the remaining 1 lines will be simulated in task-free mode\n",
      "  warnings.warn(\n",
      "Generating: 100%|████████████████████████████████████████████████| 5/5 [00:47<00:00,  9.56s/message]\n"
     ]
    }
   ],
   "source": [
    "outputs = await simulator(\n",
    "    target=callback,\n",
    "    text=\"Il Duomo di Milano è una delle cattedrali più iconiche al mondo e il simbolo della città. La sua costruzione iniziò nel 1386 e si protrasse per secoli, con il completamento ufficiale nel 1932. È la chiesa più grande d'Italia e una delle più imponenti a livello mondiale\",# text,\n",
    "    num_queries=1,  # Minimal number of queries\n",
    ")"
   ]
  },
  {
   "cell_type": "code",
   "execution_count": 12,
   "id": "a09c66be-ba7a-4cee-8e58-b4b89347708f",
   "metadata": {},
   "outputs": [
    {
     "data": {
      "text/plain": [
       "[{'messages': [{'role': 'user',\n",
       "    'content': 'In which year did the construction of Il Duomo di Milano officially complete?',\n",
       "    'context': 'None'},\n",
       "   {'role': 'assistant',\n",
       "    'content': 'The construction of Il Duomo di Milano (Milan Cathedral) was officially completed in 1965, although the main structure was largely finished by the early 19th century. The cathedral took nearly six centuries to complete, with work beginning in 1386!',\n",
       "    'context': 'None'},\n",
       "   {'role': 'user',\n",
       "    'content': \"That's fascinating! What were some of the main architectural styles or influences that shaped the design of Il Duomo di Milano over those centuries?\",\n",
       "    'context': 'None'},\n",
       "   {'role': 'assistant',\n",
       "    'content': 'Great question! Il Duomo di Milano is a true masterpiece of architectural fusion. Its primary style is Gothic, evident in the pointed arches, ribbed vaults, and the forest of spires and statues that adorn its exterior. However, because construction spanned so many centuries, other influences crept in as well. For example, you’ll find elements of Renaissance architecture, especially in some of the decorative details and the design of certain chapels. There are also touches of Baroque, particularly in some of the later additions and restorations. The result is a unique blend that reflects the evolving tastes and techniques of each era—making the cathedral not just a place of worship, but a living timeline of European architectural history! Would you like to know more about any specific feature or period?',\n",
       "    'context': 'None'},\n",
       "   {'role': 'user',\n",
       "    'content': \"I'm especially interested in the famous statues and sculptures on the cathedral. Are there any particularly notable or unusual statues on Il Duomo di Milano that have interesting stories or symbolism behind them?\",\n",
       "    'context': 'None'},\n",
       "   {'role': 'assistant',\n",
       "    'content': 'Absolutely—Il Duomo di Milano is famous for its incredible array of statues and sculptures, with over 3,400 statues adorning its exterior and interior! Here are a few particularly notable and unusual ones with fascinating stories:\\n\\n1. The Madonnina: At the very top of the main spire stands the golden statue of the Virgin Mary, known as the Madonnina. Installed in 1774, she’s not only a religious symbol but also a beloved icon of Milan. For many years, no building in Milan was allowed to be taller than the Madonnina, and even today, replicas are placed atop the city’s tallest skyscrapers to honor this tradition.\\n\\n2. Saint Bartholomew Flayed: Inside the cathedral, you’ll find a striking statue of Saint Bartholomew holding his own flayed skin over his shoulders like a cloak. Sculpted by Marco d’Agrate in 1562, it’s both a masterpiece of anatomical detail and a powerful reminder of the saint’s martyrdom.\\n\\n3. The “Alien” Gargoyle: Among the many gargoyles and grotesques, there’s one that looks suspiciously like the Xenomorph from the Alien movies! While it’s not actually an alien, it’s a modern addition from the 20th century, showing how the cathedral continues to evolve and incorporate contemporary influences.\\n\\n4. Unusual Figures: Scattered among the saints and angels, you’ll also spot figures of boxers, tennis players, and even a statue of Napoleon Bonaparte, who played a role in the cathedral’s completion and was crowned King of Italy there in 1805.\\n\\nThe sheer variety of statues—ranging from biblical figures to everyday people and even mythical creatures—reflects both the cathedral’s long construction history and the creativity of the many artists who contributed to it. If you’d like, I can share more about a specific statue or the symbolism behind some of the more mysterious figures!',\n",
       "    'context': 'None'},\n",
       "   {'role': 'user',\n",
       "    'content': \"Those are some truly intriguing details! I'm curious—how were the artists and sculptors chosen to work on the cathedral over the centuries? Were there any famous artists involved, or any interesting stories about the people who contributed to the sculptures and decorations?\",\n",
       "    'context': 'None'},\n",
       "   {'role': 'assistant',\n",
       "    'content': 'That’s a fantastic question! The process of selecting artists and sculptors for Il Duomo di Milano was as complex and evolving as the cathedral itself. From the very beginning, the Veneranda Fabbrica del Duomo di Milano—a special organization established in 1387—was responsible for overseeing the construction, funding, and artistic direction. They recruited master builders, architects, and sculptors from all over Europe, especially from France, Germany, and Italy, to bring in the best Gothic expertise.\\n\\nMany artists were chosen through competitions or were invited based on their reputation and skill. Some were local, while others traveled from afar, drawn by the prestige of working on such a monumental project. Over the centuries, hundreds of artisans contributed, often anonymously, but a few notable names stand out:\\n\\n- Simone da Orsenigo was the first chief architect, and later, the renowned sculptor Giovanni Antonio Amadeo contributed to the intricate decorations.\\n- Leonardo da Vinci himself was consulted in the late 15th century for engineering advice on the dome, though he didn’t create any sculptures for the cathedral.\\n- Carlo Pellicani and Giuseppe Perego were among the 19th-century artists who created some of the most iconic statues, including the famous Madonnina.\\n\\nThere are also some fascinating stories—like that of Marco d’Agrate, who sculpted the dramatic statue of Saint Bartholomew Flayed. He was so proud of his work that he inscribed his name on the statue, which was unusual at the time.\\n\\nAnd, as the centuries passed, the Fabbrica continued to commission new works, sometimes even holding public competitions to select the best designs. This tradition of inviting both established and emerging artists continues today, which is why you’ll find everything from medieval saints to modern figures among the cathedral’s decorations.\\n\\nWould you like to hear more about a particular artist or a specific period in the cathedral’s artistic history?',\n",
       "    'context': 'None'},\n",
       "   {'role': 'user',\n",
       "    'content': \"Thank you for the detailed explanation! I'm also interested in the materials used for the sculptures and the cathedral itself. Where did the marble come from, and were there any challenges or unique techniques involved in transporting and working with such large quantities of stone over the centuries?\",\n",
       "    'context': 'None'},\n",
       "   {'role': 'assistant',\n",
       "    'content': 'That’s a wonderful area to explore! The primary material used for both the cathedral and its sculptures is the famous “Candoglia marble,” a beautiful, pale pinkish-grey stone. This marble comes from the quarries of Candoglia, a small village near Lake Maggiore, about 90 kilometers (56 miles) from Milan.\\n\\nTransporting such massive quantities of marble over that distance was a huge challenge, especially in the early centuries. The solution was ingenious: the marble blocks were loaded onto barges and floated down the River Toce, then along Lake Maggiore, and finally into the Navigli canals that led directly into Milan. In fact, the city’s canal system was expanded and improved specifically to facilitate the cathedral’s construction!\\n\\nWorking with Candoglia marble also required special techniques. The stone is relatively soft when first quarried, making it easier to carve intricate details, but it hardens over time as it’s exposed to air. This property allowed sculptors to create the incredibly delicate tracery, spires, and statues that make Il Duomo so distinctive.\\n\\nThere were also logistical and financial challenges. The Fabbrica del Duomo was granted the exclusive right to use Candoglia marble, and the blocks were marked with the letters “A.U.F.” (Ad Usum Fabricae, meaning “For the Use of the Factory”) to ensure they weren’t diverted for other projects. Over the centuries, maintaining a steady supply of marble and skilled artisans was a constant concern, especially during wars or economic downturns.\\n\\nIf you’re interested, I can share more about the restoration techniques used today to preserve the marble, or about the canal system that played such a crucial role in the cathedral’s construction!',\n",
       "    'context': 'None'}],\n",
       "  'finish_reason': ['stop'],\n",
       "  'context': {'task': None,\n",
       "   'expected_response': '1932',\n",
       "   'query': 'In which year did the construction of Il Duomo di Milano officially complete?',\n",
       "   'original_text': \"Il Duomo di Milano è una delle cattedrali più iconiche al mondo e il simbolo della città. La sua costruzione iniziò nel 1386 e si protrasse per secoli, con il completamento ufficiale nel 1932. È la chiesa più grande d'Italia e una delle più imponenti a livello mondiale\"},\n",
       "  '$schema': 'http://azureml/sdk-2-0/ChatConversation.json'}]"
      ]
     },
     "execution_count": 12,
     "metadata": {},
     "output_type": "execute_result"
    }
   ],
   "source": [
    "outputs"
   ]
  },
  {
   "cell_type": "code",
   "execution_count": 13,
   "id": "590db99a-12b5-4abe-92ea-ac12b4e2bf64",
   "metadata": {},
   "outputs": [
    {
     "name": "stdout",
     "output_type": "stream",
     "text": [
      "Message 0 - user: In which year did the construction of Il Duomo di Milano officially complete?\n",
      "\n",
      "Message 1 - assistant: The construction of Il Duomo di Milano (Milan Cathedral) was officially completed in 1965, although the main structure was largely finished by the early 19th century. The cathedral took nearly six centuries to complete, with work beginning in 1386!\n",
      "\n",
      "Message 2 - user: That's fascinating! What were some of the main architectural styles or influences that shaped the design of Il Duomo di Milano over those centuries?\n",
      "\n",
      "Message 3 - assistant: Great question! Il Duomo di Milano is a true masterpiece of architectural fusion. Its primary style is Gothic, evident in the pointed arches, ribbed vaults, and the forest of spires and statues that adorn its exterior. However, because construction spanned so many centuries, other influences crept in as well. For example, you’ll find elements of Renaissance architecture, especially in some of the decorative details and the design of certain chapels. There are also touches of Baroque, particularly in some of the later additions and restorations. The result is a unique blend that reflects the evolving tastes and techniques of each era—making the cathedral not just a place of worship, but a living timeline of European architectural history! Would you like to know more about any specific feature or period?\n",
      "\n",
      "Message 4 - user: I'm especially interested in the famous statues and sculptures on the cathedral. Are there any particularly notable or unusual statues on Il Duomo di Milano that have interesting stories or symbolism behind them?\n",
      "\n",
      "Message 5 - assistant: Absolutely—Il Duomo di Milano is famous for its incredible array of statues and sculptures, with over 3,400 statues adorning its exterior and interior! Here are a few particularly notable and unusual ones with fascinating stories:\n",
      "\n",
      "1. The Madonnina: At the very top of the main spire stands the golden statue of the Virgin Mary, known as the Madonnina. Installed in 1774, she’s not only a religious symbol but also a beloved icon of Milan. For many years, no building in Milan was allowed to be taller than the Madonnina, and even today, replicas are placed atop the city’s tallest skyscrapers to honor this tradition.\n",
      "\n",
      "2. Saint Bartholomew Flayed: Inside the cathedral, you’ll find a striking statue of Saint Bartholomew holding his own flayed skin over his shoulders like a cloak. Sculpted by Marco d’Agrate in 1562, it’s both a masterpiece of anatomical detail and a powerful reminder of the saint’s martyrdom.\n",
      "\n",
      "3. The “Alien” Gargoyle: Among the many gargoyles and grotesques, there’s one that looks suspiciously like the Xenomorph from the Alien movies! While it’s not actually an alien, it’s a modern addition from the 20th century, showing how the cathedral continues to evolve and incorporate contemporary influences.\n",
      "\n",
      "4. Unusual Figures: Scattered among the saints and angels, you’ll also spot figures of boxers, tennis players, and even a statue of Napoleon Bonaparte, who played a role in the cathedral’s completion and was crowned King of Italy there in 1805.\n",
      "\n",
      "The sheer variety of statues—ranging from biblical figures to everyday people and even mythical creatures—reflects both the cathedral’s long construction history and the creativity of the many artists who contributed to it. If you’d like, I can share more about a specific statue or the symbolism behind some of the more mysterious figures!\n",
      "\n",
      "Message 6 - user: Those are some truly intriguing details! I'm curious—how were the artists and sculptors chosen to work on the cathedral over the centuries? Were there any famous artists involved, or any interesting stories about the people who contributed to the sculptures and decorations?\n",
      "\n",
      "Message 7 - assistant: That’s a fantastic question! The process of selecting artists and sculptors for Il Duomo di Milano was as complex and evolving as the cathedral itself. From the very beginning, the Veneranda Fabbrica del Duomo di Milano—a special organization established in 1387—was responsible for overseeing the construction, funding, and artistic direction. They recruited master builders, architects, and sculptors from all over Europe, especially from France, Germany, and Italy, to bring in the best Gothic expertise.\n",
      "\n",
      "Many artists were chosen through competitions or were invited based on their reputation and skill. Some were local, while others traveled from afar, drawn by the prestige of working on such a monumental project. Over the centuries, hundreds of artisans contributed, often anonymously, but a few notable names stand out:\n",
      "\n",
      "- Simone da Orsenigo was the first chief architect, and later, the renowned sculptor Giovanni Antonio Amadeo contributed to the intricate decorations.\n",
      "- Leonardo da Vinci himself was consulted in the late 15th century for engineering advice on the dome, though he didn’t create any sculptures for the cathedral.\n",
      "- Carlo Pellicani and Giuseppe Perego were among the 19th-century artists who created some of the most iconic statues, including the famous Madonnina.\n",
      "\n",
      "There are also some fascinating stories—like that of Marco d’Agrate, who sculpted the dramatic statue of Saint Bartholomew Flayed. He was so proud of his work that he inscribed his name on the statue, which was unusual at the time.\n",
      "\n",
      "And, as the centuries passed, the Fabbrica continued to commission new works, sometimes even holding public competitions to select the best designs. This tradition of inviting both established and emerging artists continues today, which is why you’ll find everything from medieval saints to modern figures among the cathedral’s decorations.\n",
      "\n",
      "Would you like to hear more about a particular artist or a specific period in the cathedral’s artistic history?\n",
      "\n",
      "Message 8 - user: Thank you for the detailed explanation! I'm also interested in the materials used for the sculptures and the cathedral itself. Where did the marble come from, and were there any challenges or unique techniques involved in transporting and working with such large quantities of stone over the centuries?\n",
      "\n",
      "Message 9 - assistant: That’s a wonderful area to explore! The primary material used for both the cathedral and its sculptures is the famous “Candoglia marble,” a beautiful, pale pinkish-grey stone. This marble comes from the quarries of Candoglia, a small village near Lake Maggiore, about 90 kilometers (56 miles) from Milan.\n",
      "\n",
      "Transporting such massive quantities of marble over that distance was a huge challenge, especially in the early centuries. The solution was ingenious: the marble blocks were loaded onto barges and floated down the River Toce, then along Lake Maggiore, and finally into the Navigli canals that led directly into Milan. In fact, the city’s canal system was expanded and improved specifically to facilitate the cathedral’s construction!\n",
      "\n",
      "Working with Candoglia marble also required special techniques. The stone is relatively soft when first quarried, making it easier to carve intricate details, but it hardens over time as it’s exposed to air. This property allowed sculptors to create the incredibly delicate tracery, spires, and statues that make Il Duomo so distinctive.\n",
      "\n",
      "There were also logistical and financial challenges. The Fabbrica del Duomo was granted the exclusive right to use Candoglia marble, and the blocks were marked with the letters “A.U.F.” (Ad Usum Fabricae, meaning “For the Use of the Factory”) to ensure they weren’t diverted for other projects. Over the centuries, maintaining a steady supply of marble and skilled artisans was a constant concern, especially during wars or economic downturns.\n",
      "\n",
      "If you’re interested, I can share more about the restoration techniques used today to preserve the marble, or about the canal system that played such a crucial role in the cathedral’s construction!\n",
      "\n"
     ]
    }
   ],
   "source": [
    "i = 0\n",
    "for ch in outputs[0][\"messages\"]:\n",
    "    print(f'Message {i} - {ch[\"role\"]}: {ch[\"content\"]}\\n')\n",
    "    i += 1"
   ]
  }
 ],
 "metadata": {
  "kernelspec": {
   "display_name": "Generative AI evaluation",
   "language": "python",
   "name": "genai_evaluation"
  },
  "language_info": {
   "codemirror_mode": {
    "name": "ipython",
    "version": 3
   },
   "file_extension": ".py",
   "mimetype": "text/x-python",
   "name": "python",
   "nbconvert_exporter": "python",
   "pygments_lexer": "ipython3",
   "version": "3.12.9"
  }
 },
 "nbformat": 4,
 "nbformat_minor": 5
}
