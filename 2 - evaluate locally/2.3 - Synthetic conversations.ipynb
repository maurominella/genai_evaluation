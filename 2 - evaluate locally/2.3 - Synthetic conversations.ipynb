{
 "cells": [
  {
   "cell_type": "markdown",
   "id": "c479b344-f6ae-454d-a96c-85f9137f16dc",
   "metadata": {},
   "source": [
    "# [Generate synthetic and simulated data for evaluation](https://learn.microsoft.com/en-us/azure/ai-foundry/how-to/develop/simulator-interaction-data)\n",
    "**Azure AI Evaluation SDK's** `Simulator` provides an end-to-end synthetic data generation capability to help developers test their application's response to typical user queries in the absence of production data. AI developers can use an index or text-based query generator and fully customizable simulator to create robust test datasets around non-adversarial tasks specific to their application. The `Simulator` class is a powerful tool designed to generate synthetic conversations and simulate task-based interactions. This capability is useful for:\n",
    "- **Testing Conversational Applications**: Ensure your chatbots and virtual assistants respond accurately under various scenarios.\n",
    "- **Training AI Models**: Generate diverse datasets to train and fine-tune machine learning models.\n",
    "- **Generating Datasets**: Create extensive conversation logs for analysis and development purposes.\n",
    "By automating the creation of synthetic data, the Simulator class helps streamline the development and testing processes, ensuring your applications are robust and reliable.\n",
    "<br/>\n",
    "By automating the creation of synthetic data, the `Simulator` class helps streamline the development and testing processes, ensuring your applications are robust and reliable."
   ]
  },
  {
   "cell_type": "code",
   "execution_count": 1,
   "id": "43f1ba86-e977-4636-8887-04394b833f55",
   "metadata": {},
   "outputs": [],
   "source": [
    "# !az login"
   ]
  },
  {
   "cell_type": "code",
   "execution_count": 2,
   "id": "7b8ac0ff-c633-4603-b3bf-c63ef79b1995",
   "metadata": {},
   "outputs": [],
   "source": [
    "# Constants and Libraries\n",
    "import os, json\n",
    "from azure.identity import DefaultAzureCredential, get_bearer_token_provider #requires azure-identity\n",
    "from pprint import pprint\n",
    "from dotenv import load_dotenv # requires python-dotenv\n",
    "\n",
    "if not load_dotenv(\"./../../config/credentials_my.env\"):\n",
    "    print(\"Environment variables not loaded, cell execution stopped\")\n",
    "    sys.exit()\n",
    "os.environ[\"AZURE_OPENAI_API_VERSION\"] = os.environ[\"OPENAI_API_VERSION\"]\n",
    "\n",
    "credential = DefaultAzureCredential()"
   ]
  },
  {
   "cell_type": "code",
   "execution_count": 3,
   "id": "4edd78d8-45bd-46ec-aca1-26f28afa8b5b",
   "metadata": {},
   "outputs": [],
   "source": [
    "# Initialize Azure OpenAI connection\n",
    "\n",
    "model_config = {\n",
    "    \"azure_endpoint\": os.environ.get(\"AZURE_OPENAI_ENDPOINT\"),\n",
    "    \"api_key\": os.environ.get(\"AZURE_OPENAI_API_KEY\"),\n",
    "    \"azure_deployment\": os.environ.get(\"MODEL_DEPLOYMENT_NAME\"),\n",
    "    \"api_version\": os.environ.get(\"AZURE_OPENAI_API_VERSION\"),\n",
    "}"
   ]
  },
  {
   "cell_type": "markdown",
   "id": "00dfa9ff-ecb3-47a2-bf9f-798e3ca079bd",
   "metadata": {},
   "source": [
    "## Generate text or index-based synthetic data as input\n",
    "In the first part, we prepare the text for generating the input to our simulator"
   ]
  },
  {
   "cell_type": "code",
   "execution_count": 4,
   "id": "57bf56fd-42e7-4aac-837c-e4a505181885",
   "metadata": {},
   "outputs": [
    {
     "name": "stdout",
     "output_type": "stream",
     "text": [
      "Leonardo di ser Piero da Vinci (15 April 1452 – 2 May 1519) was an Italian polymath of the High Rena...\n"
     ]
    }
   ],
   "source": [
    "import asyncio\n",
    "from azure.identity import DefaultAzureCredential\n",
    "import wikipedia\n",
    "import os\n",
    "from typing import List, Dict, Any, Optional\n",
    "# Prepare the text to send to the simulator\n",
    "wiki_search_term = \"Leonardo da Vinci\"\n",
    "wiki_title = wikipedia.search(wiki_search_term)[0]\n",
    "wiki_page = wikipedia.page(wiki_title)\n",
    "text = wiki_page.summary[:5000]\n",
    "print(f\"{text[:100]}...\")"
   ]
  },
  {
   "cell_type": "markdown",
   "id": "4dfa8dc5-c6fc-4306-a3cd-422cb332d808",
   "metadata": {},
   "source": [
    "## Specify application Prompty\n",
    "The following `application.prompty` file specifies how a chat application behaves."
   ]
  },
  {
   "cell_type": "code",
   "execution_count": 5,
   "id": "ca529b72-ba77-4db9-87a9-21696f4b6d1e",
   "metadata": {},
   "outputs": [
    {
     "name": "stdout",
     "output_type": "stream",
     "text": [
      "Overwriting ./eval_assets/application.prompty\n"
     ]
    }
   ],
   "source": [
    "%%writefile ./eval_assets/application.prompty\n",
    "---\n",
    "name: ApplicationPrompty\n",
    "description: Chat RAG application\n",
    "model:\n",
    "    api: chat\n",
    "    parameters:\n",
    "        temperature: 0.0\n",
    "        top_p: 1.0\n",
    "        presence_penalty: 0\n",
    "        frequency_penalty: 0\n",
    "        response_format:\n",
    "            type: text\n",
    " \n",
    "inputs:\n",
    "    context:\n",
    "        type: string\n",
    "    query:\n",
    "        type: string\n",
    "    conversation_history:\n",
    "        type: dict\n",
    "---\n",
    "system:\n",
    "You are a helpful assistant and you're helping with the user's query. \n",
    "Keep the conversation engaging and interesting.\n",
    "\n",
    "Keep your conversation grounded in the provided context: \n",
    "{{ context }}\n",
    "\n",
    "Output with a string that continues the conversation, responding to \n",
    "the latest message from the user query using it same language:\n",
    "{{ query }}\n",
    "\n",
    "given the conversation history:\n",
    "{{ conversation_history }}"
   ]
  },
  {
   "cell_type": "code",
   "execution_count": 6,
   "id": "6da11cff-7a95-4173-a2ce-3148f7d1aecb",
   "metadata": {},
   "outputs": [
    {
     "name": "stdout",
     "output_type": "stream",
     "text": [
      "('Certo! Ecco una ricetta semplice per preparare una pizza fatta in casa:\\n'\n",
      " '\\n'\n",
      " 'Ingredienti per l’impasto:\\n'\n",
      " '- 500 g di farina 00\\n'\n",
      " '- 300 ml di acqua tiepida\\n'\n",
      " '- 10 g di sale\\n'\n",
      " '- 3 g di lievito di birra secco (oppure 10 g di lievito fresco)\\n'\n",
      " '- 1 cucchiaio di olio extravergine d’oliva\\n'\n",
      " '- 1 cucchiaino di zucchero\\n'\n",
      " '\\n'\n",
      " 'Procedimento:\\n'\n",
      " '1. Sciogli il lievito e lo zucchero nell’acqua tiepida e lascia riposare per '\n",
      " '10 minuti.\\n'\n",
      " '2. In una ciotola capiente, versa la farina e aggiungi il sale. Fai una '\n",
      " 'fontana al centro e versa l’acqua con il lievito e l’olio.\\n'\n",
      " '3. Impasta fino a ottenere un composto liscio ed elastico. Copri con un '\n",
      " 'canovaccio e lascia lievitare per almeno 2 ore, fino al raddoppio del '\n",
      " 'volume.\\n'\n",
      " '4. Stendi l’impasto su una teglia leggermente unta o su carta forno.\\n'\n",
      " '5. Condisci con salsa di pomodoro, mozzarella e gli ingredienti che '\n",
      " 'preferisci (prosciutto, funghi, verdure, ecc.).\\n'\n",
      " '6. Cuoci in forno preriscaldato a 250°C per circa 10-15 minuti, finché la '\n",
      " 'pizza non sarà dorata e croccante.\\n'\n",
      " '\\n'\n",
      " 'Vuoi qualche consiglio su come condirla o preferisci una variante '\n",
      " 'dell’impasto?')\n"
     ]
    }
   ],
   "source": [
    "from promptflow.client import load_flow\n",
    "from pprint import pprint\n",
    "\n",
    "model_config[\"type\"] = \"AzureOpenAI\"\n",
    "\n",
    "prompty_path = \"eval_assets/application.prompty\"\n",
    "flow = load_flow(source=prompty_path, model={\"configuration\": model_config})\n",
    "\n",
    "pprint(flow(context=\"\", query=\"Come preparare una pizza fatta in casa\", conversation_history=[]))"
   ]
  },
  {
   "cell_type": "code",
   "execution_count": 7,
   "id": "811aad51-cd89-4f42-85da-ec1238162f0e",
   "metadata": {},
   "outputs": [
    {
     "data": {
      "text/plain": [
       "'Che bello! È un grande classico, nonostante gli anni fa ancora paura! Lo rivedi per nostalgia o è la prima volta che lo guardi al cinema?'"
      ]
     },
     "execution_count": 7,
     "metadata": {},
     "output_type": "execute_result"
    }
   ],
   "source": [
    "context = \"Conversazione amichevole fra due persone\"\n",
    "\n",
    "conversation_history = [\n",
    "    {\n",
    "        \"content\": \"Cosa fai di bello questa sera?\",\n",
    "        \"role\": \"user\",\n",
    "        \"context\": \"Domanda amichevole\",\n",
    "    },\n",
    "    {\n",
    "        \"content\": \"Vado al cinema\",\n",
    "        \"role\": \"assistant\",\n",
    "        \"context\": \"Esposizione di un'attività ricreativa divertente\",\n",
    "    },\n",
    "    {\n",
    "        \"content\": \"Ah fantastico! Che cosa vai a vedere?\",\n",
    "        \"role\": \"user\",\n",
    "        \"context\": \"Ulteriore domanda amichevole a dimostrare interesse verso l'interlocutore\",\n",
    "    },\n",
    "    {\n",
    "        \"content\": \"Lo SQUALO di Steven Spielberg\",\n",
    "        \"role\": \"assistant\",\n",
    "        \"context\": \"Informazione specifica di un'attività divertente che si intende compiere\",\n",
    "    },\n",
    "]\n",
    "\n",
    "flow(context=conversation_history[-1][\"context\"], query=conversation_history[-1][\"content\"], conversation_history=conversation_history)"
   ]
  },
  {
   "cell_type": "code",
   "execution_count": 8,
   "id": "be6e7524-1305-4844-b5a6-d2f7a3372f65",
   "metadata": {},
   "outputs": [
    {
     "name": "stdout",
     "output_type": "stream",
     "text": [
      "Message 0 - user: Cosa fai di bello questa sera?\n",
      "\n",
      "Message 1 - assistant: Vado al cinema\n",
      "\n",
      "Message 2 - user: Ah fantastico! Che cosa vai a vedere?\n",
      "\n",
      "Message 3 - assistant: Lo SQUALO di Steven Spielberg\n",
      "\n",
      "Message 4 - user: Che bello! Un grande classico, non passa mai di moda. È la prima volta che lo vedi al cinema o lo hai già visto?\n",
      "\n"
     ]
    }
   ],
   "source": [
    "i = 0\n",
    "for ch in conversation_history:\n",
    "    print(f'Message {i} - {ch[\"role\"]}: {ch[\"content\"]}\\n')\n",
    "    i += 1\n",
    "    \n",
    "response = flow(context=conversation_history[-1][\"context\"], query=conversation_history[-1][\"content\"], conversation_history=conversation_history)\n",
    "\n",
    "conversation_history.append({\"content\": response, \"role\": \"user\" if conversation_history[-1][\"role\"]==\"assistant\" else \"assistant\", \"context\": \"\"})\n",
    "print(f'Message {i} - {conversation_history[-1][\"role\"]}: {conversation_history[-1][\"content\"]}\\n')"
   ]
  },
  {
   "cell_type": "markdown",
   "id": "4b5a7e0c-ae71-43f8-8422-3d62a6a10e70",
   "metadata": {},
   "source": [
    "## Specify target callback to simulate against\n",
    "You can bring any application endpoint to simulate against by specifying a target callback function such as the following given an application that is an LLM with a Prompty file like `application.prompty`"
   ]
  },
  {
   "cell_type": "code",
   "execution_count": 9,
   "id": "4e4e2868-cd07-403e-a475-6cd468102065",
   "metadata": {},
   "outputs": [],
   "source": [
    "async def callback(\n",
    "    messages: Dict,\n",
    "    stream: bool = False,\n",
    "    session_state: Any = None,  # noqa: ANN401\n",
    "    context: Optional[Dict[str, Any]] = None,\n",
    "    subfolder: str = \"eval_assets\",\n",
    ") -> dict:\n",
    "    messages_list = messages[\"messages\"]\n",
    "    # Get the last message\n",
    "    latest_message = messages_list[-1]\n",
    "    query = latest_message[\"content\"]\n",
    "    context = latest_message.get(\"context\", None) # looks for context, default None\n",
    "    # Call your endpoint or AI application here\n",
    "    prompty_path = os.path.join(os.getcwd(), subfolder, \"application.prompty\") \n",
    "    _flow = load_flow(source=prompty_path, model={\"configuration\": model_config})\n",
    "    response = _flow(query=query, context=context, conversation_history=messages_list)\n",
    "    # Format the response to follow the OpenAI chat protocol\n",
    "    formatted_response = {\n",
    "        \"content\": response,\n",
    "        \"role\": \"user\" if conversation_history[-1][\"role\"]==\"assistant\" else \"assistant\",\n",
    "        \"context\": context,\n",
    "    }\n",
    "    messages[\"messages\"].append(formatted_response)\n",
    "    return {\n",
    "        \"messages\": messages[\"messages\"],\n",
    "        \"stream\": stream,\n",
    "        \"session_state\": session_state,\n",
    "        \"context\": context\n",
    "    }"
   ]
  },
  {
   "cell_type": "code",
   "execution_count": 10,
   "id": "ae73503b-a94b-4002-9672-5ee34a6011ff",
   "metadata": {},
   "outputs": [
    {
     "name": "stderr",
     "output_type": "stream",
     "text": [
      "Class Simulator: This is an experimental class, and may change at any time. Please see https://aka.ms/azuremlexperimental for more information.\n"
     ]
    }
   ],
   "source": [
    "from azure.ai.evaluation.simulator import Simulator\n",
    "# model_config[\"type\"] = \"AzureOpenAI\" # \"azure_openai\" or \"AzureOpenAI\" \n",
    "simulator = Simulator(model_config=model_config)"
   ]
  },
  {
   "cell_type": "code",
   "execution_count": 11,
   "id": "4a38f46a-f767-4449-8fe9-af8ab99233d1",
   "metadata": {},
   "outputs": [
    {
     "name": "stderr",
     "output_type": "stream",
     "text": [
      "C:\\Users\\mauromi\\.conda\\envs\\genai_evaluation\\Lib\\site-packages\\azure\\ai\\evaluation\\simulator\\_simulator.py:152: UserWarning: You have specified 'num_queries' > len('tasks') (1 > 0). All tasks will be used for generation and the remaining 1 lines will be simulated in task-free mode\n",
      "  warnings.warn(\n",
      "Generating: 100%|████████████████████████████████████████████████| 5/5 [00:37<00:00,  7.58s/message]\n"
     ]
    }
   ],
   "source": [
    "outputs = await simulator(\n",
    "    target=callback,\n",
    "    text=\"Il Duomo di Milano è una delle cattedrali più iconiche al mondo e il simbolo della città. La sua costruzione iniziò nel 1386 e si protrasse per secoli, con il completamento ufficiale nel 1932. È la chiesa più grande d'Italia e una delle più imponenti a livello mondiale\",# text,\n",
    "    num_queries=1,  # Minimal number of queries\n",
    ")"
   ]
  },
  {
   "cell_type": "code",
   "execution_count": 12,
   "id": "a09c66be-ba7a-4cee-8e58-b4b89347708f",
   "metadata": {},
   "outputs": [
    {
     "data": {
      "text/plain": [
       "[{'messages': [{'role': 'user',\n",
       "    'content': 'In which year did the construction of Il Duomo di Milano officially complete?',\n",
       "    'context': 'None'},\n",
       "   {'role': 'assistant',\n",
       "    'content': 'The construction of Il Duomo di Milano (Milan Cathedral) was officially completed in 1965, although the main structure was largely finished by 1813. The cathedral took nearly six centuries to complete!',\n",
       "    'context': 'None'},\n",
       "   {'role': 'user',\n",
       "    'content': \"That's fascinating! What architectural styles are represented in the design of Il Duomo di Milano?\",\n",
       "    'context': 'None'},\n",
       "   {'role': 'assistant',\n",
       "    'content': 'Il Duomo di Milano is a remarkable blend of architectural styles, primarily showcasing Gothic architecture with its pointed arches, ribbed vaults, and an abundance of spires and statues. However, because its construction spanned several centuries, you can also find elements of Renaissance, Baroque, and even some Neoclassical influences in its design. The intricate façade, for example, was completed much later and reflects a mix of these styles, making the cathedral a true testament to the evolving tastes and techniques of different eras. Would you like to know more about any specific features or details of its architecture?',\n",
       "    'context': 'None'},\n",
       "   {'role': 'user',\n",
       "    'content': \"Yes, I'd love to know more about the famous statues and sculptures that adorn the cathedral. Are there any particularly notable or unique ones that stand out?\",\n",
       "    'context': 'None'},\n",
       "   {'role': 'assistant',\n",
       "    'content': 'Absolutely! Il Duomo di Milano is renowned for its incredible array of statues and sculptures—there are over 3,400 statues, 135 gargoyles, and 700 figures that decorate the cathedral, making it one of the most ornamented buildings in the world.\\n\\nOne of the most famous statues is the golden Madonnina, a statue of the Virgin Mary that stands atop the cathedral’s highest spire. Installed in 1774, the Madonnina has become a symbol of Milan itself, and by tradition, no building in Milan is allowed to be taller than this statue.\\n\\nAnother unique feature is the variety of gargoyles and fantastical creatures that serve both decorative and practical purposes (as water spouts). Some of these are quite whimsical and even include modern additions—like a statue resembling a boxer and another that looks like a dinosaur, added during restoration works in the 20th century!\\n\\nInside, you’ll find impressive sculptures such as the statue of Saint Bartholomew Flayed, created by Marco d’Agrate in 1562. This striking statue depicts the saint holding his own flayed skin, showcasing both artistic mastery and anatomical detail.\\n\\nWould you like to hear more about the stories behind any of these statues, or perhaps about the artists who created them?',\n",
       "    'context': 'None'},\n",
       "   {'role': 'user',\n",
       "    'content': \"I'm especially intrigued by the Madonnina statue and its significance to Milan. Could you tell me more about the history and symbolism of the Madonnina, and how it became such an important icon for the city?\",\n",
       "    'context': 'None'},\n",
       "   {'role': 'assistant',\n",
       "    'content': 'Absolutely, the Madonnina is truly the heart and soul of Milan! The statue was installed in 1774 and stands at about 4 meters (13 feet) tall, made of gilded copper. She sits atop the cathedral’s highest spire, reaching a total height of 108.5 meters (356 feet), and for centuries, she was the highest point in Milan.\\n\\nThe Madonnina represents the Virgin Mary, who is the patron saint of Milan. Her placement at the pinnacle of the Duomo was both a spiritual and civic gesture—she was meant to watch over and protect the city and its people. The tradition that no building in Milan should surpass the height of the Madonnina is a testament to her symbolic importance. Even today, when modern skyscrapers like the Pirelli Tower and the Unicredit Tower were built, small replicas of the Madonnina were placed on their rooftops to honor this tradition and ensure that she always \"looks down\" on Milan.\\n\\nOver time, the Madonnina has become a beloved symbol of Milanese identity and resilience. She’s often referenced in local songs, literature, and even in the city’s football culture—fans of AC Milan and Inter Milan both invoke her for good luck! During times of crisis or celebration, the Madonnina is illuminated or adorned, reinforcing her role as a guardian and unifying figure for the city.\\n\\nWould you like to know more about the traditions or stories associated with the Madonnina, or perhaps how she’s maintained and cared for today?',\n",
       "    'context': 'None'},\n",
       "   {'role': 'user',\n",
       "    'content': \"Thank you for sharing all that fascinating information! I'm curious—how is the Madonnina statue maintained, given its height and exposure to the elements? Are there any special ceremonies or events related to its upkeep or restoration?\",\n",
       "    'context': 'None'},\n",
       "   {'role': 'assistant',\n",
       "    'content': 'Great question! Maintaining the Madonnina is quite an undertaking, given her lofty perch and exposure to wind, rain, and pollution. Regular inspections are carried out by specialized teams of restorers and climbers, who use scaffolding or even cranes to reach the statue. Every few years, the Madonnina undergoes a thorough cleaning and restoration to preserve her golden shine—this often involves reapplying gold leaf to keep her gleaming above the city.\\n\\nOne of the most significant recent restorations took place in 2012, when the statue was carefully removed by helicopter for a complete refurbishment and then returned to her spire. This event was widely covered in the media and watched by many Milanese, highlighting just how beloved she is.\\n\\nThere’s also a special tradition called the “Festa della Madonnina,” celebrated on December 7th, which is Milan’s patron saint day (also known as the Feast of Saint Ambrose). On this day, the Madonnina is often illuminated, and the city holds various festivities in her honor.\\n\\nThe care and reverence for the Madonnina reflect her deep significance to Milan—not just as a work of art, but as a symbol of protection and unity for the city. Would you like to know more about other traditions connected to the Duomo or perhaps about the techniques used in restoring such historic monuments?',\n",
       "    'context': 'None'}],\n",
       "  'finish_reason': ['stop'],\n",
       "  'context': {'task': None,\n",
       "   'expected_response': '1932',\n",
       "   'query': 'In which year did the construction of Il Duomo di Milano officially complete?',\n",
       "   'original_text': \"Il Duomo di Milano è una delle cattedrali più iconiche al mondo e il simbolo della città. La sua costruzione iniziò nel 1386 e si protrasse per secoli, con il completamento ufficiale nel 1932. È la chiesa più grande d'Italia e una delle più imponenti a livello mondiale\"},\n",
       "  '$schema': 'http://azureml/sdk-2-0/ChatConversation.json'}]"
      ]
     },
     "execution_count": 12,
     "metadata": {},
     "output_type": "execute_result"
    }
   ],
   "source": [
    "outputs"
   ]
  },
  {
   "cell_type": "code",
   "execution_count": 13,
   "id": "590db99a-12b5-4abe-92ea-ac12b4e2bf64",
   "metadata": {},
   "outputs": [
    {
     "name": "stdout",
     "output_type": "stream",
     "text": [
      "Message 0 - user: In which year did the construction of Il Duomo di Milano officially complete?\n",
      "\n",
      "Message 1 - assistant: The construction of Il Duomo di Milano (Milan Cathedral) was officially completed in 1965, although the main structure was largely finished by 1813. The cathedral took nearly six centuries to complete!\n",
      "\n",
      "Message 2 - user: That's fascinating! What architectural styles are represented in the design of Il Duomo di Milano?\n",
      "\n",
      "Message 3 - assistant: Il Duomo di Milano is a remarkable blend of architectural styles, primarily showcasing Gothic architecture with its pointed arches, ribbed vaults, and an abundance of spires and statues. However, because its construction spanned several centuries, you can also find elements of Renaissance, Baroque, and even some Neoclassical influences in its design. The intricate façade, for example, was completed much later and reflects a mix of these styles, making the cathedral a true testament to the evolving tastes and techniques of different eras. Would you like to know more about any specific features or details of its architecture?\n",
      "\n",
      "Message 4 - user: Yes, I'd love to know more about the famous statues and sculptures that adorn the cathedral. Are there any particularly notable or unique ones that stand out?\n",
      "\n",
      "Message 5 - assistant: Absolutely! Il Duomo di Milano is renowned for its incredible array of statues and sculptures—there are over 3,400 statues, 135 gargoyles, and 700 figures that decorate the cathedral, making it one of the most ornamented buildings in the world.\n",
      "\n",
      "One of the most famous statues is the golden Madonnina, a statue of the Virgin Mary that stands atop the cathedral’s highest spire. Installed in 1774, the Madonnina has become a symbol of Milan itself, and by tradition, no building in Milan is allowed to be taller than this statue.\n",
      "\n",
      "Another unique feature is the variety of gargoyles and fantastical creatures that serve both decorative and practical purposes (as water spouts). Some of these are quite whimsical and even include modern additions—like a statue resembling a boxer and another that looks like a dinosaur, added during restoration works in the 20th century!\n",
      "\n",
      "Inside, you’ll find impressive sculptures such as the statue of Saint Bartholomew Flayed, created by Marco d’Agrate in 1562. This striking statue depicts the saint holding his own flayed skin, showcasing both artistic mastery and anatomical detail.\n",
      "\n",
      "Would you like to hear more about the stories behind any of these statues, or perhaps about the artists who created them?\n",
      "\n",
      "Message 6 - user: I'm especially intrigued by the Madonnina statue and its significance to Milan. Could you tell me more about the history and symbolism of the Madonnina, and how it became such an important icon for the city?\n",
      "\n",
      "Message 7 - assistant: Absolutely, the Madonnina is truly the heart and soul of Milan! The statue was installed in 1774 and stands at about 4 meters (13 feet) tall, made of gilded copper. She sits atop the cathedral’s highest spire, reaching a total height of 108.5 meters (356 feet), and for centuries, she was the highest point in Milan.\n",
      "\n",
      "The Madonnina represents the Virgin Mary, who is the patron saint of Milan. Her placement at the pinnacle of the Duomo was both a spiritual and civic gesture—she was meant to watch over and protect the city and its people. The tradition that no building in Milan should surpass the height of the Madonnina is a testament to her symbolic importance. Even today, when modern skyscrapers like the Pirelli Tower and the Unicredit Tower were built, small replicas of the Madonnina were placed on their rooftops to honor this tradition and ensure that she always \"looks down\" on Milan.\n",
      "\n",
      "Over time, the Madonnina has become a beloved symbol of Milanese identity and resilience. She’s often referenced in local songs, literature, and even in the city’s football culture—fans of AC Milan and Inter Milan both invoke her for good luck! During times of crisis or celebration, the Madonnina is illuminated or adorned, reinforcing her role as a guardian and unifying figure for the city.\n",
      "\n",
      "Would you like to know more about the traditions or stories associated with the Madonnina, or perhaps how she’s maintained and cared for today?\n",
      "\n",
      "Message 8 - user: Thank you for sharing all that fascinating information! I'm curious—how is the Madonnina statue maintained, given its height and exposure to the elements? Are there any special ceremonies or events related to its upkeep or restoration?\n",
      "\n",
      "Message 9 - assistant: Great question! Maintaining the Madonnina is quite an undertaking, given her lofty perch and exposure to wind, rain, and pollution. Regular inspections are carried out by specialized teams of restorers and climbers, who use scaffolding or even cranes to reach the statue. Every few years, the Madonnina undergoes a thorough cleaning and restoration to preserve her golden shine—this often involves reapplying gold leaf to keep her gleaming above the city.\n",
      "\n",
      "One of the most significant recent restorations took place in 2012, when the statue was carefully removed by helicopter for a complete refurbishment and then returned to her spire. This event was widely covered in the media and watched by many Milanese, highlighting just how beloved she is.\n",
      "\n",
      "There’s also a special tradition called the “Festa della Madonnina,” celebrated on December 7th, which is Milan’s patron saint day (also known as the Feast of Saint Ambrose). On this day, the Madonnina is often illuminated, and the city holds various festivities in her honor.\n",
      "\n",
      "The care and reverence for the Madonnina reflect her deep significance to Milan—not just as a work of art, but as a symbol of protection and unity for the city. Would you like to know more about other traditions connected to the Duomo or perhaps about the techniques used in restoring such historic monuments?\n",
      "\n"
     ]
    }
   ],
   "source": [
    "i = 0\n",
    "for ch in outputs[0][\"messages\"]:\n",
    "    print(f'Message {i} - {ch[\"role\"]}: {ch[\"content\"]}\\n')\n",
    "    i += 1"
   ]
  }
 ],
 "metadata": {
  "kernelspec": {
   "display_name": "Generative AI evaluation",
   "language": "python",
   "name": "genai_evaluation"
  },
  "language_info": {
   "codemirror_mode": {
    "name": "ipython",
    "version": 3
   },
   "file_extension": ".py",
   "mimetype": "text/x-python",
   "name": "python",
   "nbconvert_exporter": "python",
   "pygments_lexer": "ipython3",
   "version": "3.12.9"
  }
 },
 "nbformat": 4,
 "nbformat_minor": 5
}
