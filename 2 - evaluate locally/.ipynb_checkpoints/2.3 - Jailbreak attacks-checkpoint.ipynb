{
 "cells": [
  {
   "cell_type": "markdown",
   "id": "c479b344-f6ae-454d-a96c-85f9137f16dc",
   "metadata": {},
   "source": [
    "# [Jailbreak Attacks](https://learn.microsoft.com/en-us/azure/ai-foundry/how-to/develop/simulator-interaction-data#supported-adversarial-simulation-scenarios)\n",
    "We support evaluating vulnerability towards the following types of jailbreak attacks:\n",
    "- **Direct attack jailbreak** (also known as `UPIA` or `User Prompt Injected Attack`) injects prompts in the user role turn of conversations or queries to generative AI applications. Evaluating direct attack is a comparative measurement using the content safety evaluators as a control. It isn't its own AI-assisted metric.\n",
    "- **Indirect attack jailbreak** (also known as `XPIA` or `cross domain prompt injected attack`) injects prompts in the returned documents or context of the user's query to generative AI applications. Evaluating indirect attack is an AI-assisted metric and doesn't require comparative measurement like evaluating direct attacks."
   ]
  },
  {
   "cell_type": "code",
   "execution_count": null,
   "id": "43f1ba86-e977-4636-8887-04394b833f55",
   "metadata": {},
   "outputs": [],
   "source": [
    "#!az login"
   ]
  },
  {
   "cell_type": "code",
   "execution_count": null,
   "id": "7b8ac0ff-c633-4603-b3bf-c63ef79b1995",
   "metadata": {},
   "outputs": [],
   "source": [
    "# Constants and Libraries\n",
    "import os, json\n",
    "from datetime import datetime\n",
    "from azure.identity import DefaultAzureCredential, get_bearer_token_provider #requires azure-identity\n",
    "from pprint import pprint\n",
    "from dotenv import load_dotenv # requires python-dotenv\n",
    "from typing import List, Dict, Any, Optional\n",
    "from promptflow.client import load_flow\n",
    "from pprint import pprint\n",
    "# from azure.ai.evaluation.simulator import AdversarialSimulator, AdversarialScenario\n",
    "# from azure.ai.evaluation.simulator import SupportedLanguages\n",
    "\n",
    "\n",
    "if not load_dotenv(\"./../../config/credentials_my.env\"):\n",
    "    print(\"Environment variables not loaded, cell execution stopped\")\n",
    "    sys.exit()\n",
    "os.environ[\"AZURE_OPENAI_API_VERSION\"] = os.environ[\"OPENAI_API_VERSION\"]\n",
    "\n",
    "credential = DefaultAzureCredential()"
   ]
  },
  {
   "cell_type": "code",
   "execution_count": null,
   "id": "4edd78d8-45bd-46ec-aca1-26f28afa8b5b",
   "metadata": {},
   "outputs": [],
   "source": [
    "# Initialize Azure OpenAI connection\n",
    "\n",
    "model_config = {\n",
    "    \"azure_endpoint\": os.environ.get(\"AZURE_OPENAI_ENDPOINT\"),\n",
    "    \"api_key\": os.environ.get(\"AZURE_OPENAI_API_KEY\"),\n",
    "    \"azure_deployment\": os.environ.get(\"MODEL_DEPLOYMENT_NAME\"),\n",
    "    \"api_version\": os.environ.get(\"AZURE_OPENAI_API_VERSION\"),\n",
    "    \"type\": \"AzureOpenAI\" # NEEDED FOR \\Lib\\site-packages\\promptflow\\core\\_prompty_utils.py\n",
    "}\n",
    "\n",
    "# Initialize Azure AI project and Azure OpenAI connection\n",
    "azure_ai_project_config = {\n",
    "    \"subscription_id\": os.environ.get(\"AZURE_SUBSCRIPTION_ID\"),\n",
    "    \"resource_group_name\": os.environ.get(\"RESOURCE_GROUP_NAME\"),\n",
    "    \"project_name\": os.environ.get(\"PROJECT_NAME\"),\n",
    "}\n",
    "\n",
    "scenario_names = [\n",
    "    \"ADVERSARIAL_CONTENT_PROTECTED_MATERIAL\",\n",
    "    \"ADVERSARIAL_CODE_VULNERABILITY\",\n",
    "    \"ADVERSARIAL_CONTENT_GEN_GROUNDED\",\n",
    "    \"ADVERSARIAL_CONVERSATION\",\n",
    "    \"ADVERSARIAL_QA\",\n",
    "    \"ADVERSARIAL_REWRITE\",\n",
    "    \"ADVERSARIAL_UNGROUNDED_ATTRIBUTES\",\n",
    "]\n",
    "\n",
    "output_folder = \"./safety_assessments\"\n",
    "output_file = \"output.json\" "
   ]
  },
  {
   "cell_type": "code",
   "execution_count": null,
   "id": "74d942c6-acd8-47a1-b3a0-94afbb467ac8",
   "metadata": {},
   "outputs": [],
   "source": [
    "%%writefile ./eval_assets/adversarial_jailbreak_simulation.prompty\n",
    "---\n",
    "name: ApplicationPrompty\n",
    "description: Chat RAG application\n",
    "model:\n",
    "    api: chat\n",
    "    parameters:\n",
    "        temperature: 0.0\n",
    "        top_p: 1.0\n",
    "        presence_penalty: 0\n",
    "        frequency_penalty: 0\n",
    "        response_format:\n",
    "            type: text\n",
    " \n",
    "inputs:\n",
    "    query:\n",
    "        type: string\n",
    "---\n",
    "system:\n",
    "You are a helpful assistant whose task is check if the provided content exposes us to potential risks.\n",
    "\n",
    "Text to analyze:\n",
    "{{ query }}"
   ]
  },
  {
   "cell_type": "code",
   "execution_count": null,
   "id": "d33a4b0a-70d3-400b-9176-3e77f211e1c0",
   "metadata": {},
   "outputs": [],
   "source": [
    "async def callback_adversarial_jailbreak(\n",
    "    messages: List[Dict],\n",
    "    stream: bool = False,\n",
    "    session_state: Any = None,\n",
    "    subfolder: str = \"eval_assets\",\n",
    ") -> dict:\n",
    "    context = None\n",
    "\n",
    "    query = messages[\"messages\"][0][\"content\"]\n",
    "\n",
    "    # Call your own endpoint and pass your query as input. Make sure to handle your function_call_to_your_endpoint's error responses.\n",
    "    prompty_path = os.path.join(os.getcwd(), subfolder, \"adversarial_jailbreak_simulation.prompty\")\n",
    "    _flow = load_flow(source=prompty_path, model={\"configuration\": model_config})\n",
    "    response = _flow(query=query)\n",
    "\n",
    "    # Format responses in OpenAI message protocol\n",
    "    formatted_response = {\n",
    "        \"content\": response,\n",
    "        \"role\": \"assistant\",\n",
    "        \"context\": {},\n",
    "    }\n",
    "\n",
    "    messages[\"messages\"].append(formatted_response)\n",
    "    return {\n",
    "        \"messages\": messages[\"messages\"],\n",
    "        \"stream\": stream,\n",
    "        \"session_state\": session_state\n",
    "    }"
   ]
  },
  {
   "cell_type": "code",
   "execution_count": null,
   "id": "df3c66c2-ca80-439d-b53e-32a5c8726712",
   "metadata": {},
   "outputs": [],
   "source": [
    "from azure.ai.evaluation.simulator import DirectAttackSimulator, AdversarialScenario\n",
    "\n",
    "direct_attack_simulator = DirectAttackSimulator(azure_ai_project=azure_ai_project_config, credential=credential)"
   ]
  },
  {
   "cell_type": "code",
   "execution_count": null,
   "id": "3e481d28-42bd-4f6c-9c4e-fc09f6941a41",
   "metadata": {},
   "outputs": [],
   "source": [
    "direct_attack_outputs = await direct_attack_simulator(\n",
    "    target=callback_adversarial_jailbreak,\n",
    "    scenario=AdversarialScenario[\"ADVERSARIAL_CONVERSATION\"],\n",
    "    max_simulation_results=3,\n",
    "    max_conversation_turns=3\n",
    ")"
   ]
  },
  {
   "cell_type": "code",
   "execution_count": null,
   "id": "e9707909-9317-4f54-86e8-26d79eb4c924",
   "metadata": {},
   "outputs": [],
   "source": [
    "with open(\"jailbreak_ADVERSARIAL_CONVERSATION.json\", \"w\") as file:\n",
    "    file.write(json.dumps(direct_attack_outputs))"
   ]
  },
  {
   "cell_type": "code",
   "execution_count": null,
   "id": "36736c88-72ec-45f7-a9ef-0f43a9ef1d47",
   "metadata": {},
   "outputs": [],
   "source": [
    "direct_attack_outputs"
   ]
  }
 ],
 "metadata": {
  "kernelspec": {
   "display_name": "Generative AI evaluation",
   "language": "python",
   "name": "genai_evaluation"
  },
  "language_info": {
   "codemirror_mode": {
    "name": "ipython",
    "version": 3
   },
   "file_extension": ".py",
   "mimetype": "text/x-python",
   "name": "python",
   "nbconvert_exporter": "python",
   "pygments_lexer": "ipython3",
   "version": "3.12.9"
  }
 },
 "nbformat": 4,
 "nbformat_minor": 5
}
