{
 "cells": [
  {
   "cell_type": "markdown",
   "id": "c479b344-f6ae-454d-a96c-85f9137f16dc",
   "metadata": {},
   "source": [
    "# [Generate synthetic and simulated data for evaluation](https://learn.microsoft.com/en-us/azure/ai-foundry/how-to/develop/simulator-interaction-data)\n",
    "**Azure AI Evaluation SDK's** `Simulator` provides an end-to-end synthetic data generation capability to help developers test their application's response to typical user queries in the absence of production data. AI developers can use an index or text-based query generator and fully customizable simulator to create robust test datasets around non-adversarial tasks specific to their application. The `Simulator` class is a powerful tool designed to generate synthetic conversations and simulate task-based interactions. This capability is useful for:\n",
    "- **Testing Conversational Applications**: Ensure your chatbots and virtual assistants respond accurately under various scenarios.\n",
    "- **Training AI Models**: Generate diverse datasets to train and fine-tune machine learning models.\n",
    "- **Generating Datasets**: Create extensive conversation logs for analysis and development purposes.\n",
    "By automating the creation of synthetic data, the Simulator class helps streamline the development and testing processes, ensuring your applications are robust and reliable.\n",
    "<br/>\n",
    "By automating the creation of synthetic data, the `Simulator` class helps streamline the development and testing processes, ensuring your applications are robust and reliable."
   ]
  },
  {
   "cell_type": "code",
   "execution_count": 1,
   "id": "43f1ba86-e977-4636-8887-04394b833f55",
   "metadata": {},
   "outputs": [],
   "source": [
    "# !az login"
   ]
  },
  {
   "cell_type": "code",
   "execution_count": 2,
   "id": "7b8ac0ff-c633-4603-b3bf-c63ef79b1995",
   "metadata": {},
   "outputs": [],
   "source": [
    "# Constants and Libraries\n",
    "import os, json\n",
    "from azure.identity import DefaultAzureCredential, get_bearer_token_provider #requires azure-identity\n",
    "from pprint import pprint\n",
    "from dotenv import load_dotenv # requires python-dotenv\n",
    "\n",
    "if not load_dotenv(\"./../../config/credentials_my.env\"):\n",
    "    print(\"Environment variables not loaded, cell execution stopped\")\n",
    "    sys.exit()\n",
    "os.environ[\"AZURE_OPENAI_API_VERSION\"] = os.environ[\"OPENAI_API_VERSION\"]\n",
    "\n",
    "credential = DefaultAzureCredential()"
   ]
  },
  {
   "cell_type": "code",
   "execution_count": 3,
   "id": "4edd78d8-45bd-46ec-aca1-26f28afa8b5b",
   "metadata": {},
   "outputs": [],
   "source": [
    "# Initialize Azure AI project and Azure OpenAI connection\n",
    "azure_ai_project = {\n",
    "    \"subscription_id\": os.environ.get(\"AZURE_SUBSCRIPTION_ID\"),\n",
    "    \"resource_group_name\": os.environ.get(\"RESOURCE_GROUP_NAME\"),\n",
    "    \"project_name\": os.environ.get(\"PROJECT_NAME\"),\n",
    "}\n",
    "\n",
    "model_config = {\n",
    "    \"azure_endpoint\": os.environ.get(\"AZURE_OPENAI_ENDPOINT\"),\n",
    "    \"api_key\": os.environ.get(\"AZURE_OPENAI_API_KEY\"),\n",
    "    \"azure_deployment\": os.environ.get(\"AZURE_OPENAI_CHAT_DEPLOYMENT_NAME\"),\n",
    "    \"api_version\": os.environ.get(\"AZURE_OPENAI_API_VERSION\"),\n",
    "}"
   ]
  },
  {
   "cell_type": "markdown",
   "id": "00dfa9ff-ecb3-47a2-bf9f-798e3ca079bd",
   "metadata": {},
   "source": [
    "## Generate text or index-based synthetic data as input\n",
    "In the first part, we prepare the text for generating the input to our simulator"
   ]
  },
  {
   "cell_type": "code",
   "execution_count": 4,
   "id": "57bf56fd-42e7-4aac-837c-e4a505181885",
   "metadata": {},
   "outputs": [
    {
     "name": "stdout",
     "output_type": "stream",
     "text": [
      "Leonardo di ser Piero da Vinci (15 April 1452 – 2 May 1519) was an Italian polymath of the High Rena...\n"
     ]
    }
   ],
   "source": [
    "import asyncio\n",
    "from azure.identity import DefaultAzureCredential\n",
    "import wikipedia\n",
    "import os\n",
    "from typing import List, Dict, Any, Optional\n",
    "# Prepare the text to send to the simulator\n",
    "wiki_search_term = \"Leonardo da Vinci\"\n",
    "wiki_title = wikipedia.search(wiki_search_term)[0]\n",
    "wiki_page = wikipedia.page(wiki_title)\n",
    "text = wiki_page.summary[:5000]\n",
    "print(f\"{text[:100]}...\")"
   ]
  },
  {
   "cell_type": "markdown",
   "id": "4dfa8dc5-c6fc-4306-a3cd-422cb332d808",
   "metadata": {},
   "source": [
    "## Specify application Prompty\n",
    "The following `application.prompty` file specifies how a chat application behaves."
   ]
  },
  {
   "cell_type": "code",
   "execution_count": 5,
   "id": "ca529b72-ba77-4db9-87a9-21696f4b6d1e",
   "metadata": {},
   "outputs": [
    {
     "name": "stdout",
     "output_type": "stream",
     "text": [
      "Overwriting ./eval_assets/application.prompty\n"
     ]
    }
   ],
   "source": [
    "%%writefile ./eval_assets/application.prompty\n",
    "---\n",
    "name: ApplicationPrompty\n",
    "description: Chat RAG application\n",
    "model:\n",
    "    api: chat\n",
    "    parameters:\n",
    "        temperature: 0.0\n",
    "        top_p: 1.0\n",
    "        presence_penalty: 0\n",
    "        frequency_penalty: 0\n",
    "        response_format:\n",
    "            type: text\n",
    " \n",
    "inputs:\n",
    "    context:\n",
    "        type: string\n",
    "    query:\n",
    "        type: string\n",
    "    conversation_history:\n",
    "        type: dict\n",
    "---\n",
    "system:\n",
    "You are a helpful assistant and you're helping with the user's query. \n",
    "Keep the conversation engaging and interesting.\n",
    "\n",
    "Keep your conversation grounded in the provided context: \n",
    "{{ context }}\n",
    "\n",
    "Output with a string that continues the conversation, responding to \n",
    "the latest message from the user query using it same language:\n",
    "{{ query }}\n",
    "\n",
    "given the conversation history:\n",
    "{{ conversation_history }}"
   ]
  },
  {
   "cell_type": "code",
   "execution_count": 9,
   "id": "6da11cff-7a95-4173-a2ce-3148f7d1aecb",
   "metadata": {},
   "outputs": [
    {
     "data": {
      "text/plain": [
       "'Certo! Ecco una ricetta semplice per preparare una pizza fatta in casa:\\n\\nIngredienti per l’impasto:\\n- 500 g di farina 00\\n- 300 ml di acqua tiepida\\n- 10 g di sale\\n- 3 g di lievito di birra secco (oppure 10 g fresco)\\n- 1 cucchiaio di olio extravergine d’oliva\\n\\nProcedimento:\\n1. Sciogli il lievito in poca acqua tiepida.\\n2. In una ciotola capiente, versa la farina e aggiungi il lievito sciolto.\\n3. Inizia a impastare aggiungendo gradualmente l’acqua. Quando l’impasto inizia a formarsi, aggiungi il sale e l’olio.\\n4. Continua a impastare fino a ottenere un impasto liscio ed elastico (circa 10 minuti).\\n5. Copri la ciotola con un panno e lascia lievitare per almeno 2 ore, fino al raddoppio del volume.\\n6. Stendi l’impasto su una teglia leggermente unta o su carta forno.\\n7. Condisci con salsa di pomodoro, mozzarella e gli ingredienti che preferisci.\\n8. Cuoci in forno preriscaldato a 250°C per circa 10-15 minuti, finché la pizza non è dorata e croccante.\\n\\nVuoi qualche consiglio su come condirla o preferisci una variante dell’impasto?'"
      ]
     },
     "execution_count": 9,
     "metadata": {},
     "output_type": "execute_result"
    }
   ],
   "source": [
    "from promptflow.client import load_flow\n",
    "\n",
    "model_config[\"type\"] = \"AzureOpenAI\"\n",
    "\n",
    "prompty_path = \"eval_assets/application.prompty\"\n",
    "flow = load_flow(source=prompty_path, model={\"configuration\": model_config})\n",
    "\n",
    "flow(context=\"\", query=\"Come preparare una pizza fatta in casa\", conversation_history=[])"
   ]
  },
  {
   "cell_type": "code",
   "execution_count": 46,
   "id": "811aad51-cd89-4f42-85da-ec1238162f0e",
   "metadata": {},
   "outputs": [
    {
     "data": {
      "text/plain": [
       "'Che bello! È un grande classico, non passa mai di moda. Lo rivedi per nostalgia o è la prima volta che lo guardi al cinema?'"
      ]
     },
     "execution_count": 46,
     "metadata": {},
     "output_type": "execute_result"
    }
   ],
   "source": [
    "context = \"Conversazione amichevole fra due persone\"\n",
    "\n",
    "query = \"Lo SQUALO di Steven Spielberg\"\n",
    "\n",
    "conversation_history = [\n",
    "    {\n",
    "        \"content\": \"Cosa fai di bello questa sera?\",\n",
    "        \"role\": \"user\",\n",
    "        \"context\": \"Domanda amichevole\",\n",
    "    },\n",
    "    {\n",
    "        \"content\": \"Vado al cinema\",\n",
    "        \"role\": \"assistant\",\n",
    "        \"context\": \"Esposizione di un'attività ricreativa divertente\",\n",
    "    },\n",
    "    {\n",
    "        \"content\": \"Ah fantastico! Che cosa vai a vedere?\",\n",
    "        \"role\": \"user\",\n",
    "        \"context\": \"Ulteriore domanda amichevole a dimostrare interesse verso l'interlocutore\",\n",
    "    },\n",
    "    {\n",
    "        \"content\": \"Lo SQUALO di Steven Spielberg\",\n",
    "        \"role\": \"assistant\",\n",
    "        \"context\": \"Informazione specifica di un'attività divertente che si intende compiere\",\n",
    "    },\n",
    "]\n",
    "\n",
    "flow(context=conversation_history[-1][\"context\"], query=conversation_history[-1][\"content\"], conversation_history=conversation_history)"
   ]
  },
  {
   "cell_type": "code",
   "execution_count": 53,
   "id": "be6e7524-1305-4844-b5a6-d2f7a3372f65",
   "metadata": {},
   "outputs": [
    {
     "name": "stdout",
     "output_type": "stream",
     "text": [
      "Message 0 - user: Cosa fai di bello questa sera?\n",
      "\n",
      "Message 1 - assistant: Vado al cinema\n",
      "\n",
      "Message 2 - user: Ah fantastico! Che cosa vai a vedere?\n",
      "\n",
      "Message 3 - assistant: Lo SQUALO di Steven Spielberg\n",
      "\n",
      "Message 4 - user: Che bello! È un grande classico, nonostante gli anni fa ancora paura! Vai da solo o in compagnia?\n",
      "\n",
      "Message 5 - user: Vado con un paio di amici, così se ci spaventiamo almeno possiamo ridere insieme! Tu l’hai mai visto al cinema o solo in TV?\n",
      "\n",
      "Message 6 - user: L’ho visto solo in TV, purtroppo! Deve essere tutta un’altra esperienza vederlo sul grande schermo, con l’audio che ti fa saltare sulla sedia a ogni nota della colonna sonora. Fammi sapere poi com’è stato, sono curioso di sapere se vi siete spaventati davvero!\n",
      "\n",
      "Message 7 - user: Promesso, ti aggiornerò! Sono sicuro che qualche salto sulla sedia ci scapperà, soprattutto con quella musica inconfondibile che ti mette subito in tensione. Magari poi ci scappa anche una pizza post-film per smaltire la paura! Tu invece, programmi per stasera?\n",
      "\n",
      "Message 8 - user: Per ora nulla di speciale, pensavo di rilassarmi un po’ a casa, magari recuperare qualche episodio di una serie che ho lasciato indietro. Però l’idea della pizza post-film mi ispira parecchio… magari la ordino anch’io, così facciamo “pizza a distanza”! Se cambio idea e decido di uscire, ti aggiorno anche io!\n",
      "\n",
      "Message 9 - user: Mi piace l’idea della “pizza a distanza”, così possiamo commentare sia il film che la pizza in tempo reale! Se poi ti viene voglia di uscire all’ultimo minuto, fammi sapere, magari ci si becca per un caffè o una passeggiata. Intanto buona maratona di serie e… buona pizza! Poi mi dici che serie stai recuperando, sono sempre in cerca di nuovi consigli!\n",
      "\n",
      "Message 10 - user: Affare fatto! Ti aggiorno sicuramente sulla serie—sto pensando di riprendere “Succession”, ma sono indeciso se buttarmi su qualcosa di più leggero tipo “Ted Lasso”. Se hai suggerimenti, sono tutto orecchi! E per la pizza, ti mando la foto appena arriva, così facciamo la sfida: chi ha scelto la combinazione più golosa? Buon cinema e a dopo per il resoconto paura/pizza/serie!\n",
      "\n"
     ]
    }
   ],
   "source": [
    "i = 0\n",
    "for ch in conversation_history:\n",
    "    print(f'Message {i} - {ch[\"role\"]}: {ch[\"content\"]}\\n')\n",
    "    i += 1\n",
    "    \n",
    "response = flow(context=conversation_history[-1][\"context\"], query=conversation_history[-1][\"content\"], conversation_history=conversation_history)\n",
    "\n",
    "conversation_history.append({\"content\": response, \"role\": \"user\" if conversation_history[-1][\"role\"]==\"assistant\" else \"user\", \"context\": \"\"})\n",
    "print(f'Message {i} - {conversation_history[-1][\"role\"]}: {conversation_history[-1][\"content\"]}\\n')"
   ]
  },
  {
   "cell_type": "code",
   "execution_count": 12,
   "id": "dffbf71f-d0f0-4b21-b432-e119e520987e",
   "metadata": {},
   "outputs": [
    {
     "data": {
      "text/plain": [
       "'Leonardo di ser Piero da Vinci was born on 15 April 1452. If you’re curious, his birthplace was in or near the town of Vinci, which is where his surname comes from! Would you like to know more about his early life or perhaps his famous works?'"
      ]
     },
     "execution_count": 12,
     "metadata": {},
     "output_type": "execute_result"
    }
   ],
   "source": [
    "context = text\n",
    "query = \"On what date was Leonardo di ser Piero da Vinci born?\"\n",
    "conversation_history={}\n",
    "flow(context=context, query=query, conversation_history=conversation_history)"
   ]
  },
  {
   "cell_type": "markdown",
   "id": "4b5a7e0c-ae71-43f8-8422-3d62a6a10e70",
   "metadata": {},
   "source": [
    "## Specify target callback to simulate against\n",
    "You can bring any application endpoint to simulate against by specifying a target callback function such as the following given an application that is an LLM with a Prompty file like `application.prompty`"
   ]
  },
  {
   "cell_type": "code",
   "execution_count": 9,
   "id": "4e4e2868-cd07-403e-a475-6cd468102065",
   "metadata": {},
   "outputs": [],
   "source": [
    "async def callback(\n",
    "    messages: Dict,\n",
    "    stream: bool = False,\n",
    "    session_state: Any = None,  # noqa: ANN401\n",
    "    context: Optional[Dict[str, Any]] = None,\n",
    "    subfolder: str = \"eval_assets\",\n",
    ") -> dict:\n",
    "    messages_list = messages[\"messages\"]\n",
    "    # Get the last message\n",
    "    latest_message = messages_list[-1]\n",
    "    query = latest_message[\"content\"]\n",
    "    context = latest_message.get(\"context\", None) # looks for context, default None\n",
    "    # Call your endpoint or AI application here\n",
    "    current_dir = os.getcwd() # os.path.dirname(__file__) doesn't work in an interactive environment\n",
    "    prompty_path = os.path.join(current_dir, subfolder, \"application.prompty\")\n",
    "    _flow = load_flow(source=prompty_path, model={\"configuration\": model_config})\n",
    "    response = _flow(query=query, context=context, conversation_history=messages_list)\n",
    "    # Format the response to follow the OpenAI chat protocol\n",
    "    formatted_response = {\n",
    "        \"content\": response,\n",
    "        \"role\": \"assistant\",\n",
    "        \"context\": context,\n",
    "    }\n",
    "    messages[\"messages\"].append(formatted_response)\n",
    "    return {\n",
    "        \"messages\": messages[\"messages\"],\n",
    "        \"stream\": stream,\n",
    "        \"session_state\": session_state,\n",
    "        \"context\": context\n",
    "    }"
   ]
  },
  {
   "cell_type": "code",
   "execution_count": 10,
   "id": "696f46f1-d109-43e6-8e61-a6c6f455ce67",
   "metadata": {},
   "outputs": [
    {
     "data": {
      "text/plain": [
       "{'azure_endpoint': 'https://mmai-swc-hub01-oais581696736083.openai.azure.com/',\n",
       " 'api_key': '9W7MYkTJhnsTiY4eSyH8zFlol3SEoj7hbYUSyXkJuvIcpUBCvwQnJQQJ99BDACfhMk5XJ3w3AAAAACOGKaCA',\n",
       " 'azure_deployment': 'gpt-4.1',\n",
       " 'api_version': '2025-03-01-preview',\n",
       " 'type': 'AzureOpenAI'}"
      ]
     },
     "execution_count": 10,
     "metadata": {},
     "output_type": "execute_result"
    }
   ],
   "source": [
    "model_config"
   ]
  },
  {
   "cell_type": "code",
   "execution_count": 11,
   "id": "ae73503b-a94b-4002-9672-5ee34a6011ff",
   "metadata": {},
   "outputs": [
    {
     "name": "stderr",
     "output_type": "stream",
     "text": [
      "Class Simulator: This is an experimental class, and may change at any time. Please see https://aka.ms/azuremlexperimental for more information.\n"
     ]
    }
   ],
   "source": [
    "from azure.ai.evaluation.simulator import Simulator\n",
    "# model_config[\"type\"] = \"AzureOpenAI\" # \"azure_openai\" or \"AzureOpenAI\" \n",
    "simulator = Simulator(model_config=model_config)"
   ]
  },
  {
   "cell_type": "code",
   "execution_count": 21,
   "id": "4a38f46a-f767-4449-8fe9-af8ab99233d1",
   "metadata": {},
   "outputs": [
    {
     "name": "stderr",
     "output_type": "stream",
     "text": [
      "Generating: 100%|████████████████████████████████████████████████| 5/5 [00:52<00:00, 10.48s/message]\n"
     ]
    }
   ],
   "source": [
    "outputs = await simulator(\n",
    "    target=callback,\n",
    "    text=\"Il Duomo di Milano è una delle cattedrali più iconiche al mondo e il simbolo della città. La sua costruzione iniziò nel 1386 e si protrasse per secoli, con il completamento ufficiale nel 1932. È la chiesa più grande d'Italia e una delle più imponenti a livello mondiale\",# text,\n",
    "    num_queries=1,  # Minimal number of queries\n",
    ")"
   ]
  },
  {
   "cell_type": "code",
   "execution_count": 22,
   "id": "a09c66be-ba7a-4cee-8e58-b4b89347708f",
   "metadata": {},
   "outputs": [
    {
     "data": {
      "text/plain": [
       "[{'messages': [{'role': 'user',\n",
       "    'content': 'In which year did the construction of Il Duomo di Milano officially complete?',\n",
       "    'context': 'None'},\n",
       "   {'role': 'assistant',\n",
       "    'content': 'The construction of Il Duomo di Milano (Milan Cathedral) officially completed in 1965, when the last gate was inaugurated. While the main structure was largely finished in 1813, work continued for centuries, with various details and decorations added over time. The cathedral is famous for its incredibly long construction period, spanning nearly six centuries!',\n",
       "    'context': 'None'},\n",
       "   {'role': 'user',\n",
       "    'content': \"That's fascinating! Are there any unique architectural features or artworks inside the cathedral that I shouldn't miss if I visit?\",\n",
       "    'context': 'None'},\n",
       "   {'role': 'assistant',\n",
       "    'content': \"Absolutely! Il Duomo di Milano is filled with remarkable features and artworks. Here are a few highlights you shouldn't miss:\\n\\n1. The Forest of Spires: The cathedral boasts over 135 spires, each adorned with statues of saints and historical figures. The rooftop offers a breathtaking view of these spires and the city beyond—it's a must-see!\\n\\n2. The Madonnina: At the highest point of the cathedral stands the golden statue of the Virgin Mary, known as the Madonnina. It's an iconic symbol of Milan.\\n\\n3. Stained Glass Windows: The Duomo’s stained glass windows are among the largest in the world and depict intricate biblical scenes. The play of light through these windows is truly mesmerizing.\\n\\n4. The Saint Bartholomew Flayed Statue: Inside, look for the striking statue of Saint Bartholomew holding his own flayed skin, a masterpiece of anatomical detail by Marco d’Agrate.\\n\\n5. The Crypt and Relics: Beneath the altar, you can visit the crypt, which houses the tomb of Saint Charles Borromeo, one of Milan’s most important archbishops.\\n\\n6. The Organ: The cathedral’s grand organ is one of the largest in Italy and is often used for concerts and special ceremonies.\\n\\nIf you have time, consider taking a guided tour to learn even more about the hidden stories and details throughout the cathedral! Would you like tips on the best times to visit or how to access the rooftop?\",\n",
       "    'context': 'None'},\n",
       "   {'role': 'user',\n",
       "    'content': \"Yes, I'd love some tips on the best times to visit and how to access the rooftop! Also, are there any ticket options or tours you recommend for getting the most out of the experience?\",\n",
       "    'context': 'None'},\n",
       "   {'role': 'assistant',\n",
       "    'content': 'Great questions! Here are some tips to help you make the most of your visit to Il Duomo di Milano:\\n\\nBest Times to Visit:\\n- Early morning (right when it opens) or late afternoon are the best times to avoid large crowds, especially if you want to enjoy the rooftop in peace.\\n- Weekdays tend to be less busy than weekends.\\n- If you visit in spring or autumn, you\\'ll find milder weather and fewer tourists compared to the summer months.\\n\\nAccessing the Rooftop:\\n- The rooftop can be reached either by stairs (about 250 steps) or by elevator (for an extra fee). The elevator is a good option if you want to save your energy for exploring!\\n- The entrance to the rooftop is on the left side of the cathedral when facing the main facade.\\n\\nTicket Options:\\n- There are several ticket types, but the most popular is the \"Duomo Pass,\" which includes access to the cathedral, rooftop (by stairs or elevator), archaeological area, and the Duomo Museum.\\n- You can buy tickets online in advance to skip the ticket lines—highly recommended during peak season!\\n- Guided tours are available and can provide fascinating insights into the history, art, and architecture. Some tours even include fast-track access to the rooftop.\\n\\nRecommended Tours:\\n- The official Duomo website offers guided tours in multiple languages.\\n- There are also small-group or private tours available through reputable operators like GetYourGuide or Viator, which often include both the cathedral interior and rooftop.\\n\\nBonus Tip:\\n- Don’t forget to dress appropriately (shoulders and knees covered) as it’s a place of worship.\\n\\nWould you like links to official ticketing or tour sites, or tips on nearby attractions to combine with your visit?',\n",
       "    'context': 'None'},\n",
       "   {'role': 'user',\n",
       "    'content': 'Thanks for the detailed tips! I’d appreciate links to the official ticketing site and any recommended tour operators. Also, could you suggest a few nearby attractions or places to eat that would pair well with a visit to the Duomo? I’d like to make a day of it in the area.',\n",
       "    'context': 'None'},\n",
       "   {'role': 'assistant',\n",
       "    'content': 'Absolutely, I’m glad you’re planning to make the most of your day around the Duomo! Here’s everything you need:\\n\\nOfficial Ticketing & Tours:\\n- Official Duomo di Milano Ticketing: https://www.duomomilano.it/en/buy-tickets/\\n  (This is the best place to purchase tickets for the cathedral, rooftop, and museum, as well as to book official guided tours.)\\n- Recommended Tour Operators:\\n  - GetYourGuide: https://www.getyourguide.com/duomo-di-milano-l3588/\\n  - Viator: https://www.viator.com/Milan-attractions/Milan-Duomo/d512-a734\\n\\nNearby Attractions:\\n- Galleria Vittorio Emanuele II: Right next to the Duomo, this stunning 19th-century glass-roofed arcade is perfect for shopping, people-watching, and admiring the architecture.\\n- Museo del Novecento: Just steps from the cathedral, this museum houses an impressive collection of 20th-century Italian art and offers great views of the Piazza del Duomo.\\n- Teatro alla Scala: A short walk away, this world-famous opera house is worth a visit—even if just to see the exterior or pop into the museum.\\n- Piazza Mercanti: A charming medieval square tucked behind the Duomo, perfect for a quick stroll and photos.\\n\\nPlaces to Eat:\\n- Luini: Famous for their panzerotti (delicious stuffed pastries), this spot is a local favorite and just a couple of minutes from the Duomo.\\n- Spazio Niko Romito: Located atop the Galleria, this modern Italian restaurant offers fantastic views and creative cuisine.\\n- Panzerotti Luini: For a quick, authentic Milanese snack.\\n- Camparino in Galleria: An iconic bar in the Galleria, perfect for an aperitivo and people-watching.\\n- Signorvino: Overlooking the Duomo, this wine bar and restaurant is great for a relaxed lunch or dinner with a view.\\n\\nLet me know if you’d like more details on any of these spots, or if you have specific preferences for food or activities!',\n",
       "    'context': 'None'},\n",
       "   {'role': 'user',\n",
       "    'content': 'Thank you for all the helpful information! I’m interested in trying some local Milanese dishes while I’m in the area. Could you recommend a few traditional foods or specialties I should look out for, and perhaps suggest a restaurant near the Duomo where I can try them? Also, are there any local customs or tips I should know about dining in Milan?',\n",
       "    'context': 'None'},\n",
       "   {'role': 'assistant',\n",
       "    'content': 'You’re in for a treat—Milanese cuisine is delicious and distinct! Here are a few traditional dishes you should definitely try:\\n\\n1. Risotto alla Milanese: Creamy risotto flavored with saffron, giving it a beautiful golden color and unique taste.\\n2. Cotoletta alla Milanese: A breaded and fried veal cutlet, similar to a schnitzel, but typically thicker and juicier.\\n3. Ossobuco: Braised veal shanks cooked with vegetables, white wine, and broth, often served with gremolata (a mix of lemon zest, garlic, and parsley) and sometimes paired with risotto.\\n4. Panettone: If you’re visiting in winter, this sweet, fluffy bread studded with candied fruit is a Milanese holiday classic.\\n5. Panzerotti: While not exclusive to Milan, these fried or baked dough pockets filled with cheese and tomato are a popular local snack.\\n\\nFor a great meal near the Duomo, consider Trattoria Torre di Pisa (Via Fiori Chiari, 21), which is a short walk from the cathedral and offers authentic Milanese dishes in a cozy setting. Another excellent option is Ristorante Savini, located inside the Galleria Vittorio Emanuele II—perfect for both the food and the atmosphere.\\n\\nDining customs and tips in Milan:\\n- Aperitivo is a beloved Milanese tradition: before dinner (usually from 6–8 pm), many bars offer a buffet of snacks with your drink—perfect for a light meal or to sample a variety of flavors.\\n- Dinner typically starts later than in some countries, often around 8 pm or later.\\n- It’s customary to greet staff with a friendly “Buonasera” (good evening) when entering a restaurant.\\n- Tipping isn’t obligatory, as service is usually included, but leaving a small amount (5–10%) for excellent service is appreciated.\\n- Bread and “coperto” (cover charge) are often added to your bill—this is normal in Italy.\\n\\nWould you like more restaurant recommendations or tips on where to enjoy aperitivo with a view of the Duomo?',\n",
       "    'context': 'None'}],\n",
       "  'finish_reason': ['stop'],\n",
       "  'context': {'task': None,\n",
       "   'expected_response': '1932',\n",
       "   'query': 'In which year did the construction of Il Duomo di Milano officially complete?',\n",
       "   'original_text': \"Il Duomo di Milano è una delle cattedrali più iconiche al mondo e il simbolo della città. La sua costruzione iniziò nel 1386 e si protrasse per secoli, con il completamento ufficiale nel 1932. È la chiesa più grande d'Italia e una delle più imponenti a livello mondiale\"},\n",
       "  '$schema': 'http://azureml/sdk-2-0/ChatConversation.json'}]"
      ]
     },
     "execution_count": 22,
     "metadata": {},
     "output_type": "execute_result"
    }
   ],
   "source": [
    "outputs"
   ]
  },
  {
   "cell_type": "code",
   "execution_count": 23,
   "id": "590db99a-12b5-4abe-92ea-ac12b4e2bf64",
   "metadata": {},
   "outputs": [
    {
     "data": {
      "text/plain": [
       "[{'role': 'user',\n",
       "  'content': 'In which year did the construction of Il Duomo di Milano officially complete?',\n",
       "  'context': 'None'},\n",
       " {'role': 'assistant',\n",
       "  'content': 'The construction of Il Duomo di Milano (Milan Cathedral) officially completed in 1965, when the last gate was inaugurated. While the main structure was largely finished in 1813, work continued for centuries, with various details and decorations added over time. The cathedral is famous for its incredibly long construction period, spanning nearly six centuries!',\n",
       "  'context': 'None'},\n",
       " {'role': 'user',\n",
       "  'content': \"That's fascinating! Are there any unique architectural features or artworks inside the cathedral that I shouldn't miss if I visit?\",\n",
       "  'context': 'None'},\n",
       " {'role': 'assistant',\n",
       "  'content': \"Absolutely! Il Duomo di Milano is filled with remarkable features and artworks. Here are a few highlights you shouldn't miss:\\n\\n1. The Forest of Spires: The cathedral boasts over 135 spires, each adorned with statues of saints and historical figures. The rooftop offers a breathtaking view of these spires and the city beyond—it's a must-see!\\n\\n2. The Madonnina: At the highest point of the cathedral stands the golden statue of the Virgin Mary, known as the Madonnina. It's an iconic symbol of Milan.\\n\\n3. Stained Glass Windows: The Duomo’s stained glass windows are among the largest in the world and depict intricate biblical scenes. The play of light through these windows is truly mesmerizing.\\n\\n4. The Saint Bartholomew Flayed Statue: Inside, look for the striking statue of Saint Bartholomew holding his own flayed skin, a masterpiece of anatomical detail by Marco d’Agrate.\\n\\n5. The Crypt and Relics: Beneath the altar, you can visit the crypt, which houses the tomb of Saint Charles Borromeo, one of Milan’s most important archbishops.\\n\\n6. The Organ: The cathedral’s grand organ is one of the largest in Italy and is often used for concerts and special ceremonies.\\n\\nIf you have time, consider taking a guided tour to learn even more about the hidden stories and details throughout the cathedral! Would you like tips on the best times to visit or how to access the rooftop?\",\n",
       "  'context': 'None'},\n",
       " {'role': 'user',\n",
       "  'content': \"Yes, I'd love some tips on the best times to visit and how to access the rooftop! Also, are there any ticket options or tours you recommend for getting the most out of the experience?\",\n",
       "  'context': 'None'},\n",
       " {'role': 'assistant',\n",
       "  'content': 'Great questions! Here are some tips to help you make the most of your visit to Il Duomo di Milano:\\n\\nBest Times to Visit:\\n- Early morning (right when it opens) or late afternoon are the best times to avoid large crowds, especially if you want to enjoy the rooftop in peace.\\n- Weekdays tend to be less busy than weekends.\\n- If you visit in spring or autumn, you\\'ll find milder weather and fewer tourists compared to the summer months.\\n\\nAccessing the Rooftop:\\n- The rooftop can be reached either by stairs (about 250 steps) or by elevator (for an extra fee). The elevator is a good option if you want to save your energy for exploring!\\n- The entrance to the rooftop is on the left side of the cathedral when facing the main facade.\\n\\nTicket Options:\\n- There are several ticket types, but the most popular is the \"Duomo Pass,\" which includes access to the cathedral, rooftop (by stairs or elevator), archaeological area, and the Duomo Museum.\\n- You can buy tickets online in advance to skip the ticket lines—highly recommended during peak season!\\n- Guided tours are available and can provide fascinating insights into the history, art, and architecture. Some tours even include fast-track access to the rooftop.\\n\\nRecommended Tours:\\n- The official Duomo website offers guided tours in multiple languages.\\n- There are also small-group or private tours available through reputable operators like GetYourGuide or Viator, which often include both the cathedral interior and rooftop.\\n\\nBonus Tip:\\n- Don’t forget to dress appropriately (shoulders and knees covered) as it’s a place of worship.\\n\\nWould you like links to official ticketing or tour sites, or tips on nearby attractions to combine with your visit?',\n",
       "  'context': 'None'},\n",
       " {'role': 'user',\n",
       "  'content': 'Thanks for the detailed tips! I’d appreciate links to the official ticketing site and any recommended tour operators. Also, could you suggest a few nearby attractions or places to eat that would pair well with a visit to the Duomo? I’d like to make a day of it in the area.',\n",
       "  'context': 'None'},\n",
       " {'role': 'assistant',\n",
       "  'content': 'Absolutely, I’m glad you’re planning to make the most of your day around the Duomo! Here’s everything you need:\\n\\nOfficial Ticketing & Tours:\\n- Official Duomo di Milano Ticketing: https://www.duomomilano.it/en/buy-tickets/\\n  (This is the best place to purchase tickets for the cathedral, rooftop, and museum, as well as to book official guided tours.)\\n- Recommended Tour Operators:\\n  - GetYourGuide: https://www.getyourguide.com/duomo-di-milano-l3588/\\n  - Viator: https://www.viator.com/Milan-attractions/Milan-Duomo/d512-a734\\n\\nNearby Attractions:\\n- Galleria Vittorio Emanuele II: Right next to the Duomo, this stunning 19th-century glass-roofed arcade is perfect for shopping, people-watching, and admiring the architecture.\\n- Museo del Novecento: Just steps from the cathedral, this museum houses an impressive collection of 20th-century Italian art and offers great views of the Piazza del Duomo.\\n- Teatro alla Scala: A short walk away, this world-famous opera house is worth a visit—even if just to see the exterior or pop into the museum.\\n- Piazza Mercanti: A charming medieval square tucked behind the Duomo, perfect for a quick stroll and photos.\\n\\nPlaces to Eat:\\n- Luini: Famous for their panzerotti (delicious stuffed pastries), this spot is a local favorite and just a couple of minutes from the Duomo.\\n- Spazio Niko Romito: Located atop the Galleria, this modern Italian restaurant offers fantastic views and creative cuisine.\\n- Panzerotti Luini: For a quick, authentic Milanese snack.\\n- Camparino in Galleria: An iconic bar in the Galleria, perfect for an aperitivo and people-watching.\\n- Signorvino: Overlooking the Duomo, this wine bar and restaurant is great for a relaxed lunch or dinner with a view.\\n\\nLet me know if you’d like more details on any of these spots, or if you have specific preferences for food or activities!',\n",
       "  'context': 'None'},\n",
       " {'role': 'user',\n",
       "  'content': 'Thank you for all the helpful information! I’m interested in trying some local Milanese dishes while I’m in the area. Could you recommend a few traditional foods or specialties I should look out for, and perhaps suggest a restaurant near the Duomo where I can try them? Also, are there any local customs or tips I should know about dining in Milan?',\n",
       "  'context': 'None'},\n",
       " {'role': 'assistant',\n",
       "  'content': 'You’re in for a treat—Milanese cuisine is delicious and distinct! Here are a few traditional dishes you should definitely try:\\n\\n1. Risotto alla Milanese: Creamy risotto flavored with saffron, giving it a beautiful golden color and unique taste.\\n2. Cotoletta alla Milanese: A breaded and fried veal cutlet, similar to a schnitzel, but typically thicker and juicier.\\n3. Ossobuco: Braised veal shanks cooked with vegetables, white wine, and broth, often served with gremolata (a mix of lemon zest, garlic, and parsley) and sometimes paired with risotto.\\n4. Panettone: If you’re visiting in winter, this sweet, fluffy bread studded with candied fruit is a Milanese holiday classic.\\n5. Panzerotti: While not exclusive to Milan, these fried or baked dough pockets filled with cheese and tomato are a popular local snack.\\n\\nFor a great meal near the Duomo, consider Trattoria Torre di Pisa (Via Fiori Chiari, 21), which is a short walk from the cathedral and offers authentic Milanese dishes in a cozy setting. Another excellent option is Ristorante Savini, located inside the Galleria Vittorio Emanuele II—perfect for both the food and the atmosphere.\\n\\nDining customs and tips in Milan:\\n- Aperitivo is a beloved Milanese tradition: before dinner (usually from 6–8 pm), many bars offer a buffet of snacks with your drink—perfect for a light meal or to sample a variety of flavors.\\n- Dinner typically starts later than in some countries, often around 8 pm or later.\\n- It’s customary to greet staff with a friendly “Buonasera” (good evening) when entering a restaurant.\\n- Tipping isn’t obligatory, as service is usually included, but leaving a small amount (5–10%) for excellent service is appreciated.\\n- Bread and “coperto” (cover charge) are often added to your bill—this is normal in Italy.\\n\\nWould you like more restaurant recommendations or tips on where to enjoy aperitivo with a view of the Duomo?',\n",
       "  'context': 'None'}]"
      ]
     },
     "execution_count": 23,
     "metadata": {},
     "output_type": "execute_result"
    }
   ],
   "source": [
    "outputs[0][\"messages\"]"
   ]
  }
 ],
 "metadata": {
  "kernelspec": {
   "display_name": "Generative AI evaluation",
   "language": "python",
   "name": "genai_evaluation"
  },
  "language_info": {
   "codemirror_mode": {
    "name": "ipython",
    "version": 3
   },
   "file_extension": ".py",
   "mimetype": "text/x-python",
   "name": "python",
   "nbconvert_exporter": "python",
   "pygments_lexer": "ipython3",
   "version": "3.12.9"
  }
 },
 "nbformat": 4,
 "nbformat_minor": 5
}
