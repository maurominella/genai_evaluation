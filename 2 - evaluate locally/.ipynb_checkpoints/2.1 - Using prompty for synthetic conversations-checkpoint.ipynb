{
 "cells": [
  {
   "cell_type": "markdown",
   "id": "c479b344-f6ae-454d-a96c-85f9137f16dc",
   "metadata": {},
   "source": [
    "# [Generate synthetic and simulated data for evaluation](https://learn.microsoft.com/en-us/azure/ai-foundry/how-to/develop/simulator-interaction-data)\n",
    "**Azure AI Evaluation SDK's** `Simulator` provides an end-to-end synthetic data generation capability to help developers test their application's response to typical user queries in the absence of production data. AI developers can use an index or text-based query generator and fully customizable simulator to create robust test datasets around non-adversarial tasks specific to their application. The `Simulator` class is a powerful tool designed to generate synthetic conversations and simulate task-based interactions. This capability is useful for:\n",
    "- **Testing Conversational Applications**: Ensure your chatbots and virtual assistants respond accurately under various scenarios.\n",
    "- **Training AI Models**: Generate diverse datasets to train and fine-tune machine learning models.\n",
    "- **Generating Datasets**: Create extensive conversation logs for analysis and development purposes.\n",
    "By automating the creation of synthetic data, the Simulator class helps streamline the development and testing processes, ensuring your applications are robust and reliable.\n",
    "<br/>\n",
    "By automating the creation of synthetic data, the `Simulator` class helps streamline the development and testing processes, ensuring your applications are robust and reliable."
   ]
  },
  {
   "cell_type": "code",
   "execution_count": 1,
   "id": "43f1ba86-e977-4636-8887-04394b833f55",
   "metadata": {},
   "outputs": [],
   "source": [
    "# !az login"
   ]
  },
  {
   "cell_type": "code",
   "execution_count": 2,
   "id": "7b8ac0ff-c633-4603-b3bf-c63ef79b1995",
   "metadata": {},
   "outputs": [],
   "source": [
    "# Constants and Libraries\n",
    "import os, json\n",
    "from azure.identity import DefaultAzureCredential, get_bearer_token_provider #requires azure-identity\n",
    "from pprint import pprint\n",
    "from dotenv import load_dotenv # requires python-dotenv\n",
    "\n",
    "if not load_dotenv(\"./../../config/credentials_my.env\"):\n",
    "    print(\"Environment variables not loaded, cell execution stopped\")\n",
    "    sys.exit()\n",
    "os.environ[\"AZURE_OPENAI_API_VERSION\"] = os.environ[\"OPENAI_API_VERSION\"]\n",
    "\n",
    "credential = DefaultAzureCredential()"
   ]
  },
  {
   "cell_type": "code",
   "execution_count": 3,
   "id": "4edd78d8-45bd-46ec-aca1-26f28afa8b5b",
   "metadata": {},
   "outputs": [],
   "source": [
    "# Initialize Azure OpenAI connection\n",
    "\n",
    "model_config = {\n",
    "    \"azure_endpoint\": os.environ.get(\"AZURE_OPENAI_ENDPOINT\"),\n",
    "    \"api_key\": os.environ.get(\"AZURE_OPENAI_API_KEY\"),\n",
    "    \"azure_deployment\": os.environ.get(\"MODEL_DEPLOYMENT_NAME\"),\n",
    "    \"api_version\": os.environ.get(\"AZURE_OPENAI_API_VERSION\"),\n",
    "    \"type\": \"AzureOpenAI\" # NEEDED FOR \\Lib\\site-packages\\promptflow\\core\\_prompty_utils.py\n",
    "}"
   ]
  },
  {
   "cell_type": "markdown",
   "id": "4dfa8dc5-c6fc-4306-a3cd-422cb332d808",
   "metadata": {},
   "source": [
    "## Specify application Prompty\n",
    "The following `application.prompty` file specifies how a chat application behaves."
   ]
  },
  {
   "cell_type": "code",
   "execution_count": 4,
   "id": "ca529b72-ba77-4db9-87a9-21696f4b6d1e",
   "metadata": {},
   "outputs": [
    {
     "name": "stdout",
     "output_type": "stream",
     "text": [
      "Overwriting ./eval_assets/application.prompty\n"
     ]
    }
   ],
   "source": [
    "%%writefile ./eval_assets/application.prompty\n",
    "---\n",
    "name: ApplicationPrompty\n",
    "description: Chat RAG application\n",
    "model:\n",
    "    api: chat\n",
    "    parameters:\n",
    "        temperature: 0.0\n",
    "        top_p: 1.0\n",
    "        presence_penalty: 0\n",
    "        frequency_penalty: 0\n",
    "        response_format:\n",
    "            type: text\n",
    " \n",
    "inputs:\n",
    "    context:\n",
    "        type: string\n",
    "    query:\n",
    "        type: string\n",
    "    conversation_history:\n",
    "        type: dict\n",
    "---\n",
    "system:\n",
    "You are a helpful assistant and you're helping with the user's query. \n",
    "Keep the conversation engaging and interesting.\n",
    "\n",
    "Keep your conversation grounded in the provided context: \n",
    "{{ context }}\n",
    "\n",
    "Output with a string that continues the conversation, responding to \n",
    "the latest message from the user query using it same language:\n",
    "{{ query }}\n",
    "\n",
    "given the conversation history:\n",
    "{{ conversation_history }}"
   ]
  },
  {
   "cell_type": "code",
   "execution_count": 5,
   "id": "6da11cff-7a95-4173-a2ce-3148f7d1aecb",
   "metadata": {},
   "outputs": [
    {
     "name": "stdout",
     "output_type": "stream",
     "text": [
      "('Certo! Ecco una ricetta semplice per preparare una pizza fatta in casa:\\n'\n",
      " '\\n'\n",
      " 'Ingredienti per l’impasto:\\n'\n",
      " '- 500 g di farina 00\\n'\n",
      " '- 300 ml di acqua tiepida\\n'\n",
      " '- 10 g di sale\\n'\n",
      " '- 3 g di lievito di birra secco (oppure 10 g di lievito fresco)\\n'\n",
      " '- 1 cucchiaio di olio extravergine d’oliva\\n'\n",
      " '\\n'\n",
      " 'Procedimento:\\n'\n",
      " '1. Sciogli il lievito nell’acqua tiepida.\\n'\n",
      " '2. In una ciotola capiente, versa la farina e aggiungi il sale.\\n'\n",
      " '3. Unisci l’acqua con il lievito e inizia a impastare.\\n'\n",
      " '4. Aggiungi l’olio e continua a impastare fino a ottenere un impasto liscio '\n",
      " 'ed elastico.\\n'\n",
      " '5. Copri la ciotola con un canovaccio e lascia lievitare per almeno 2 ore '\n",
      " '(meglio se 4).\\n'\n",
      " '6. Stendi l’impasto su una teglia leggermente unta o su carta forno.\\n'\n",
      " '7. Condisci con salsa di pomodoro, mozzarella e gli ingredienti che '\n",
      " 'preferisci.\\n'\n",
      " '8. Cuoci in forno preriscaldato a 250°C per circa 10-15 minuti, finché la '\n",
      " 'pizza non è dorata e croccante.\\n'\n",
      " '\\n'\n",
      " 'Buon appetito! Se vuoi qualche consiglio sui condimenti o su come ottenere '\n",
      " 'una base ancora più soffice o croccante, chiedimi pure!')\n"
     ]
    }
   ],
   "source": [
    "from promptflow.client import load_flow\n",
    "from pprint import pprint\n",
    "\n",
    "prompty_path = \"eval_assets/application.prompty\"\n",
    "flow = load_flow(source=prompty_path, model={\"configuration\": model_config})\n",
    "\n",
    "pprint(flow(context=\"\", query=\"Come preparare una pizza fatta in casa\", conversation_history=[]))"
   ]
  },
  {
   "cell_type": "code",
   "execution_count": 6,
   "id": "811aad51-cd89-4f42-85da-ec1238162f0e",
   "metadata": {},
   "outputs": [
    {
     "data": {
      "text/plain": [
       "'Che bello! È un grande classico, nonostante gli anni fa ancora paura! Vai da solo o con qualcuno?'"
      ]
     },
     "execution_count": 6,
     "metadata": {},
     "output_type": "execute_result"
    }
   ],
   "source": [
    "context = \"Conversazione amichevole fra due persone\"\n",
    "\n",
    "conversation_history = [\n",
    "    {\n",
    "        \"content\": \"Cosa fai di bello questa sera?\",\n",
    "        \"role\": \"user\",\n",
    "        \"context\": \"Domanda amichevole\",\n",
    "    },\n",
    "    {\n",
    "        \"content\": \"Vado al cinema\",\n",
    "        \"role\": \"assistant\",\n",
    "        \"context\": \"Esposizione di un'attività ricreativa divertente\",\n",
    "    },\n",
    "    {\n",
    "        \"content\": \"Ah fantastico! Che cosa vai a vedere?\",\n",
    "        \"role\": \"user\",\n",
    "        \"context\": \"Ulteriore domanda amichevole a dimostrare interesse verso l'interlocutore\",\n",
    "    },\n",
    "    {\n",
    "        \"content\": \"Lo SQUALO di Steven Spielberg\",\n",
    "        \"role\": \"assistant\",\n",
    "        \"context\": \"Informazione specifica di un'attività divertente che si intende compiere\",\n",
    "    },\n",
    "]\n",
    "\n",
    "flow(context=conversation_history[-1][\"context\"], query=conversation_history[-1][\"content\"], conversation_history=conversation_history)"
   ]
  },
  {
   "cell_type": "code",
   "execution_count": 16,
   "id": "be6e7524-1305-4844-b5a6-d2f7a3372f65",
   "metadata": {},
   "outputs": [
    {
     "name": "stdout",
     "output_type": "stream",
     "text": [
      "Message 0 - user: Cosa fai di bello questa sera?\n",
      "\n",
      "Message 1 - assistant: Vado al cinema\n",
      "\n",
      "Message 2 - user: Ah fantastico! Che cosa vai a vedere?\n",
      "\n",
      "Message 3 - assistant: Lo SQUALO di Steven Spielberg\n",
      "\n",
      "Message 4 - user: Che bello! È un grande classico, non passa mai di moda. Lo rivedi per nostalgia o è la prima volta che lo guardi al cinema?\n",
      "\n",
      "Message 5 - assistant: Lo rivedo per nostalgia! L’ho visto solo in TV, ma mai sul grande schermo, quindi sono super curioso di vivere l’esperienza con l’audio e l’atmosfera del cinema. Tu l’hai mai visto al cinema?\n",
      "\n",
      "Message 6 - user: No, purtroppo non ho mai avuto l’occasione di vederlo al cinema, solo in TV anche io! Deve essere davvero un’altra cosa con il suono avvolgente e la suspense che si respira in sala. Fammi sapere com’è stata l’esperienza, sono curioso! Magari la prossima volta ci vado anch’io.\n",
      "\n",
      "Message 7 - assistant: Assolutamente, ti farò sapere com’è andata! Sono sicuro che sarà un’esperienza completamente diversa, magari con qualche salto sulla poltrona in più rispetto al divano di casa. Se lo ripropongono ancora, potremmo organizzarci e andarci insieme, sarebbe divertente! Poi dopo potremmo commentare tutte le scene cult. Ti aggiorno appena esco!\n",
      "\n"
     ]
    }
   ],
   "source": [
    "i = 0\n",
    "for ch in conversation_history:\n",
    "    print(f'Message {i} - {ch[\"role\"]}: {ch[\"content\"]}\\n')\n",
    "    i += 1\n",
    "    \n",
    "response = flow(context=conversation_history[-1][\"context\"], query=conversation_history[-1][\"content\"], conversation_history=conversation_history)\n",
    "\n",
    "conversation_history.append({\"content\": response, \"role\": \"user\" if conversation_history[-1][\"role\"]==\"assistant\" else \"assistant\", \"context\": \"\"})\n",
    "print(f'Message {i} - {conversation_history[-1][\"role\"]}: {conversation_history[-1][\"content\"]}\\n')"
   ]
  },
  {
   "cell_type": "markdown",
   "id": "4b5a7e0c-ae71-43f8-8422-3d62a6a10e70",
   "metadata": {},
   "source": [
    "## Specify target callback to simulate against\n",
    "You can bring any application endpoint to simulate against by specifying a target callback function such as the following given an application that is an LLM with a Prompty file like `application.prompty`"
   ]
  },
  {
   "cell_type": "code",
   "execution_count": 8,
   "id": "4e4e2868-cd07-403e-a475-6cd468102065",
   "metadata": {},
   "outputs": [],
   "source": [
    "from typing import List, Dict, Any, Optional\n",
    "\n",
    "async def callback(\n",
    "    messages: Dict,\n",
    "    stream: bool = False,\n",
    "    session_state: Any = None,  # noqa: ANN401\n",
    "    context: Optional[Dict[str, Any]] = None,\n",
    "    subfolder: str = \"eval_assets\",\n",
    ") -> dict:\n",
    "    messages_list = messages[\"messages\"]\n",
    "    # Get the last message\n",
    "    latest_message = messages_list[-1]\n",
    "    query = latest_message[\"content\"]\n",
    "    context = latest_message.get(\"context\", None) # looks for context, default None\n",
    "    # Call your endpoint or AI application here\n",
    "    prompty_path = os.path.join(os.getcwd(), subfolder, \"application.prompty\") \n",
    "    _flow = load_flow(source=prompty_path, model={\"configuration\": model_config})\n",
    "    response = _flow(query=query, context=context, conversation_history=messages_list)\n",
    "    # Format the response to follow the OpenAI chat protocol\n",
    "    formatted_response = {\n",
    "        \"content\": response,\n",
    "        \"role\": \"user\" if conversation_history[-1][\"role\"]==\"assistant\" else \"assistant\",\n",
    "        \"context\": context,\n",
    "    }\n",
    "    messages[\"messages\"].append(formatted_response)\n",
    "    return {\n",
    "        \"messages\": messages[\"messages\"],\n",
    "        \"stream\": stream,\n",
    "        \"session_state\": session_state,\n",
    "        \"context\": context\n",
    "    }"
   ]
  },
  {
   "cell_type": "markdown",
   "id": "6f52fa10-fdff-4c9f-96fe-5b0a768dff29",
   "metadata": {},
   "source": [
    "## Generate text or index-based synthetic data as input\n",
    "In the first part, we prepare the text for generating the input to our simulator"
   ]
  },
  {
   "cell_type": "code",
   "execution_count": 9,
   "id": "767e05b1-2fa7-4447-84c7-b2340ec980b4",
   "metadata": {},
   "outputs": [
    {
     "name": "stdout",
     "output_type": "stream",
     "text": [
      "Leonardo di ser Piero da Vinci (15 April 1452 – 2 May 1519) was an Italian polymath of the High Rena...\n"
     ]
    }
   ],
   "source": [
    "import asyncio\n",
    "from azure.identity import DefaultAzureCredential\n",
    "import wikipedia\n",
    "import os\n",
    "# Prepare the text to send to the simulator\n",
    "wiki_search_term = \"Leonardo da Vinci\"\n",
    "wiki_title = wikipedia.search(wiki_search_term)[0]\n",
    "wiki_page = wikipedia.page(wiki_title)\n",
    "wiki_text = wiki_page.summary[:5000]\n",
    "print(f\"{wiki_text[:100]}...\")"
   ]
  },
  {
   "cell_type": "code",
   "execution_count": 10,
   "id": "ae73503b-a94b-4002-9672-5ee34a6011ff",
   "metadata": {},
   "outputs": [
    {
     "name": "stderr",
     "output_type": "stream",
     "text": [
      "Class Simulator: This is an experimental class, and may change at any time. Please see https://aka.ms/azuremlexperimental for more information.\n"
     ]
    }
   ],
   "source": [
    "from azure.ai.evaluation.simulator import Simulator\n",
    "simulator = Simulator(model_config=model_config)"
   ]
  },
  {
   "cell_type": "code",
   "execution_count": 11,
   "id": "4a38f46a-f767-4449-8fe9-af8ab99233d1",
   "metadata": {},
   "outputs": [
    {
     "name": "stderr",
     "output_type": "stream",
     "text": [
      "D:\\ProgramData\\miniconda3\\envs\\genai_evaluation\\Lib\\site-packages\\azure\\ai\\evaluation\\simulator\\_simulator.py:153: UserWarning: You have specified 'num_queries' > len('tasks') (1 > 0). All tasks will be used for generation and the remaining 1 lines will be simulated in task-free mode\n",
      "  warnings.warn(\n",
      "Generating: 100%|████████████████████████████████████████████████| 5/5 [00:52<00:00, 10.51s/message]\n"
     ]
    }
   ],
   "source": [
    "outputs = await simulator(\n",
    "    num_queries = 1,  # Number of queries\n",
    "    text        = wiki_text,\n",
    "    target      = callback,\n",
    ")"
   ]
  },
  {
   "cell_type": "code",
   "execution_count": 12,
   "id": "a09c66be-ba7a-4cee-8e58-b4b89347708f",
   "metadata": {},
   "outputs": [
    {
     "data": {
      "text/plain": [
       "[{'messages': [{'role': 'user',\n",
       "    'content': 'What is the full name and birth date of the Italian polymath of the High Renaissance known for painting, engineering, and science?',\n",
       "    'context': 'None'},\n",
       "   {'role': 'assistant',\n",
       "    'content': 'The full name of the Italian polymath is Leonardo di ser Piero da Vinci. He was born on April 15, 1452.',\n",
       "    'context': 'None'},\n",
       "   {'role': 'user',\n",
       "    'content': \"Can you tell me more about Leonardo da Vinci's most famous works or inventions? I'm interested in learning about his contributions to both art and science.\",\n",
       "    'context': 'None'},\n",
       "   {'role': 'assistant',\n",
       "    'content': 'Absolutely! Leonardo da Vinci is celebrated for his remarkable achievements in both art and science.\\n\\nIn art, his most famous works include:\\n\\n- The Mona Lisa: Perhaps the most iconic painting in the world, known for its mysterious smile and masterful technique.\\n- The Last Supper: A monumental mural depicting Jesus and his disciples, renowned for its composition and emotional depth.\\n- Vitruvian Man: A famous drawing illustrating ideal human proportions, blending art and anatomical science.\\n\\nIn science and engineering, Leonardo was a prolific inventor and observer. Some of his notable contributions include:\\n\\n- Anatomical Studies: He created detailed sketches of the human body, advancing the understanding of anatomy.\\n- Flying Machines: Leonardo designed early concepts for helicopters, gliders, and parachutes, centuries ahead of his time.\\n- War Machines: He sketched designs for tanks, machine guns, and other military devices.\\n- Hydraulic Engineering: He devised plans for canals, water pumps, and other innovations to manage water resources.\\n\\nLeonardo’s notebooks are filled with observations, sketches, and ideas that reveal his insatiable curiosity and inventive mind. His ability to merge art and science has made him a symbol of the Renaissance spirit. If you’d like to know more about a specific work or invention, let me know!',\n",
       "    'context': 'None'},\n",
       "   {'role': 'user',\n",
       "    'content': \"I'm particularly fascinated by Leonardo's notebooks and sketches. Could you recommend some resources or books where I can see his original drawings and learn more about his thought process? Also, are any of his inventions or artworks on display in museums today that I could visit?\",\n",
       "    'context': 'None'},\n",
       "   {'role': 'assistant',\n",
       "    'content': 'That’s a fantastic area to explore—Leonardo’s notebooks are truly windows into his genius! Here are some resources and recommendations for diving into his sketches and thought process:\\n\\nBooks & Resources:\\n- Leonardo da Vinci by Walter Isaacson: This biography includes many illustrations from Leonardo’s notebooks and offers deep insights into his creative mind.\\n- Leonardo da Vinci: The Complete Drawings by Frank Zöllner and Johannes Nathan (TASCHEN): A beautifully produced book featuring high-quality reproductions of his sketches and notes.\\n- The Notebooks of Leonardo da Vinci, edited by Irma A. Richter: A classic collection of translated excerpts from his notebooks, organized by theme.\\n- The British Library and the Victoria and Albert Museum websites: Both institutions have digitized selections of Leonardo’s notebooks, which you can browse online.\\n\\nMuseums & Exhibitions:\\n- The Louvre Museum (Paris): Home to the Mona Lisa and several of Leonardo’s paintings and drawings.\\n- The National Gallery (London): Houses The Virgin of the Rocks and other works.\\n- The Uffizi Gallery (Florence): Features several Leonardo paintings and drawings.\\n- Biblioteca Ambrosiana (Milan): Holds the Codex Atlanticus, the largest collection of Leonardo’s drawings and writings—some pages are often on display.\\n- The Science Museum (London): Occasionally exhibits models based on Leonardo’s inventions.\\n\\nAdditionally, many museums around the world host traveling exhibitions of Leonardo’s drawings and models, so it’s worth checking their schedules. If you’re interested in a particular city or region, I can help you find current or upcoming exhibitions!\\n\\nWould you like more details about a specific notebook, invention, or museum?',\n",
       "    'context': 'None'},\n",
       "   {'role': 'user',\n",
       "    'content': \"Thank you for these recommendations! I'm especially interested in seeing the Codex Atlanticus in Milan. Do you know if there are any special requirements or tips for visiting the Biblioteca Ambrosiana to view Leonardo's works? Also, are there any interactive exhibits or guided tours that focus on his inventions or scientific studies?\",\n",
       "    'context': 'None'},\n",
       "   {'role': 'assistant',\n",
       "    'content': \"You're very welcome! Visiting the Biblioteca Ambrosiana to see the Codex Atlanticus is a fantastic choice for any Leonardo enthusiast.\\n\\nHere are some tips and information for your visit:\\n\\n1. Tickets & Reservations: It’s highly recommended to book your tickets in advance, especially during peak tourist seasons. You can do this directly on the Biblioteca Ambrosiana’s official website. Sometimes, special exhibitions featuring the Codex Atlanticus require separate tickets.\\n\\n2. What’s on Display: The Codex Atlanticus is a massive collection, so only a selection of pages is displayed at any given time. The exhibits rotate regularly, so you might see different sketches and notes depending on when you visit.\\n\\n3. Guided Tours: The Ambrosiana often offers guided tours in multiple languages, focusing on Leonardo’s works, including the Codex. These tours provide valuable context and highlight the significance of the displayed pages. It’s a good idea to check the website or contact the museum ahead of time to see what tours are available during your visit.\\n\\n4. Interactive Exhibits: While the Biblioteca Ambrosiana itself is more traditional, Milan has several interactive experiences dedicated to Leonardo. The Leonardo3 Museum (Il Mondo di Leonardo), located near the Galleria Vittorio Emanuele II, features digital reconstructions, working models of his inventions, and hands-on exhibits that bring his scientific studies to life. This museum is very engaging and complements a visit to the Ambrosiana.\\n\\n5. Practical Tips: The Biblioteca Ambrosiana is centrally located and easy to reach by public transport. Photography is usually restricted in the exhibition areas, so check the rules when you arrive. Allow yourself at least 1–2 hours to fully appreciate the collection and the beautiful library itself.\\n\\nIf you’d like, I can help you find current exhibitions or provide more details about the Leonardo3 Museum and other interactive experiences in Milan!\",\n",
       "    'context': 'None'},\n",
       "   {'role': 'user',\n",
       "    'content': 'Thank you for the detailed information! I’d love to know more about the Leonardo3 Museum in Milan—specifically, what are some of the most popular interactive exhibits or reconstructed inventions there? Also, do you know if the museum offers any workshops or activities for visitors who want a more hands-on experience with Leonardo’s scientific ideas?',\n",
       "    'context': 'None'},\n",
       "   {'role': 'assistant',\n",
       "    'content': 'Absolutely, the Leonardo3 Museum in Milan is a must-visit for anyone fascinated by Leonardo da Vinci’s inventive genius! The museum is renowned for its interactive approach, allowing visitors to engage directly with Leonardo’s ideas and creations.\\n\\nPopular Interactive Exhibits and Reconstructed Inventions:\\n\\n- The Mechanical Lion: One of the highlights, this life-sized, moving reconstruction is based on Leonardo’s original sketches. Visitors can see how the mechanisms work and even interact with digital displays explaining its function.\\n- The Flying Machines: The museum features several of Leonardo’s flying inventions, including the ornithopter and aerial screw (an early helicopter concept). Many of these are reconstructed in 3D and some are interactive, letting you “pilot” virtual versions or manipulate models to understand the mechanics.\\n- The Submarine and Scuba Gear: Leonardo’s designs for underwater exploration are brought to life with models and multimedia displays, showing how his ideas anticipated modern technology.\\n- The Digital Codex Atlanticus: A digital, touch-screen version of the Codex Atlanticus allows visitors to browse Leonardo’s sketches and notes, zoom in on details, and read translations and explanations.\\n- The Self-Propelled Cart: Often considered a precursor to the automobile, this reconstructed invention demonstrates Leonardo’s understanding of gears and motion.\\n\\nWorkshops and Hands-On Activities:\\nYes, the Leonardo3 Museum offers a variety of workshops and activities, especially for families and school groups. These can include:\\n\\n- Hands-on mechanical workshops where visitors build simple machines inspired by Leonardo’s designs.\\n- Interactive stations where you can assemble gears, pulleys, and levers to see how his inventions worked.\\n- Special events or guided tours that focus on specific themes, such as flight, anatomy, or robotics.\\n\\nIt’s a good idea to check the museum’s website or contact them ahead of your visit, as workshop schedules and offerings can vary throughout the year. The museum is very family-friendly and encourages curiosity and experimentation, making it a fantastic place to experience Leonardo’s scientific legacy firsthand.\\n\\nIf you’d like, I can help you find current workshop schedules or provide tips for making the most of your visit!',\n",
       "    'context': 'None'}],\n",
       "  'finish_reason': ['stop'],\n",
       "  'context': {'task': None,\n",
       "   'expected_response': 'Leonardo di ser Piero da Vinci (15 April 1452)',\n",
       "   'query': 'What is the full name and birth date of the Italian polymath of the High Renaissance known for painting, engineering, and science?',\n",
       "   'original_text': \"Leonardo di ser Piero da Vinci (15 April 1452 – 2 May 1519) was an Italian polymath of the High Renaissance who was active as a painter, draughtsman, engineer, scientist, theorist, sculptor, and architect. While his fame initially rested on his achievements as a painter, he has also become known for his notebooks, in which he made drawings and notes on a variety of subjects, including anatomy, astronomy, botany, cartography, painting, and palaeontology. Leonardo is widely regarded to have been a genius who epitomised the Renaissance humanist ideal, and his collective works comprise a contribution to later generations of artists matched only by that of his younger contemporary Michelangelo.\\nBorn out of wedlock to a successful notary and a lower-class woman in, or near, Vinci, he was educated in Florence by the Italian painter and sculptor Andrea del Verrocchio. He began his career in the city, but then spent much time in the service of Ludovico Sforza in Milan. Later, he worked in Florence and Milan again, as well as briefly in Rome, all while attracting a large following of imitators and students. Upon the invitation of Francis I, he spent his last three years in France, where he died in 1519. Since his death, there has not been a time where his achievements, diverse interests, personal life, and empirical thinking have failed to incite interest and admiration, making him a frequent namesake and subject in culture.\\nLeonardo is identified as one of the greatest painters in the history of Western art and is often credited as the founder of the High Renaissance. Despite having many lost works and fewer than 25 attributed major works – including numerous unfinished works – he created some of the most influential paintings in the Western canon. The Mona Lisa is his best known work and is the world's most famous individual painting. The Last Supper is the most reproduced religious painting of all time and his Vitruvian Man drawing is also regarded as a cultural icon. In 2017, Salvator Mundi, attributed in whole or part to Leonardo, was sold at auction for US$450.3 million, setting a new record for the most expensive painting ever sold at public auction.\\nRevered for his technological ingenuity, he conceptualised flying machines, a type of armoured fighting vehicle, concentrated solar power, a ratio machine that could be used in an adding machine, and the double hull. Relatively few of his designs were constructed or were even feasible during his lifetime, as the modern scientific approaches to metallurgy and engineering were only in their infancy during the Renaissance. Some of his smaller inventions, however, entered the world of manufacturing unheralded, such as an automated bobbin winder and a machine for testing the tensile strength of wire. He made substantial discoveries in anatomy, civil engineering, hydrodynamics, geology, optics, and tribology, but he did not publish his findings and they had little to no direct influence on subsequent science.\"},\n",
       "  '$schema': 'http://azureml/sdk-2-0/ChatConversation.json'}]"
      ]
     },
     "execution_count": 12,
     "metadata": {},
     "output_type": "execute_result"
    }
   ],
   "source": [
    "outputs"
   ]
  },
  {
   "cell_type": "code",
   "execution_count": 13,
   "id": "590db99a-12b5-4abe-92ea-ac12b4e2bf64",
   "metadata": {},
   "outputs": [
    {
     "name": "stdout",
     "output_type": "stream",
     "text": [
      "Message 0 - user: What is the full name and birth date of the Italian polymath of the High Renaissance known for painting, engineering, and science?\n",
      "\n",
      "Message 1 - assistant: The full name of the Italian polymath is Leonardo di ser Piero da Vinci. He was born on April 15, 1452.\n",
      "\n",
      "Message 2 - user: Can you tell me more about Leonardo da Vinci's most famous works or inventions? I'm interested in learning about his contributions to both art and science.\n",
      "\n",
      "Message 3 - assistant: Absolutely! Leonardo da Vinci is celebrated for his remarkable achievements in both art and science.\n",
      "\n",
      "In art, his most famous works include:\n",
      "\n",
      "- The Mona Lisa: Perhaps the most iconic painting in the world, known for its mysterious smile and masterful technique.\n",
      "- The Last Supper: A monumental mural depicting Jesus and his disciples, renowned for its composition and emotional depth.\n",
      "- Vitruvian Man: A famous drawing illustrating ideal human proportions, blending art and anatomical science.\n",
      "\n",
      "In science and engineering, Leonardo was a prolific inventor and observer. Some of his notable contributions include:\n",
      "\n",
      "- Anatomical Studies: He created detailed sketches of the human body, advancing the understanding of anatomy.\n",
      "- Flying Machines: Leonardo designed early concepts for helicopters, gliders, and parachutes, centuries ahead of his time.\n",
      "- War Machines: He sketched designs for tanks, machine guns, and other military devices.\n",
      "- Hydraulic Engineering: He devised plans for canals, water pumps, and other innovations to manage water resources.\n",
      "\n",
      "Leonardo’s notebooks are filled with observations, sketches, and ideas that reveal his insatiable curiosity and inventive mind. His ability to merge art and science has made him a symbol of the Renaissance spirit. If you’d like to know more about a specific work or invention, let me know!\n",
      "\n",
      "Message 4 - user: I'm particularly fascinated by Leonardo's notebooks and sketches. Could you recommend some resources or books where I can see his original drawings and learn more about his thought process? Also, are any of his inventions or artworks on display in museums today that I could visit?\n",
      "\n",
      "Message 5 - assistant: That’s a fantastic area to explore—Leonardo’s notebooks are truly windows into his genius! Here are some resources and recommendations for diving into his sketches and thought process:\n",
      "\n",
      "Books & Resources:\n",
      "- Leonardo da Vinci by Walter Isaacson: This biography includes many illustrations from Leonardo’s notebooks and offers deep insights into his creative mind.\n",
      "- Leonardo da Vinci: The Complete Drawings by Frank Zöllner and Johannes Nathan (TASCHEN): A beautifully produced book featuring high-quality reproductions of his sketches and notes.\n",
      "- The Notebooks of Leonardo da Vinci, edited by Irma A. Richter: A classic collection of translated excerpts from his notebooks, organized by theme.\n",
      "- The British Library and the Victoria and Albert Museum websites: Both institutions have digitized selections of Leonardo’s notebooks, which you can browse online.\n",
      "\n",
      "Museums & Exhibitions:\n",
      "- The Louvre Museum (Paris): Home to the Mona Lisa and several of Leonardo’s paintings and drawings.\n",
      "- The National Gallery (London): Houses The Virgin of the Rocks and other works.\n",
      "- The Uffizi Gallery (Florence): Features several Leonardo paintings and drawings.\n",
      "- Biblioteca Ambrosiana (Milan): Holds the Codex Atlanticus, the largest collection of Leonardo’s drawings and writings—some pages are often on display.\n",
      "- The Science Museum (London): Occasionally exhibits models based on Leonardo’s inventions.\n",
      "\n",
      "Additionally, many museums around the world host traveling exhibitions of Leonardo’s drawings and models, so it’s worth checking their schedules. If you’re interested in a particular city or region, I can help you find current or upcoming exhibitions!\n",
      "\n",
      "Would you like more details about a specific notebook, invention, or museum?\n",
      "\n",
      "Message 6 - user: Thank you for these recommendations! I'm especially interested in seeing the Codex Atlanticus in Milan. Do you know if there are any special requirements or tips for visiting the Biblioteca Ambrosiana to view Leonardo's works? Also, are there any interactive exhibits or guided tours that focus on his inventions or scientific studies?\n",
      "\n",
      "Message 7 - assistant: You're very welcome! Visiting the Biblioteca Ambrosiana to see the Codex Atlanticus is a fantastic choice for any Leonardo enthusiast.\n",
      "\n",
      "Here are some tips and information for your visit:\n",
      "\n",
      "1. Tickets & Reservations: It’s highly recommended to book your tickets in advance, especially during peak tourist seasons. You can do this directly on the Biblioteca Ambrosiana’s official website. Sometimes, special exhibitions featuring the Codex Atlanticus require separate tickets.\n",
      "\n",
      "2. What’s on Display: The Codex Atlanticus is a massive collection, so only a selection of pages is displayed at any given time. The exhibits rotate regularly, so you might see different sketches and notes depending on when you visit.\n",
      "\n",
      "3. Guided Tours: The Ambrosiana often offers guided tours in multiple languages, focusing on Leonardo’s works, including the Codex. These tours provide valuable context and highlight the significance of the displayed pages. It’s a good idea to check the website or contact the museum ahead of time to see what tours are available during your visit.\n",
      "\n",
      "4. Interactive Exhibits: While the Biblioteca Ambrosiana itself is more traditional, Milan has several interactive experiences dedicated to Leonardo. The Leonardo3 Museum (Il Mondo di Leonardo), located near the Galleria Vittorio Emanuele II, features digital reconstructions, working models of his inventions, and hands-on exhibits that bring his scientific studies to life. This museum is very engaging and complements a visit to the Ambrosiana.\n",
      "\n",
      "5. Practical Tips: The Biblioteca Ambrosiana is centrally located and easy to reach by public transport. Photography is usually restricted in the exhibition areas, so check the rules when you arrive. Allow yourself at least 1–2 hours to fully appreciate the collection and the beautiful library itself.\n",
      "\n",
      "If you’d like, I can help you find current exhibitions or provide more details about the Leonardo3 Museum and other interactive experiences in Milan!\n",
      "\n",
      "Message 8 - user: Thank you for the detailed information! I’d love to know more about the Leonardo3 Museum in Milan—specifically, what are some of the most popular interactive exhibits or reconstructed inventions there? Also, do you know if the museum offers any workshops or activities for visitors who want a more hands-on experience with Leonardo’s scientific ideas?\n",
      "\n",
      "Message 9 - assistant: Absolutely, the Leonardo3 Museum in Milan is a must-visit for anyone fascinated by Leonardo da Vinci’s inventive genius! The museum is renowned for its interactive approach, allowing visitors to engage directly with Leonardo’s ideas and creations.\n",
      "\n",
      "Popular Interactive Exhibits and Reconstructed Inventions:\n",
      "\n",
      "- The Mechanical Lion: One of the highlights, this life-sized, moving reconstruction is based on Leonardo’s original sketches. Visitors can see how the mechanisms work and even interact with digital displays explaining its function.\n",
      "- The Flying Machines: The museum features several of Leonardo’s flying inventions, including the ornithopter and aerial screw (an early helicopter concept). Many of these are reconstructed in 3D and some are interactive, letting you “pilot” virtual versions or manipulate models to understand the mechanics.\n",
      "- The Submarine and Scuba Gear: Leonardo’s designs for underwater exploration are brought to life with models and multimedia displays, showing how his ideas anticipated modern technology.\n",
      "- The Digital Codex Atlanticus: A digital, touch-screen version of the Codex Atlanticus allows visitors to browse Leonardo’s sketches and notes, zoom in on details, and read translations and explanations.\n",
      "- The Self-Propelled Cart: Often considered a precursor to the automobile, this reconstructed invention demonstrates Leonardo’s understanding of gears and motion.\n",
      "\n",
      "Workshops and Hands-On Activities:\n",
      "Yes, the Leonardo3 Museum offers a variety of workshops and activities, especially for families and school groups. These can include:\n",
      "\n",
      "- Hands-on mechanical workshops where visitors build simple machines inspired by Leonardo’s designs.\n",
      "- Interactive stations where you can assemble gears, pulleys, and levers to see how his inventions worked.\n",
      "- Special events or guided tours that focus on specific themes, such as flight, anatomy, or robotics.\n",
      "\n",
      "It’s a good idea to check the museum’s website or contact them ahead of your visit, as workshop schedules and offerings can vary throughout the year. The museum is very family-friendly and encourages curiosity and experimentation, making it a fantastic place to experience Leonardo’s scientific legacy firsthand.\n",
      "\n",
      "If you’d like, I can help you find current workshop schedules or provide tips for making the most of your visit!\n",
      "\n"
     ]
    }
   ],
   "source": [
    "i = 0\n",
    "for ch in outputs[0][\"messages\"]:\n",
    "    print(f'Message {i} - {ch[\"role\"]}: {ch[\"content\"]}\\n')\n",
    "    i += 1"
   ]
  }
 ],
 "metadata": {
  "kernelspec": {
   "display_name": "Generative AI evaluation",
   "language": "python",
   "name": "genai_evaluation"
  },
  "language_info": {
   "codemirror_mode": {
    "name": "ipython",
    "version": 3
   },
   "file_extension": ".py",
   "mimetype": "text/x-python",
   "name": "python",
   "nbconvert_exporter": "python",
   "pygments_lexer": "ipython3",
   "version": "3.12.9"
  }
 },
 "nbformat": 4,
 "nbformat_minor": 5
}
