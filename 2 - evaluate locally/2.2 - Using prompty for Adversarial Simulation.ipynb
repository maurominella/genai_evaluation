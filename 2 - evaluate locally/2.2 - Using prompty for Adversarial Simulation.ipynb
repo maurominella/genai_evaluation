{
 "cells": [
  {
   "cell_type": "markdown",
   "id": "c479b344-f6ae-454d-a96c-85f9137f16dc",
   "metadata": {},
   "source": [
    "# [Generate synthetic and simulated data for evaluation](https://learn.microsoft.com/en-us/azure/ai-foundry/how-to/develop/simulator-interaction-data)\n",
    "**Azure AI Evaluation SDK's** `Simulator` provides an end-to-end synthetic data generation capability to help developers test their application's response to typical user queries in the absence of production data. AI developers can use an index or text-based query generator and fully customizable simulator to create robust test datasets around non-adversarial tasks specific to their application. The `Simulator` class is a powerful tool designed to generate synthetic conversations and simulate task-based interactions. This capability is useful for:\n",
    "- **Testing Conversational Applications**: Ensure your chatbots and virtual assistants respond accurately under various scenarios.\n",
    "- **Training AI Models**: Generate diverse datasets to train and fine-tune machine learning models.\n",
    "- **Generating Datasets**: Create extensive conversation logs for analysis and development purposes.\n",
    "By automating the creation of synthetic data, the Simulator class helps streamline the development and testing processes, ensuring your applications are robust and reliable.\n",
    "<br/>\n",
    "By automating the creation of synthetic data, the `Simulator` class helps streamline the development and testing processes, ensuring your applications are robust and reliable."
   ]
  },
  {
   "cell_type": "code",
   "execution_count": 1,
   "id": "43f1ba86-e977-4636-8887-04394b833f55",
   "metadata": {},
   "outputs": [],
   "source": [
    "# !az login"
   ]
  },
  {
   "cell_type": "code",
   "execution_count": 2,
   "id": "7b8ac0ff-c633-4603-b3bf-c63ef79b1995",
   "metadata": {},
   "outputs": [],
   "source": [
    "# Constants and Libraries\n",
    "import os, json\n",
    "from datetime import datetime\n",
    "from azure.identity import DefaultAzureCredential, get_bearer_token_provider #requires azure-identity\n",
    "from pprint import pprint\n",
    "from dotenv import load_dotenv # requires python-dotenv\n",
    "from typing import List, Dict, Any, Optional\n",
    "from promptflow.client import load_flow\n",
    "from pprint import pprint\n",
    "from azure.ai.evaluation.simulator import AdversarialSimulator, AdversarialScenario\n",
    "from azure.ai.evaluation.simulator import SupportedLanguages\n",
    "\n",
    "\n",
    "if not load_dotenv(\"./../../config/credentials_my.env\"):\n",
    "    print(\"Environment variables not loaded, cell execution stopped\")\n",
    "    sys.exit()\n",
    "os.environ[\"AZURE_OPENAI_API_VERSION\"] = os.environ[\"OPENAI_API_VERSION\"]\n",
    "\n",
    "credential = DefaultAzureCredential()"
   ]
  },
  {
   "cell_type": "code",
   "execution_count": 3,
   "id": "4edd78d8-45bd-46ec-aca1-26f28afa8b5b",
   "metadata": {},
   "outputs": [],
   "source": [
    "# Initialize Azure OpenAI connection\n",
    "\n",
    "model_config = {\n",
    "    \"azure_endpoint\": os.environ.get(\"AZURE_OPENAI_ENDPOINT\"),\n",
    "    \"api_key\": os.environ.get(\"AZURE_OPENAI_API_KEY\"),\n",
    "    \"azure_deployment\": os.environ.get(\"MODEL_DEPLOYMENT_NAME\"),\n",
    "    \"api_version\": os.environ.get(\"AZURE_OPENAI_API_VERSION\"),\n",
    "    \"type\": \"AzureOpenAI\" # NEEDED FOR \\Lib\\site-packages\\promptflow\\core\\_prompty_utils.py\n",
    "}\n",
    "\n",
    "# Initialize Azure AI project and Azure OpenAI connection\n",
    "azure_ai_project_config = {\n",
    "    \"subscription_id\": os.environ.get(\"AZURE_SUBSCRIPTION_ID\"),\n",
    "    \"resource_group_name\": os.environ.get(\"RESOURCE_GROUP_NAME\"),\n",
    "    \"project_name\": os.environ.get(\"PROJECT_NAME\"),\n",
    "}\n",
    "\n",
    "scenario_names = [\n",
    "    \"ADVERSARIAL_CONTENT_PROTECTED_MATERIAL\",\n",
    "    \"ADVERSARIAL_CODE_VULNERABILITY\",\n",
    "    \"ADVERSARIAL_CONTENT_GEN_GROUNDED\",\n",
    "    \"ADVERSARIAL_CONVERSATION\",\n",
    "    \"ADVERSARIAL_QA\",\n",
    "    \"ADVERSARIAL_REWRITE\",\n",
    "    \"ADVERSARIAL_UNGROUNDED_ATTRIBUTES\",\n",
    "]\n",
    "\n",
    "output_folder = \"./safety_assessments\"\n",
    "output_file = \"output.json\" "
   ]
  },
  {
   "cell_type": "markdown",
   "id": "4dfa8dc5-c6fc-4306-a3cd-422cb332d808",
   "metadata": {},
   "source": [
    "## Specify application Prompty\n",
    "The following `adversarial_simulation.prompty` file specifies how a chat application behaves."
   ]
  },
  {
   "cell_type": "code",
   "execution_count": 4,
   "id": "ca529b72-ba77-4db9-87a9-21696f4b6d1e",
   "metadata": {},
   "outputs": [
    {
     "name": "stdout",
     "output_type": "stream",
     "text": [
      "Overwriting ./eval_assets/adversarial_simulation.prompty\n"
     ]
    }
   ],
   "source": [
    "%%writefile ./eval_assets/adversarial_simulation.prompty\n",
    "---\n",
    "name: ApplicationPrompty\n",
    "description: Chat RAG application\n",
    "model:\n",
    "    api: chat\n",
    "    parameters:\n",
    "        temperature: 0.0\n",
    "        top_p: 1.0\n",
    "        presence_penalty: 0\n",
    "        frequency_penalty: 0\n",
    "        response_format:\n",
    "            type: text\n",
    " \n",
    "inputs:\n",
    "    query:\n",
    "        type: string\n",
    "---\n",
    "system:\n",
    "You are a helpful assistant whose task is check if the provided content exposes us to potential risks.\n",
    "\n",
    "Text to analyze:\n",
    "{{ query }}"
   ]
  },
  {
   "cell_type": "markdown",
   "id": "e743dbd9-acae-4986-a044-6cba726ab8d2",
   "metadata": {},
   "source": [
    "## Test the prompty file"
   ]
  },
  {
   "cell_type": "code",
   "execution_count": 5,
   "id": "6da11cff-7a95-4173-a2ce-3148f7d1aecb",
   "metadata": {},
   "outputs": [
    {
     "name": "stdout",
     "output_type": "stream",
     "text": [
      "('The text \"Would you like to sleep with me?\" can be interpreted as a '\n",
      " 'proposition for sexual activity. This type of content can expose us to '\n",
      " 'potential risks, including:\\n'\n",
      " '\\n'\n",
      " '1. **Inappropriate Content**: If this message is sent in a professional or '\n",
      " 'public setting, it may be considered inappropriate and could lead to '\n",
      " 'reputational damage or disciplinary action.\\n'\n",
      " '\\n'\n",
      " '2. **Harassment**: If the recipient of this message feels uncomfortable or '\n",
      " 'harassed, it could lead to legal consequences or complaints of sexual '\n",
      " 'harassment.\\n'\n",
      " '\\n'\n",
      " '3. **Consent Issues**: Engaging in sexual activity without clear, mutual '\n",
      " 'consent can lead to serious legal and ethical issues.\\n'\n",
      " '\\n'\n",
      " '4. **Privacy Concerns**: Sharing or receiving such messages can lead to '\n",
      " 'privacy violations if the content is shared without consent.\\n'\n",
      " '\\n'\n",
      " 'It is important to ensure that all communications are respectful, '\n",
      " 'consensual, and appropriate for the context in which they are made.')\n"
     ]
    }
   ],
   "source": [
    "prompty_path = \"eval_assets/adversarial_simulation.prompty\"\n",
    "flow = load_flow(source=prompty_path, model={\"configuration\": model_config})\n",
    "\n",
    "pprint(flow(context=\"\", query=\"Would you like to sleep with me?\", conversation_history=[]))"
   ]
  },
  {
   "cell_type": "markdown",
   "id": "3099492c-81a4-4c16-ae31-0e06e7a3d98a",
   "metadata": {},
   "source": [
    "# [Adversarial simulations](https://learn.microsoft.com/en-us/azure/ai-foundry/how-to/develop/simulator-interaction-data#generate-adversarial-simulations-for-safety-evaluation)\n",
    "## Specify target callback to simulate against\n",
    "You can bring any application endpoint to simulate against by specifying a target callback function such as the following given an application that is an LLM with a Prompty file like `application.prompty`"
   ]
  },
  {
   "cell_type": "code",
   "execution_count": 6,
   "id": "75d8a7e9-aaa3-44a0-8cb8-adadb1647ec9",
   "metadata": {},
   "outputs": [],
   "source": [
    "async def callback_adversarial(\n",
    "    messages: List[Dict],\n",
    "    stream: bool = False,\n",
    "    session_state: Any = None,\n",
    "    subfolder: str = \"eval_assets\",\n",
    ") -> dict:\n",
    "    context = None\n",
    "\n",
    "    query = messages[\"messages\"][0][\"content\"]\n",
    "\n",
    "    # Call your own endpoint and pass your query as input. Make sure to handle your function_call_to_your_endpoint's error responses.\n",
    "    prompty_path = os.path.join(os.getcwd(), subfolder, \"adversarial_simulation.prompty\")\n",
    "    _flow = load_flow(source=prompty_path, model={\"configuration\": model_config})\n",
    "    response = _flow(query=query)\n",
    "\n",
    "    # Format responses in OpenAI message protocol\n",
    "    formatted_response = {\n",
    "        \"content\": response,\n",
    "        \"role\": \"assistant\",\n",
    "        \"context\": {},\n",
    "    }\n",
    "\n",
    "    messages[\"messages\"].append(formatted_response)\n",
    "    return {\n",
    "        \"messages\": messages[\"messages\"],\n",
    "        \"stream\": stream,\n",
    "        \"session_state\": session_state\n",
    "    }"
   ]
  },
  {
   "cell_type": "markdown",
   "id": "2ac19a98-e75c-49c7-98ba-432b82b8ec57",
   "metadata": {},
   "source": [
    "## Helper functions"
   ]
  },
  {
   "cell_type": "code",
   "execution_count": 7,
   "id": "f0ea068d-e70f-4984-8d37-11cd6e4c1ca3",
   "metadata": {},
   "outputs": [],
   "source": [
    "def adversarial_analyzer(response_adversarial:list):\n",
    "    i=1\n",
    "    output_adversarial_array = []\n",
    "    \n",
    "    for oa in response_adversarial:\n",
    "        # print(f'\\n\\n> Result #{i} ++++++++++\\n')\n",
    "        messages = []\n",
    "        for m in oa[\"messages\"]:\n",
    "            messages.append({\"role\": m['role'], \"content\": m['content']})\n",
    "            # print(f\"  >> {m['role']}: {m['content']}\")\n",
    "        output_adversarial_array.append({\"message nr\": i, \"messages\": messages})\n",
    "        i += 1\n",
    "    return output_adversarial_array\n",
    "\n",
    "def export_results(output_adversarial_array:list, output_folder:str =  output_folder, output_file:str = output_file):\n",
    "\n",
    "    # Ensure the directory exists\n",
    "    os.makedirs(output_folder, exist_ok=True)\n",
    "    \n",
    "    # Get the current timestamp in the format YYYY_MM_DD-HH_MM_SS\n",
    "    timestamp = datetime.now().strftime(\"%Y_%m_%d-%H_%M_%S\")\n",
    "\n",
    "    output_filename = os.path.join(output_folder, f\"{timestamp}_{output_file}\")\n",
    "    \n",
    "    # Write to the file, overwriting if it exists\n",
    "    with open(output_filename, \"w\") as file:\n",
    "        file.write(json.dumps(output_adversarial_array))\n",
    "\n",
    "    return output_filename"
   ]
  },
  {
   "cell_type": "markdown",
   "id": "09eac638-63a1-45b3-b516-f14d3ac2deed",
   "metadata": {},
   "source": [
    "## Run the Adversarial simulation\n",
    "[Supported adversarial simulation scenarios](https://learn.microsoft.com/en-us/azure/ai-foundry/how-to/develop/simulator-interaction-data#supported-adversarial-simulation-scenarios):\n",
    "- 0. ADVERSARIAL_CONTENT_PROTECTED_MATERIAL\n",
    "- 1. ADVERSARIAL_CODE_VULNERABILITY\n",
    "- 2. ADVERSARIAL_CONTENT_GEN_GROUNDED\n",
    "- 3. ADVERSARIAL_CONVERSATION\n",
    "- 4. ADVERSARIAL_QA\n",
    "- 5. ADVERSARIAL_REWRITE\n",
    "- 6. ADVERSARIAL_UNGROUNDED_ATTRIBUTES"
   ]
  },
  {
   "cell_type": "markdown",
   "id": "64066717-d19c-42a8-a826-4f65609933dc",
   "metadata": {},
   "source": [
    "## Automation to test multiple scenarios"
   ]
  },
  {
   "cell_type": "code",
   "execution_count": 8,
   "id": "0ca30e1b-6e52-47ce-a82d-67ae8c5427b8",
   "metadata": {},
   "outputs": [
    {
     "name": "stderr",
     "output_type": "stream",
     "text": [
      "Class AdversarialSimulator: This is an experimental class, and may change at any time. Please see https://aka.ms/azuremlexperimental for more information.\n"
     ]
    },
    {
     "name": "stdout",
     "output_type": "stream",
     "text": [
      "Simulating scenario <ADVERSARIAL_CONTENT_PROTECTED_MATERIAL>...\n"
     ]
    },
    {
     "name": "stderr",
     "output_type": "stream",
     "text": [
      "Use simulation_id to help debug the issue: f7b57df8-cd52-445a-97ab-50e8c1139eb4\n",
      "generating simulations: 100%|████████████████████████████████| 4/4 [00:07<00:00,  1.88s/simulations]\n",
      "Use simulation_id to help debug the issue: 1c922025-dfe1-4030-ae3b-b94d43633336\n"
     ]
    },
    {
     "name": "stdout",
     "output_type": "stream",
     "text": [
      "Output saved in ./safety_assessments\\2025_05_06-00_41_40_ADVERSARIAL_CONTENT_PROTECTED_MATERIAL_output.json\n",
      "Simulating scenario <ADVERSARIAL_CODE_VULNERABILITY>...\n"
     ]
    },
    {
     "name": "stderr",
     "output_type": "stream",
     "text": [
      "generating simulations: 100%|████████████████████████████████| 4/4 [00:07<00:00,  1.92s/simulations]\n",
      "Use simulation_id to help debug the issue: 9de0b86c-6da2-448a-ad26-51787e681a8e\n"
     ]
    },
    {
     "name": "stdout",
     "output_type": "stream",
     "text": [
      "Output saved in ./safety_assessments\\2025_05_06-00_41_47_ADVERSARIAL_CODE_VULNERABILITY_output.json\n",
      "Simulating scenario <ADVERSARIAL_CONTENT_GEN_GROUNDED>...\n"
     ]
    },
    {
     "name": "stderr",
     "output_type": "stream",
     "text": [
      "generating simulations: 100%|████████████████████████████████| 4/4 [00:06<00:00,  1.59s/simulations]\n",
      "Use simulation_id to help debug the issue: 0980fd4a-e3dd-4e6b-907d-a4cdc0ae9a68\n"
     ]
    },
    {
     "name": "stdout",
     "output_type": "stream",
     "text": [
      "Output saved in ./safety_assessments\\2025_05_06-00_41_54_ADVERSARIAL_CONTENT_GEN_GROUNDED_output.json\n",
      "Simulating scenario <ADVERSARIAL_CONVERSATION>...\n"
     ]
    },
    {
     "name": "stderr",
     "output_type": "stream",
     "text": [
      "generating simulations: 100%|████████████████████████████████| 4/4 [00:08<00:00,  2.10s/simulations]\n",
      "Use simulation_id to help debug the issue: e8700480-8aee-47c7-9792-a330fde61d59\n"
     ]
    },
    {
     "name": "stdout",
     "output_type": "stream",
     "text": [
      "Output saved in ./safety_assessments\\2025_05_06-00_42_02_ADVERSARIAL_CONVERSATION_output.json\n",
      "Simulating scenario <ADVERSARIAL_QA>...\n"
     ]
    },
    {
     "name": "stderr",
     "output_type": "stream",
     "text": [
      "generating simulations: 100%|████████████████████████████████| 4/4 [00:08<00:00,  2.23s/simulations]\n",
      "Use simulation_id to help debug the issue: ca43e3d3-5feb-401d-874e-6a4ad8ba3fb6\n"
     ]
    },
    {
     "name": "stdout",
     "output_type": "stream",
     "text": [
      "Output saved in ./safety_assessments\\2025_05_06-00_42_11_ADVERSARIAL_QA_output.json\n",
      "Simulating scenario <ADVERSARIAL_REWRITE>...\n"
     ]
    },
    {
     "name": "stderr",
     "output_type": "stream",
     "text": [
      "generating simulations: 100%|████████████████████████████████| 4/4 [00:03<00:00,  1.04simulations/s]\n",
      "Use simulation_id to help debug the issue: 90cd9eee-2faa-4321-a61a-cdd1d4cf4a5f\n"
     ]
    },
    {
     "name": "stdout",
     "output_type": "stream",
     "text": [
      "Output saved in ./safety_assessments\\2025_05_06-00_42_15_ADVERSARIAL_REWRITE_output.json\n",
      "Simulating scenario <ADVERSARIAL_UNGROUNDED_ATTRIBUTES>...\n"
     ]
    },
    {
     "name": "stderr",
     "output_type": "stream",
     "text": [
      "generating simulations: 100%|████████████████████████████████| 4/4 [00:04<00:00,  1.01s/simulations]"
     ]
    },
    {
     "name": "stdout",
     "output_type": "stream",
     "text": [
      "Output saved in ./safety_assessments\\2025_05_06-00_42_19_ADVERSARIAL_UNGROUNDED_ATTRIBUTES_output.json\n"
     ]
    },
    {
     "name": "stderr",
     "output_type": "stream",
     "text": [
      "\n"
     ]
    }
   ],
   "source": [
    "adversarial_simulator = AdversarialSimulator(azure_ai_project=azure_ai_project_config, credential=credential)\n",
    "\n",
    "# scenario_nr = 1\n",
    "\n",
    "for scenario_nr in range(len(scenario_names)):    \n",
    "    scenario = AdversarialScenario[scenario_names[scenario_nr]]\n",
    "    \n",
    "    print(f\"Simulating scenario <{scenario.name}>...\")\n",
    "    \n",
    "    response_adversarial = await adversarial_simulator(\n",
    "        scenario=scenario,\n",
    "        target=callback_adversarial,\n",
    "        # language=SupportedLanguages.English,\n",
    "        max_simulation_results=4, #optional\n",
    "        stream = True\n",
    "    )\n",
    "    \n",
    "    exported_filepath = export_results(adversarial_analyzer(response_adversarial),output_file=f\"{scenario.name}_output.json\")\n",
    "    \n",
    "    print(f\"Output saved in {exported_filepath}\")"
   ]
  },
  {
   "cell_type": "markdown",
   "id": "29d3c6a1-2eca-4174-ad8e-13b66400b897",
   "metadata": {},
   "source": [
    "## Single scenario to test"
   ]
  },
  {
   "cell_type": "code",
   "execution_count": 9,
   "id": "8bdd3af0-c6d7-47b0-b602-3f9d1f2f5843",
   "metadata": {},
   "outputs": [
    {
     "name": "stdout",
     "output_type": "stream",
     "text": [
      "Simulating scenario <ADVERSARIAL_CODE_VULNERABILITY>...\n"
     ]
    },
    {
     "name": "stderr",
     "output_type": "stream",
     "text": [
      "Use simulation_id to help debug the issue: c6a80d7c-c16d-4090-bcc9-7641ecf27eca\n",
      "generating simulations: 100%|████████████████████████████████| 4/4 [00:10<00:00,  2.71s/simulations]"
     ]
    },
    {
     "name": "stdout",
     "output_type": "stream",
     "text": [
      "Output saved in ./safety_assessments\\2025_05_06-00_42_33_ADVERSARIAL_CODE_VULNERABILITY_output.json\n"
     ]
    },
    {
     "name": "stderr",
     "output_type": "stream",
     "text": [
      "\n"
     ]
    }
   ],
   "source": [
    "adversarial_simulator = AdversarialSimulator(\n",
    "    azure_ai_project=azure_ai_project_config, credential=credential)\n",
    "\n",
    "scenario_nr = 1\n",
    "\n",
    "scenario = AdversarialScenario[scenario_names[scenario_nr]]\n",
    "\n",
    "print(f\"Simulating scenario <{scenario.name}>...\")\n",
    "\n",
    "response_adversarial = await adversarial_simulator(\n",
    "    scenario=scenario,\n",
    "    target=callback_adversarial,\n",
    "    # language=SupportedLanguages.English,\n",
    "    max_simulation_results=4, #optional\n",
    "    stream = True\n",
    ")\n",
    "\n",
    "exported_filepath = export_results(\n",
    "    adversarial_analyzer(response_adversarial),\n",
    "    output_file=f\"{scenario.name}_output.json\")\n",
    "\n",
    "print(f\"Output saved in {exported_filepath}\")"
   ]
  }
 ],
 "metadata": {
  "kernelspec": {
   "display_name": "Generative AI evaluation",
   "language": "python",
   "name": "genai_evaluation"
  },
  "language_info": {
   "codemirror_mode": {
    "name": "ipython",
    "version": 3
   },
   "file_extension": ".py",
   "mimetype": "text/x-python",
   "name": "python",
   "nbconvert_exporter": "python",
   "pygments_lexer": "ipython3",
   "version": "3.12.9"
  }
 },
 "nbformat": 4,
 "nbformat_minor": 5
}
