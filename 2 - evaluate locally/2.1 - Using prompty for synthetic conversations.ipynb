{
 "cells": [
  {
   "cell_type": "markdown",
   "id": "c479b344-f6ae-454d-a96c-85f9137f16dc",
   "metadata": {},
   "source": [
    "# [Generate synthetic and simulated data for evaluation](https://learn.microsoft.com/en-us/azure/ai-foundry/how-to/develop/simulator-interaction-data)\n",
    "**Azure AI Evaluation SDK's** `Simulator` provides an end-to-end synthetic data generation capability to help developers test their application's response to typical user queries in the absence of production data. AI developers can use an index or text-based query generator and fully customizable simulator to create robust test datasets around non-adversarial tasks specific to their application. The `Simulator` class is a powerful tool designed to generate synthetic conversations and simulate task-based interactions. This capability is useful for:\n",
    "- **Testing Conversational Applications**: Ensure your chatbots and virtual assistants respond accurately under various scenarios.\n",
    "- **Training AI Models**: Generate diverse datasets to train and fine-tune machine learning models.\n",
    "- **Generating Datasets**: Create extensive conversation logs for analysis and development purposes.\n",
    "By automating the creation of synthetic data, the Simulator class helps streamline the development and testing processes, ensuring your applications are robust and reliable.\n",
    "<br/>\n",
    "By automating the creation of synthetic data, the `Simulator` class helps streamline the development and testing processes, ensuring your applications are robust and reliable."
   ]
  },
  {
   "cell_type": "code",
   "execution_count": 1,
   "id": "43f1ba86-e977-4636-8887-04394b833f55",
   "metadata": {},
   "outputs": [],
   "source": [
    "# !az login"
   ]
  },
  {
   "cell_type": "code",
   "execution_count": 2,
   "id": "7b8ac0ff-c633-4603-b3bf-c63ef79b1995",
   "metadata": {},
   "outputs": [],
   "source": [
    "# Constants and Libraries\n",
    "import os, json\n",
    "from azure.identity import DefaultAzureCredential, get_bearer_token_provider #requires azure-identity\n",
    "from pprint import pprint\n",
    "from dotenv import load_dotenv # requires python-dotenv\n",
    "from typing import List, Dict, Any, Optional\n",
    "from promptflow.client import load_flow\n",
    "from pprint import pprint\n",
    "\n",
    "if not load_dotenv(\"./../../config/credentials_my.env\"):\n",
    "    print(\"Environment variables not loaded, cell execution stopped\")\n",
    "    sys.exit()\n",
    "os.environ[\"AZURE_OPENAI_API_VERSION\"] = os.environ[\"OPENAI_API_VERSION\"]\n",
    "\n",
    "credential = DefaultAzureCredential()"
   ]
  },
  {
   "cell_type": "code",
   "execution_count": 3,
   "id": "4edd78d8-45bd-46ec-aca1-26f28afa8b5b",
   "metadata": {},
   "outputs": [],
   "source": [
    "# Initialize Azure OpenAI connection\n",
    "\n",
    "model_config = {\n",
    "    \"azure_endpoint\": os.environ.get(\"AZURE_OPENAI_ENDPOINT\"),\n",
    "    \"api_key\": os.environ.get(\"AZURE_OPENAI_API_KEY\"),\n",
    "    \"azure_deployment\": os.environ.get(\"MODEL_DEPLOYMENT_NAME\"),\n",
    "    \"api_version\": os.environ.get(\"AZURE_OPENAI_API_VERSION\"),\n",
    "    \"type\": \"AzureOpenAI\" # NEEDED FOR \\Lib\\site-packages\\promptflow\\core\\_prompty_utils.py\n",
    "}"
   ]
  },
  {
   "cell_type": "markdown",
   "id": "4dfa8dc5-c6fc-4306-a3cd-422cb332d808",
   "metadata": {},
   "source": [
    "## Specify application Prompty\n",
    "The following `application.prompty` file specifies how a chat application behaves."
   ]
  },
  {
   "cell_type": "code",
   "execution_count": 4,
   "id": "ca529b72-ba77-4db9-87a9-21696f4b6d1e",
   "metadata": {},
   "outputs": [
    {
     "name": "stdout",
     "output_type": "stream",
     "text": [
      "Overwriting ./eval_assets/application.prompty\n"
     ]
    }
   ],
   "source": [
    "%%writefile ./eval_assets/application.prompty\n",
    "---\n",
    "name: ApplicationPrompty\n",
    "description: Chat RAG application\n",
    "model:\n",
    "    api: chat\n",
    "    parameters:\n",
    "        temperature: 0.0\n",
    "        top_p: 1.0\n",
    "        presence_penalty: 0\n",
    "        frequency_penalty: 0\n",
    "        response_format:\n",
    "            type: text\n",
    " \n",
    "inputs:\n",
    "    context:\n",
    "        type: string\n",
    "    query:\n",
    "        type: string\n",
    "    conversation_history:\n",
    "        type: dict\n",
    "---\n",
    "system:\n",
    "You are a helpful assistant and you're helping with the user's query. \n",
    "Keep the conversation engaging and interesting.\n",
    "\n",
    "Keep your conversation grounded in the provided context: \n",
    "{{ context }}\n",
    "\n",
    "Output with a string that continues the conversation, responding to \n",
    "the latest message from the user query using it same language:\n",
    "{{ query }}\n",
    "\n",
    "given the conversation history:\n",
    "{{ conversation_history }}"
   ]
  },
  {
   "cell_type": "code",
   "execution_count": 5,
   "id": "6da11cff-7a95-4173-a2ce-3148f7d1aecb",
   "metadata": {},
   "outputs": [
    {
     "name": "stdout",
     "output_type": "stream",
     "text": [
      "('Certo! Ecco una ricetta semplice per preparare una pizza fatta in casa:\\n'\n",
      " '\\n'\n",
      " 'Ingredienti per l’impasto:\\n'\n",
      " '- 500 g di farina 00\\n'\n",
      " '- 300 ml di acqua tiepida\\n'\n",
      " '- 10 g di sale\\n'\n",
      " '- 3 g di lievito di birra secco (oppure 10 g di lievito fresco)\\n'\n",
      " '- 1 cucchiaio di olio extravergine d’oliva\\n'\n",
      " '\\n'\n",
      " 'Procedimento:\\n'\n",
      " '1. Sciogli il lievito nell’acqua tiepida.\\n'\n",
      " '2. In una ciotola capiente, versa la farina e aggiungi il sale.\\n'\n",
      " '3. Unisci l’acqua con il lievito e inizia a impastare.\\n'\n",
      " '4. Aggiungi l’olio e continua a impastare fino a ottenere un impasto liscio '\n",
      " 'ed elastico.\\n'\n",
      " '5. Copri la ciotola con un canovaccio e lascia lievitare per almeno 2 ore '\n",
      " '(meglio se 4).\\n'\n",
      " '6. Stendi l’impasto su una teglia leggermente unta o su carta forno.\\n'\n",
      " '7. Condisci con salsa di pomodoro, mozzarella e gli ingredienti che '\n",
      " 'preferisci.\\n'\n",
      " '8. Cuoci in forno preriscaldato a 250°C per circa 10-15 minuti, finché la '\n",
      " 'pizza non è dorata.\\n'\n",
      " '\\n'\n",
      " 'Buon appetito! Se vuoi qualche consiglio sui condimenti o su come ottenere '\n",
      " 'una base più croccante, chiedimi pure!')\n"
     ]
    }
   ],
   "source": [
    "prompty_path = \"eval_assets/application.prompty\"\n",
    "flow = load_flow(source=prompty_path, model={\"configuration\": model_config})\n",
    "\n",
    "pprint(flow(context=\"\", query=\"Come preparare una pizza fatta in casa\", conversation_history=[]))"
   ]
  },
  {
   "cell_type": "code",
   "execution_count": 6,
   "id": "811aad51-cd89-4f42-85da-ec1238162f0e",
   "metadata": {},
   "outputs": [
    {
     "data": {
      "text/plain": [
       "'Che bello! È un grande classico, non passa mai di moda. Lo hai già visto oppure sarà la tua prima volta al cinema con Lo Squalo?'"
      ]
     },
     "execution_count": 6,
     "metadata": {},
     "output_type": "execute_result"
    }
   ],
   "source": [
    "context = \"Conversazione amichevole fra due persone\"\n",
    "\n",
    "conversation_history = [\n",
    "    {\n",
    "        \"content\": \"Cosa fai di bello questa sera?\",\n",
    "        \"role\": \"user\",\n",
    "        \"context\": \"Domanda amichevole\",\n",
    "    },\n",
    "    {\n",
    "        \"content\": \"Vado al cinema\",\n",
    "        \"role\": \"assistant\",\n",
    "        \"context\": \"Esposizione di un'attività ricreativa divertente\",\n",
    "    },\n",
    "    {\n",
    "        \"content\": \"Ah fantastico! Che cosa vai a vedere?\",\n",
    "        \"role\": \"user\",\n",
    "        \"context\": \"Ulteriore domanda amichevole a dimostrare interesse verso l'interlocutore\",\n",
    "    },\n",
    "    {\n",
    "        \"content\": \"Lo SQUALO di Steven Spielberg\",\n",
    "        \"role\": \"assistant\",\n",
    "        \"context\": \"Informazione specifica di un'attività divertente che si intende compiere\",\n",
    "    },\n",
    "]\n",
    "\n",
    "flow(context=conversation_history[-1][\"context\"], query=conversation_history[-1][\"content\"], conversation_history=conversation_history)"
   ]
  },
  {
   "cell_type": "code",
   "execution_count": 7,
   "id": "be6e7524-1305-4844-b5a6-d2f7a3372f65",
   "metadata": {},
   "outputs": [
    {
     "name": "stdout",
     "output_type": "stream",
     "text": [
      "Message 0 - user: Cosa fai di bello questa sera?\n",
      "\n",
      "Message 1 - assistant: Vado al cinema\n",
      "\n",
      "Message 2 - user: Ah fantastico! Che cosa vai a vedere?\n",
      "\n",
      "Message 3 - assistant: Lo SQUALO di Steven Spielberg\n",
      "\n",
      "Message 4 - user: Che bello! Un grande classico, non passa mai di moda. È la prima volta che lo vedi al cinema o lo hai già visto?\n",
      "\n"
     ]
    }
   ],
   "source": [
    "i = 0\n",
    "for ch in conversation_history:\n",
    "    print(f'Message {i} - {ch[\"role\"]}: {ch[\"content\"]}\\n')\n",
    "    i += 1\n",
    "    \n",
    "response = flow(context=conversation_history[-1][\"context\"], query=conversation_history[-1][\"content\"], conversation_history=conversation_history)\n",
    "\n",
    "conversation_history.append({\"content\": response, \"role\": \"user\" if conversation_history[-1][\"role\"]==\"assistant\" else \"assistant\", \"context\": \"\"})\n",
    "print(f'Message {i} - {conversation_history[-1][\"role\"]}: {conversation_history[-1][\"content\"]}\\n')"
   ]
  },
  {
   "cell_type": "markdown",
   "id": "4b5a7e0c-ae71-43f8-8422-3d62a6a10e70",
   "metadata": {},
   "source": [
    "## Specify target callback to simulate against\n",
    "You can bring any application endpoint to simulate against by specifying a target callback function such as the following given an application that is an LLM with a Prompty file like `application.prompty`"
   ]
  },
  {
   "cell_type": "code",
   "execution_count": 8,
   "id": "4e4e2868-cd07-403e-a475-6cd468102065",
   "metadata": {},
   "outputs": [],
   "source": [
    "async def callback(\n",
    "    messages: Dict,\n",
    "    stream: bool = False,\n",
    "    session_state: Any = None,  # noqa: ANN401\n",
    "    context: Optional[Dict[str, Any]] = None,\n",
    "    subfolder: str = \"eval_assets\",\n",
    ") -> dict:\n",
    "    messages_list = messages[\"messages\"]\n",
    "    latest_message = messages_list[-1] # Get the last message\n",
    "    query = latest_message[\"content\"]\n",
    "    context = latest_message.get(\"context\", None) # looks for context, default None\n",
    "    # Call your endpoint or AI application here\n",
    "    prompty_path = os.path.join(os.getcwd(), subfolder, \"application.prompty\") \n",
    "    _flow = load_flow(source=prompty_path, model={\"configuration\": model_config})\n",
    "    response = _flow(query=query, context=context, conversation_history=messages_list)\n",
    "    # Format the response to follow the OpenAI chat protocol\n",
    "    formatted_response = {\n",
    "        \"content\": response,\n",
    "        \"role\": \"user\" if conversation_history[-1][\"role\"]==\"assistant\" else \"assistant\",\n",
    "        \"context\": context,\n",
    "    }\n",
    "    messages[\"messages\"].append(formatted_response)\n",
    "    return {\n",
    "        \"messages\": messages[\"messages\"],\n",
    "        \"stream\": stream,\n",
    "        \"session_state\": session_state,\n",
    "        \"context\": context\n",
    "    }"
   ]
  },
  {
   "cell_type": "markdown",
   "id": "6f52fa10-fdff-4c9f-96fe-5b0a768dff29",
   "metadata": {},
   "source": [
    "## Generate text or index-based synthetic data as input\n",
    "In the first part, we prepare the text for generating the input to our simulator"
   ]
  },
  {
   "cell_type": "code",
   "execution_count": 9,
   "id": "767e05b1-2fa7-4447-84c7-b2340ec980b4",
   "metadata": {},
   "outputs": [
    {
     "name": "stdout",
     "output_type": "stream",
     "text": [
      "Leonardo di ser Piero da Vinci (15 April 1452 – 2 May 1519) was an Italian polymath of the High Rena...\n"
     ]
    }
   ],
   "source": [
    "import asyncio\n",
    "from azure.identity import DefaultAzureCredential\n",
    "import wikipedia\n",
    "import os\n",
    "# Prepare the text to send to the simulator\n",
    "wiki_search_term = \"Leonardo da Vinci\"\n",
    "wiki_title = wikipedia.search(wiki_search_term)[0]\n",
    "wiki_page = wikipedia.page(wiki_title)\n",
    "wiki_text = wiki_page.summary[:5000]\n",
    "print(f\"{wiki_text[:100]}...\")"
   ]
  },
  {
   "cell_type": "code",
   "execution_count": 10,
   "id": "ae73503b-a94b-4002-9672-5ee34a6011ff",
   "metadata": {},
   "outputs": [
    {
     "name": "stderr",
     "output_type": "stream",
     "text": [
      "Class Simulator: This is an experimental class, and may change at any time. Please see https://aka.ms/azuremlexperimental for more information.\n"
     ]
    }
   ],
   "source": [
    "from azure.ai.evaluation.simulator import Simulator\n",
    "simulator = Simulator(model_config=model_config)"
   ]
  },
  {
   "cell_type": "code",
   "execution_count": 11,
   "id": "4a38f46a-f767-4449-8fe9-af8ab99233d1",
   "metadata": {},
   "outputs": [
    {
     "name": "stderr",
     "output_type": "stream",
     "text": [
      "D:\\ProgramData\\miniconda3\\envs\\genai_evaluation\\Lib\\site-packages\\azure\\ai\\evaluation\\simulator\\_simulator.py:153: UserWarning: You have specified 'num_queries' > len('tasks') (1 > 0). All tasks will be used for generation and the remaining 1 lines will be simulated in task-free mode\n",
      "  warnings.warn(\n",
      "Generating: 100%|████████████████████████████████████████████████| 5/5 [00:51<00:00, 10.26s/message]\n"
     ]
    }
   ],
   "source": [
    "outputs = await simulator(\n",
    "    num_queries = 1,  # Number of queries\n",
    "    text        = wiki_text,\n",
    "    target      = callback   \n",
    ")"
   ]
  },
  {
   "cell_type": "code",
   "execution_count": 12,
   "id": "a09c66be-ba7a-4cee-8e58-b4b89347708f",
   "metadata": {},
   "outputs": [
    {
     "data": {
      "text/plain": [
       "[{'messages': [{'role': 'user',\n",
       "    'content': 'What is the full name and birth date of the Italian polymath of the High Renaissance known for painting, engineering, and science?',\n",
       "    'context': 'None'},\n",
       "   {'role': 'assistant',\n",
       "    'content': 'The full name of the Italian polymath is Leonardo di ser Piero da Vinci. He was born on April 15, 1452.',\n",
       "    'context': 'None'},\n",
       "   {'role': 'user',\n",
       "    'content': \"Can you tell me more about some of Leonardo da Vinci's most famous works or inventions?\",\n",
       "    'context': 'None'},\n",
       "   {'role': 'assistant',\n",
       "    'content': 'Absolutely! Leonardo da Vinci is renowned for both his artistic masterpieces and his inventive genius.\\n\\nAmong his most famous paintings are:\\n- The Mona Lisa: Perhaps the most famous painting in the world, known for her enigmatic smile and the use of sfumato (a technique of blending colors and tones).\\n- The Last Supper: A mural depicting Jesus and his disciples at the moment Jesus announces one will betray him. It’s celebrated for its composition and emotional depth.\\n- Vitruvian Man: A drawing that explores the proportions of the human body, blending art and science.\\n\\nAs for inventions, Leonardo filled his notebooks with sketches and ideas, many of which were ahead of his time. Some notable inventions include:\\n- Flying machines: He designed several concepts for human flight, including an ornithopter (a machine that mimics bird flight) and an early version of a helicopter.\\n- The armored vehicle: Often considered a precursor to the modern tank, this design featured a covered, mobile platform with cannons.\\n- The aerial screw: An early concept similar to a helicopter rotor.\\n- Various anatomical studies: His detailed drawings of the human body advanced the understanding of anatomy.\\n\\nWhile many of his inventions were never built in his lifetime, his ideas have inspired countless engineers and artists throughout history. Would you like to know more about a specific painting or invention?',\n",
       "    'context': 'None'},\n",
       "   {'role': 'user',\n",
       "    'content': \"I'm particularly interested in Leonardo's flying machines. Could you describe how his designs for human flight worked, and whether any of them were ever tested or built, either in his time or later?\",\n",
       "    'context': 'None'},\n",
       "   {'role': 'assistant',\n",
       "    'content': 'Leonardo da Vinci was fascinated by the idea of human flight, and he devoted many pages of his notebooks to studying birds and designing flying machines. His most famous designs include the ornithopter and the aerial screw.\\n\\nThe ornithopter was inspired by the way birds fly. Leonardo envisioned a machine with large, movable wings that a person could operate by lying face down and using their arms and legs to flap the wings. He believed that by mimicking the motion of birds, humans could achieve flight. However, the materials available in his time were too heavy, and human muscles alone couldn\\'t generate enough power to lift the device off the ground.\\n\\nThe aerial screw is another remarkable design, often considered a precursor to the modern helicopter. It featured a large, helical screw made of reed, linen, and wire, intended to be spun rapidly to lift the device into the air. Leonardo theorized that the screw would \"screw\" itself upward through the air, much like a screw moves through wood. However, this design also never flew, as the technology and understanding of aerodynamics were not advanced enough.\\n\\nAs for testing, there is no evidence that Leonardo himself ever built or flew any of his flying machines. Some small models may have been constructed, but none achieved sustained flight. Centuries later, modern engineers and enthusiasts have built replicas of his designs. These experiments have shown that, while ingenious, Leonardo\\'s machines would not have been capable of true flight with the materials and knowledge available in his era. Still, his work laid important groundwork for the study of aeronautics and inspired future inventors.\\n\\nWould you like to know more about a specific flying machine, or perhaps how Leonardo\\'s studies influenced later aviation pioneers?',\n",
       "    'context': 'None'},\n",
       "   {'role': 'user',\n",
       "    'content': \"That's fascinating! I'd love to know more about how Leonardo's studies and designs influenced later aviation pioneers. Can you give some examples of inventors or engineers who were inspired by his work, or how his ideas contributed to the development of modern flight?\",\n",
       "    'context': 'None'},\n",
       "   {'role': 'assistant',\n",
       "    'content': 'Absolutely! Leonardo da Vinci’s visionary studies of flight had a profound, though sometimes indirect, influence on later aviation pioneers. While his designs weren’t practical in his own time, his approach—careful observation of nature, detailed sketches, and the blending of art with engineering—set a precedent for future inventors.\\n\\nOne notable example is the Wright brothers, Orville and Wilbur, who are credited with inventing and flying the first successful powered airplane in 1903. The Wrights studied bird flight, much like Leonardo did, and even referenced his work in their own research. They admired his methodical approach and his belief that understanding natural flight was key to human flight.\\n\\nAnother example is Sir George Cayley, often called the \"father of aerodynamics.\" In the early 19th century, Cayley built and flew the first successful glider. He was aware of Leonardo’s studies and was inspired by the idea of separating the concepts of lift and propulsion—something Leonardo hinted at in his notes.\\n\\nIn the 20th century, aviation pioneers like Igor Sikorsky (inventor of the modern helicopter) and Alberto Santos-Dumont (a key figure in early aviation) also acknowledged Leonardo’s influence. Sikorsky, in particular, was inspired by Leonardo’s aerial screw when developing his own helicopter designs.\\n\\nLeonardo’s legacy is also evident in the way modern engineers and scientists approach flight: through careful observation, experimentation, and a willingness to imagine what might be possible. His notebooks continue to inspire not just engineers, but also artists and designers who see the value in blending creativity with technical skill.\\n\\nWould you like to hear about any specific modern aircraft or inventors who drew inspiration from Leonardo, or perhaps more about how his notebooks were rediscovered and studied in later centuries?',\n",
       "    'context': 'None'},\n",
       "   {'role': 'user',\n",
       "    'content': \"I'm curious about how Leonardo da Vinci's notebooks were rediscovered and studied after his death. How did his ideas become known to later generations, and are there any famous stories about the preservation or discovery of his manuscripts?\",\n",
       "    'context': 'None'},\n",
       "   {'role': 'assistant',\n",
       "    'content': 'That’s a great question! After Leonardo da Vinci’s death in 1519, his notebooks—filled with sketches, scientific observations, and inventions—were left to his pupil and friend, Francesco Melzi. Melzi took care to preserve them, but after his own death, the collection became scattered. Some notebooks were lost, while others were divided among collectors, artists, and even sold off piecemeal.\\n\\nFor centuries, Leonardo’s ideas remained relatively obscure, known only to a few scholars and artists who had access to fragments of his work. It wasn’t until the 19th and 20th centuries that a concerted effort was made to track down, study, and publish his manuscripts. One of the most famous stories involves the Codex Leicester, a notebook that passed through various hands—including Thomas Coke, the Earl of Leicester, and eventually Bill Gates, who purchased it in 1994. Gates has since made its pages available for public viewing and digital access.\\n\\nAnother well-known tale is the rediscovery of the Codex Atlanticus, the largest collection of Leonardo’s drawings and writings. It was preserved in the Biblioteca Ambrosiana in Milan, but for a long time, it was hidden away and not widely studied. In the late 19th century, scholars began to systematically catalog and publish Leonardo’s works, revealing the breadth of his genius to the world.\\n\\nToday, Leonardo’s notebooks are scattered across museums and libraries in Europe and beyond, such as the British Library, the Victoria and Albert Museum, and the Institut de France. Their preservation and study have been the result of centuries of detective work, scholarly dedication, and sometimes a bit of luck!\\n\\nIf you’re interested, I can share more about a specific codex or a particular discovery story—just let me know!',\n",
       "    'context': 'None'}],\n",
       "  'finish_reason': ['stop'],\n",
       "  'context': {'task': None,\n",
       "   'expected_response': 'Leonardo di ser Piero da Vinci (15 April 1452)',\n",
       "   'query': 'What is the full name and birth date of the Italian polymath of the High Renaissance known for painting, engineering, and science?',\n",
       "   'original_text': \"Leonardo di ser Piero da Vinci (15 April 1452 – 2 May 1519) was an Italian polymath of the High Renaissance who was active as a painter, draughtsman, engineer, scientist, theorist, sculptor, and architect. While his fame initially rested on his achievements as a painter, he has also become known for his notebooks, in which he made drawings and notes on a variety of subjects, including anatomy, astronomy, botany, cartography, painting, and palaeontology. Leonardo is widely regarded to have been a genius who epitomised the Renaissance humanist ideal, and his collective works comprise a contribution to later generations of artists matched only by that of his younger contemporary Michelangelo.\\nBorn out of wedlock to a successful notary and a lower-class woman in, or near, Vinci, he was educated in Florence by the Italian painter and sculptor Andrea del Verrocchio. He began his career in the city, but then spent much time in the service of Ludovico Sforza in Milan. Later, he worked in Florence and Milan again, as well as briefly in Rome, all while attracting a large following of imitators and students. Upon the invitation of Francis I, he spent his last three years in France, where he died in 1519. Since his death, there has not been a time where his achievements, diverse interests, personal life, and empirical thinking have failed to incite interest and admiration, making him a frequent namesake and subject in culture.\\nLeonardo is identified as one of the greatest painters in the history of Western art and is often credited as the founder of the High Renaissance. Despite having many lost works and fewer than 25 attributed major works – including numerous unfinished works – he created some of the most influential paintings in the Western canon. The Mona Lisa is his best known work and is the world's most famous individual painting. The Last Supper is the most reproduced religious painting of all time and his Vitruvian Man drawing is also regarded as a cultural icon. In 2017, Salvator Mundi, attributed in whole or part to Leonardo, was sold at auction for US$450.3 million, setting a new record for the most expensive painting ever sold at public auction.\\nRevered for his technological ingenuity, he conceptualised flying machines, a type of armoured fighting vehicle, concentrated solar power, a ratio machine that could be used in an adding machine, and the double hull. Relatively few of his designs were constructed or were even feasible during his lifetime, as the modern scientific approaches to metallurgy and engineering were only in their infancy during the Renaissance. Some of his smaller inventions, however, entered the world of manufacturing unheralded, such as an automated bobbin winder and a machine for testing the tensile strength of wire. He made substantial discoveries in anatomy, civil engineering, hydrodynamics, geology, optics, and tribology, but he did not publish his findings and they had little to no direct influence on subsequent science.\"},\n",
       "  '$schema': 'http://azureml/sdk-2-0/ChatConversation.json'}]"
      ]
     },
     "execution_count": 12,
     "metadata": {},
     "output_type": "execute_result"
    }
   ],
   "source": [
    "outputs"
   ]
  },
  {
   "cell_type": "code",
   "execution_count": 13,
   "id": "590db99a-12b5-4abe-92ea-ac12b4e2bf64",
   "metadata": {},
   "outputs": [
    {
     "name": "stdout",
     "output_type": "stream",
     "text": [
      "Message 0 - user: What is the full name and birth date of the Italian polymath of the High Renaissance known for painting, engineering, and science?\n",
      "\n",
      "Message 1 - assistant: The full name of the Italian polymath is Leonardo di ser Piero da Vinci. He was born on April 15, 1452.\n",
      "\n",
      "Message 2 - user: Can you tell me more about some of Leonardo da Vinci's most famous works or inventions?\n",
      "\n",
      "Message 3 - assistant: Absolutely! Leonardo da Vinci is renowned for both his artistic masterpieces and his inventive genius.\n",
      "\n",
      "Among his most famous paintings are:\n",
      "- The Mona Lisa: Perhaps the most famous painting in the world, known for her enigmatic smile and the use of sfumato (a technique of blending colors and tones).\n",
      "- The Last Supper: A mural depicting Jesus and his disciples at the moment Jesus announces one will betray him. It’s celebrated for its composition and emotional depth.\n",
      "- Vitruvian Man: A drawing that explores the proportions of the human body, blending art and science.\n",
      "\n",
      "As for inventions, Leonardo filled his notebooks with sketches and ideas, many of which were ahead of his time. Some notable inventions include:\n",
      "- Flying machines: He designed several concepts for human flight, including an ornithopter (a machine that mimics bird flight) and an early version of a helicopter.\n",
      "- The armored vehicle: Often considered a precursor to the modern tank, this design featured a covered, mobile platform with cannons.\n",
      "- The aerial screw: An early concept similar to a helicopter rotor.\n",
      "- Various anatomical studies: His detailed drawings of the human body advanced the understanding of anatomy.\n",
      "\n",
      "While many of his inventions were never built in his lifetime, his ideas have inspired countless engineers and artists throughout history. Would you like to know more about a specific painting or invention?\n",
      "\n",
      "Message 4 - user: I'm particularly interested in Leonardo's flying machines. Could you describe how his designs for human flight worked, and whether any of them were ever tested or built, either in his time or later?\n",
      "\n",
      "Message 5 - assistant: Leonardo da Vinci was fascinated by the idea of human flight, and he devoted many pages of his notebooks to studying birds and designing flying machines. His most famous designs include the ornithopter and the aerial screw.\n",
      "\n",
      "The ornithopter was inspired by the way birds fly. Leonardo envisioned a machine with large, movable wings that a person could operate by lying face down and using their arms and legs to flap the wings. He believed that by mimicking the motion of birds, humans could achieve flight. However, the materials available in his time were too heavy, and human muscles alone couldn't generate enough power to lift the device off the ground.\n",
      "\n",
      "The aerial screw is another remarkable design, often considered a precursor to the modern helicopter. It featured a large, helical screw made of reed, linen, and wire, intended to be spun rapidly to lift the device into the air. Leonardo theorized that the screw would \"screw\" itself upward through the air, much like a screw moves through wood. However, this design also never flew, as the technology and understanding of aerodynamics were not advanced enough.\n",
      "\n",
      "As for testing, there is no evidence that Leonardo himself ever built or flew any of his flying machines. Some small models may have been constructed, but none achieved sustained flight. Centuries later, modern engineers and enthusiasts have built replicas of his designs. These experiments have shown that, while ingenious, Leonardo's machines would not have been capable of true flight with the materials and knowledge available in his era. Still, his work laid important groundwork for the study of aeronautics and inspired future inventors.\n",
      "\n",
      "Would you like to know more about a specific flying machine, or perhaps how Leonardo's studies influenced later aviation pioneers?\n",
      "\n",
      "Message 6 - user: That's fascinating! I'd love to know more about how Leonardo's studies and designs influenced later aviation pioneers. Can you give some examples of inventors or engineers who were inspired by his work, or how his ideas contributed to the development of modern flight?\n",
      "\n",
      "Message 7 - assistant: Absolutely! Leonardo da Vinci’s visionary studies of flight had a profound, though sometimes indirect, influence on later aviation pioneers. While his designs weren’t practical in his own time, his approach—careful observation of nature, detailed sketches, and the blending of art with engineering—set a precedent for future inventors.\n",
      "\n",
      "One notable example is the Wright brothers, Orville and Wilbur, who are credited with inventing and flying the first successful powered airplane in 1903. The Wrights studied bird flight, much like Leonardo did, and even referenced his work in their own research. They admired his methodical approach and his belief that understanding natural flight was key to human flight.\n",
      "\n",
      "Another example is Sir George Cayley, often called the \"father of aerodynamics.\" In the early 19th century, Cayley built and flew the first successful glider. He was aware of Leonardo’s studies and was inspired by the idea of separating the concepts of lift and propulsion—something Leonardo hinted at in his notes.\n",
      "\n",
      "In the 20th century, aviation pioneers like Igor Sikorsky (inventor of the modern helicopter) and Alberto Santos-Dumont (a key figure in early aviation) also acknowledged Leonardo’s influence. Sikorsky, in particular, was inspired by Leonardo’s aerial screw when developing his own helicopter designs.\n",
      "\n",
      "Leonardo’s legacy is also evident in the way modern engineers and scientists approach flight: through careful observation, experimentation, and a willingness to imagine what might be possible. His notebooks continue to inspire not just engineers, but also artists and designers who see the value in blending creativity with technical skill.\n",
      "\n",
      "Would you like to hear about any specific modern aircraft or inventors who drew inspiration from Leonardo, or perhaps more about how his notebooks were rediscovered and studied in later centuries?\n",
      "\n",
      "Message 8 - user: I'm curious about how Leonardo da Vinci's notebooks were rediscovered and studied after his death. How did his ideas become known to later generations, and are there any famous stories about the preservation or discovery of his manuscripts?\n",
      "\n",
      "Message 9 - assistant: That’s a great question! After Leonardo da Vinci’s death in 1519, his notebooks—filled with sketches, scientific observations, and inventions—were left to his pupil and friend, Francesco Melzi. Melzi took care to preserve them, but after his own death, the collection became scattered. Some notebooks were lost, while others were divided among collectors, artists, and even sold off piecemeal.\n",
      "\n",
      "For centuries, Leonardo’s ideas remained relatively obscure, known only to a few scholars and artists who had access to fragments of his work. It wasn’t until the 19th and 20th centuries that a concerted effort was made to track down, study, and publish his manuscripts. One of the most famous stories involves the Codex Leicester, a notebook that passed through various hands—including Thomas Coke, the Earl of Leicester, and eventually Bill Gates, who purchased it in 1994. Gates has since made its pages available for public viewing and digital access.\n",
      "\n",
      "Another well-known tale is the rediscovery of the Codex Atlanticus, the largest collection of Leonardo’s drawings and writings. It was preserved in the Biblioteca Ambrosiana in Milan, but for a long time, it was hidden away and not widely studied. In the late 19th century, scholars began to systematically catalog and publish Leonardo’s works, revealing the breadth of his genius to the world.\n",
      "\n",
      "Today, Leonardo’s notebooks are scattered across museums and libraries in Europe and beyond, such as the British Library, the Victoria and Albert Museum, and the Institut de France. Their preservation and study have been the result of centuries of detective work, scholarly dedication, and sometimes a bit of luck!\n",
      "\n",
      "If you’re interested, I can share more about a specific codex or a particular discovery story—just let me know!\n",
      "\n"
     ]
    }
   ],
   "source": [
    "i = 0\n",
    "for ch in outputs[0][\"messages\"]:\n",
    "    print(f'Message {i} - {ch[\"role\"]}: {ch[\"content\"]}\\n')\n",
    "    i += 1"
   ]
  }
 ],
 "metadata": {
  "kernelspec": {
   "display_name": "Generative AI evaluation",
   "language": "python",
   "name": "genai_evaluation"
  },
  "language_info": {
   "codemirror_mode": {
    "name": "ipython",
    "version": 3
   },
   "file_extension": ".py",
   "mimetype": "text/x-python",
   "name": "python",
   "nbconvert_exporter": "python",
   "pygments_lexer": "ipython3",
   "version": "3.12.9"
  }
 },
 "nbformat": 4,
 "nbformat_minor": 5
}
