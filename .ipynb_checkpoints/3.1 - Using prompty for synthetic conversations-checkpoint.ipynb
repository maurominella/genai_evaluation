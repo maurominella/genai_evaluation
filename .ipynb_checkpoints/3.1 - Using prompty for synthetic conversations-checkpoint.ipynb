{
 "cells": [
  {
   "cell_type": "markdown",
   "id": "c479b344-f6ae-454d-a96c-85f9137f16dc",
   "metadata": {},
   "source": [
    "# [Generate synthetic and simulated data for evaluation](https://learn.microsoft.com/en-us/azure/ai-foundry/how-to/develop/simulator-interaction-data)\n",
    "**Azure AI Evaluation SDK's** `Simulator` provides an end-to-end synthetic data generation capability to help developers test their application's response to typical user queries in the absence of production data. AI developers can use an index or text-based query generator and fully customizable simulator to create robust test datasets around non-adversarial tasks specific to their application. The `Simulator` class is a powerful tool designed to generate synthetic conversations and simulate task-based interactions. This capability is useful for:\n",
    "- **Testing Conversational Applications**: Ensure your chatbots and virtual assistants respond accurately under various scenarios.\n",
    "- **Training AI Models**: Generate diverse datasets to train and fine-tune machine learning models.\n",
    "- **Generating Datasets**: Create extensive conversation logs for analysis and development purposes.\n",
    "By automating the creation of synthetic data, the Simulator class helps streamline the development and testing processes, ensuring your applications are robust and reliable.\n",
    "<br/>\n",
    "By automating the creation of synthetic data, the `Simulator` class helps streamline the development and testing processes, ensuring your applications are robust and reliable."
   ]
  },
  {
   "cell_type": "code",
   "execution_count": 1,
   "id": "43f1ba86-e977-4636-8887-04394b833f55",
   "metadata": {},
   "outputs": [],
   "source": [
    "# !az login"
   ]
  },
  {
   "cell_type": "code",
   "execution_count": 2,
   "id": "7b8ac0ff-c633-4603-b3bf-c63ef79b1995",
   "metadata": {},
   "outputs": [],
   "source": [
    "# Constants and Libraries\n",
    "import os, json\n",
    "from azure.identity import DefaultAzureCredential, get_bearer_token_provider #requires azure-identity\n",
    "from pprint import pprint\n",
    "from dotenv import load_dotenv # requires python-dotenv\n",
    "from typing import List, Dict, Any, Optional\n",
    "from promptflow.client import load_flow\n",
    "from pprint import pprint\n",
    "\n",
    "if not load_dotenv(\"./../../config/credentials_my.env\"):\n",
    "    print(\"Environment variables not loaded, cell execution stopped\")\n",
    "    sys.exit()\n",
    "os.environ[\"AZURE_OPENAI_API_VERSION\"] = os.environ[\"OPENAI_API_VERSION\"]\n",
    "\n",
    "credential = DefaultAzureCredential()"
   ]
  },
  {
   "cell_type": "code",
   "execution_count": 3,
   "id": "4edd78d8-45bd-46ec-aca1-26f28afa8b5b",
   "metadata": {},
   "outputs": [],
   "source": [
    "# Initialize Azure OpenAI connection\n",
    "\n",
    "model_config = {\n",
    "    \"azure_endpoint\": os.environ.get(\"AZURE_OPENAI_ENDPOINT\"),\n",
    "    \"api_key\": os.environ.get(\"AZURE_OPENAI_API_KEY\"),\n",
    "    \"azure_deployment\": os.environ.get(\"MODEL_DEPLOYMENT_NAME\"),\n",
    "    \"api_version\": os.environ.get(\"AZURE_OPENAI_API_VERSION\"),\n",
    "    \"type\": \"AzureOpenAI\" # NEEDED FOR \\Lib\\site-packages\\promptflow\\core\\_prompty_utils.py\n",
    "}"
   ]
  },
  {
   "cell_type": "markdown",
   "id": "4dfa8dc5-c6fc-4306-a3cd-422cb332d808",
   "metadata": {},
   "source": [
    "## Specify application Prompty\n",
    "The following `application.prompty` file specifies how a chat application behaves."
   ]
  },
  {
   "cell_type": "code",
   "execution_count": 4,
   "id": "ca529b72-ba77-4db9-87a9-21696f4b6d1e",
   "metadata": {},
   "outputs": [
    {
     "name": "stdout",
     "output_type": "stream",
     "text": [
      "Overwriting ./eval_assets/application.prompty\n"
     ]
    }
   ],
   "source": [
    "%%writefile ./eval_assets/application.prompty\n",
    "---\n",
    "name: ApplicationPrompty\n",
    "description: Chat RAG application\n",
    "model:\n",
    "    api: chat\n",
    "    parameters:\n",
    "        temperature: 0.0\n",
    "        top_p: 1.0\n",
    "        presence_penalty: 0\n",
    "        frequency_penalty: 0\n",
    "        response_format:\n",
    "            type: text\n",
    " \n",
    "inputs:\n",
    "    context:\n",
    "        type: string\n",
    "    query:\n",
    "        type: string\n",
    "    conversation_history:\n",
    "        type: dict\n",
    "---\n",
    "system:\n",
    "You are a helpful assistant and you're helping with the user's query. \n",
    "Keep the conversation engaging and interesting.\n",
    "\n",
    "Keep your conversation grounded in the provided context: \n",
    "{{ context }}\n",
    "\n",
    "Output with a string that continues the conversation, responding to \n",
    "the latest message from the user query using it same language:\n",
    "{{ query }}\n",
    "\n",
    "given the conversation history:\n",
    "{{ conversation_history }}"
   ]
  },
  {
   "cell_type": "code",
   "execution_count": 5,
   "id": "6da11cff-7a95-4173-a2ce-3148f7d1aecb",
   "metadata": {},
   "outputs": [
    {
     "name": "stdout",
     "output_type": "stream",
     "text": [
      "(\"Making pizza at home is a fun and delicious activity! Here's a simple guide \"\n",
      " 'to get you started:\\n'\n",
      " '\\n'\n",
      " '1. **Ingredients**:\\n'\n",
      " '   - **Dough**: You can make your own or buy pre-made dough. For homemade, '\n",
      " \"you'll need flour, yeast, water, salt, and olive oil.\\n\"\n",
      " '   - **Sauce**: Tomato sauce or pizza sauce.\\n'\n",
      " '   - **Cheese**: Mozzarella is classic, but feel free to mix in other '\n",
      " 'cheeses like parmesan or cheddar.\\n'\n",
      " '   - **Toppings**: Whatever you like! Popular choices include pepperoni, '\n",
      " 'mushrooms, bell peppers, onions, olives, and basil.\\n'\n",
      " '\\n'\n",
      " '2. **Instructions**:\\n'\n",
      " '   - **Prepare the Dough**: If making from scratch, mix the flour, yeast, '\n",
      " 'salt, and water until it forms a dough. Knead it for about 10 minutes, then '\n",
      " 'let it rise for an hour.\\n'\n",
      " '   - **Preheat the Oven**: Set it to 475°F (245°C).\\n'\n",
      " '   - **Roll Out the Dough**: Once risen, roll out the dough on a floured '\n",
      " 'surface to your desired thickness.\\n'\n",
      " '   - **Add Sauce and Toppings**: Spread the sauce over the dough, sprinkle '\n",
      " 'cheese, and add your favorite toppings.\\n'\n",
      " '   - **Bake**: Place the pizza in the oven and bake for 10-15 minutes until '\n",
      " 'the crust is golden and the cheese is bubbly.\\n'\n",
      " '   - **Enjoy**: Let it cool for a few minutes, slice it up, and enjoy your '\n",
      " 'homemade pizza!\\n'\n",
      " '\\n'\n",
      " \"Feel free to get creative with your toppings and sauces. What's your \"\n",
      " 'favorite pizza topping?')\n"
     ]
    }
   ],
   "source": [
    "prompty_path = \"eval_assets/application.prompty\"\n",
    "flow = load_flow(source=prompty_path, model={\"configuration\": model_config})\n",
    "\n",
    "pprint(flow(context=\"\", query=\"How to make a pizza at home\", conversation_history=[]))"
   ]
  },
  {
   "cell_type": "raw",
   "id": "bba92efa-4dad-4a4a-bc1a-f5193e10b63c",
   "metadata": {},
   "source": [
    "# Italian version\n",
    "context = \"Conversazione amichevole fra due persone\"\n",
    "\n",
    "conversation_history = [\n",
    "    {\n",
    "        \"content\": \"Cosa fai di bello questa sera?\",\n",
    "        \"role\": \"user\",\n",
    "        \"context\": \"Domanda amichevole\",\n",
    "    },\n",
    "    {\n",
    "        \"content\": \"Vado al cinema\",\n",
    "        \"role\": \"assistant\",\n",
    "        \"context\": \"Esposizione di un'attività ricreativa divertente\",\n",
    "    },\n",
    "    {\n",
    "        \"content\": \"Ah fantastico! Che cosa vai a vedere?\",\n",
    "        \"role\": \"user\",\n",
    "        \"context\": \"Ulteriore domanda amichevole a dimostrare interesse verso l'interlocutore\",\n",
    "    },\n",
    "    {\n",
    "        \"content\": \"Lo SQUALO di Steven Spielberg\",\n",
    "        \"role\": \"assistant\",\n",
    "        \"context\": \"Informazione specifica di un'attività divertente che si intende compiere\",\n",
    "    },\n",
    "]\n",
    "\n",
    "flow(context=conversation_history[-1][\"context\"], query=conversation_history[-1][\"content\"], conversation_history=conversation_history)"
   ]
  },
  {
   "cell_type": "code",
   "execution_count": 6,
   "id": "811aad51-cd89-4f42-85da-ec1238162f0e",
   "metadata": {},
   "outputs": [],
   "source": [
    "# English version\n",
    "\n",
    "context = \"Friendly conversation between two people, in English\"\n",
    "\n",
    "conversation_history = [\n",
    "    {\n",
    "        \"content\": \"What are you up to this evening?\",\n",
    "        \"role\": \"user\",\n",
    "        \"context\": \"Friendly question\",\n",
    "    },\n",
    "    {\n",
    "        \"content\": \"I'm going to the cinema\",\n",
    "        \"role\": \"assistant\",\n",
    "        \"context\": \"Description of a fun recreational activity\",\n",
    "    },\n",
    "    {\n",
    "        \"content\": \"Ah fantastic! What are you going to see?\",\n",
    "        \"role\": \"user\",\n",
    "        \"context\": \"Follow-up friendly question showing interest in the other person\",\n",
    "    },\n",
    "    {\n",
    "        \"content\": \"JAWS by Steven Spielberg\",\n",
    "        \"role\": \"assistant\",\n",
    "        \"context\": \"Specific information about a fun activity one plans to do\",\n",
    "    },\n",
    "]\n",
    "\n",
    "# flow(context=conversation_history[-1][\"context\"], query=conversation_history[-1][\"content\"], conversation_history=conversation_history)"
   ]
  },
  {
   "cell_type": "code",
   "execution_count": 7,
   "id": "be6e7524-1305-4844-b5a6-d2f7a3372f65",
   "metadata": {},
   "outputs": [
    {
     "name": "stdout",
     "output_type": "stream",
     "text": [
      "Message 0 - user: What are you up to this evening?\n",
      "\n",
      "Message 1 - assistant: I'm going to the cinema\n",
      "\n",
      "Message 2 - user: Ah fantastic! What are you going to see?\n",
      "\n",
      "Message 3 - assistant: JAWS by Steven Spielberg\n",
      "\n",
      "Message 4 - user: That sounds thrilling! JAWS is such a classic. Are you a fan of Spielberg's work, or is this your first time watching it?\n",
      "\n"
     ]
    }
   ],
   "source": [
    "i = 0\n",
    "for ch in conversation_history:\n",
    "    print(f'Message {i} - {ch[\"role\"]}: {ch[\"content\"]}\\n')\n",
    "    i += 1\n",
    "    \n",
    "response = flow(context=conversation_history[-1][\"context\"], query=conversation_history[-1][\"content\"], conversation_history=conversation_history)\n",
    "\n",
    "conversation_history.append({\"content\": response, \"role\": \"user\" if conversation_history[-1][\"role\"]==\"assistant\" else \"assistant\", \"context\": \"\"})\n",
    "print(f'Message {i} - {conversation_history[-1][\"role\"]}: {conversation_history[-1][\"content\"]}\\n')"
   ]
  },
  {
   "cell_type": "markdown",
   "id": "4b5a7e0c-ae71-43f8-8422-3d62a6a10e70",
   "metadata": {},
   "source": [
    "## Specify target callback to simulate against\n",
    "You can bring any application endpoint to simulate against by specifying a target callback function such as the following given an application that is an LLM with a Prompty file like `application.prompty`"
   ]
  },
  {
   "cell_type": "code",
   "execution_count": 8,
   "id": "4e4e2868-cd07-403e-a475-6cd468102065",
   "metadata": {},
   "outputs": [],
   "source": [
    "async def callback(\n",
    "    messages: Dict,\n",
    "    stream: bool = False,\n",
    "    session_state: Any = None,  # noqa: ANN401\n",
    "    context: Optional[Dict[str, Any]] = None,\n",
    "    subfolder: str = \"eval_assets\",\n",
    ") -> dict:\n",
    "    messages_list = messages[\"messages\"]\n",
    "    latest_message = messages_list[-1] # Get the last message\n",
    "    query = latest_message[\"content\"]\n",
    "    context = latest_message.get(\"context\", None) # looks for context, default None\n",
    "    # Call your endpoint or AI application here\n",
    "    prompty_path = os.path.join(os.getcwd(), subfolder, \"application.prompty\") \n",
    "    _flow = load_flow(source=prompty_path, model={\"configuration\": model_config})\n",
    "    response = _flow(query=query, context=context, conversation_history=messages_list)\n",
    "    # Format the response to follow the OpenAI chat protocol\n",
    "    formatted_response = {\n",
    "        \"content\": response,\n",
    "        \"role\": \"user\" if conversation_history[-1][\"role\"]==\"assistant\" else \"assistant\",\n",
    "        \"context\": context,\n",
    "    }\n",
    "    messages[\"messages\"].append(formatted_response)\n",
    "    return {\n",
    "        \"messages\": messages[\"messages\"],\n",
    "        \"stream\": stream,\n",
    "        \"session_state\": session_state,\n",
    "        \"context\": context\n",
    "    }"
   ]
  },
  {
   "cell_type": "markdown",
   "id": "6f52fa10-fdff-4c9f-96fe-5b0a768dff29",
   "metadata": {},
   "source": [
    "## Generate text or index-based synthetic data as input\n",
    "In the first part, we prepare the text for generating the input to our simulator"
   ]
  },
  {
   "cell_type": "code",
   "execution_count": 9,
   "id": "767e05b1-2fa7-4447-84c7-b2340ec980b4",
   "metadata": {},
   "outputs": [
    {
     "name": "stdout",
     "output_type": "stream",
     "text": [
      "Leonardo di ser Piero da Vinci (15 April 1452 – 2 May 1519) was an Italian polymath of the High Rena...\n"
     ]
    }
   ],
   "source": [
    "import asyncio\n",
    "from azure.identity import DefaultAzureCredential\n",
    "import wikipedia\n",
    "import os\n",
    "# Prepare the text to send to the simulator\n",
    "wiki_search_term = \"Leonardo da Vinci\"\n",
    "wiki_title = wikipedia.search(wiki_search_term)[0]\n",
    "wiki_page = wikipedia.page(wiki_title)\n",
    "wiki_text = wiki_page.summary[:5000]\n",
    "print(f\"{wiki_text[:100]}...\")"
   ]
  },
  {
   "cell_type": "code",
   "execution_count": 10,
   "id": "ae73503b-a94b-4002-9672-5ee34a6011ff",
   "metadata": {},
   "outputs": [
    {
     "name": "stderr",
     "output_type": "stream",
     "text": [
      "Class Simulator: This is an experimental class, and may change at any time. Please see https://aka.ms/azuremlexperimental for more information.\n"
     ]
    }
   ],
   "source": [
    "from azure.ai.evaluation.simulator import Simulator\n",
    "simulator = Simulator(model_config=model_config)"
   ]
  },
  {
   "cell_type": "code",
   "execution_count": 11,
   "id": "4a38f46a-f767-4449-8fe9-af8ab99233d1",
   "metadata": {},
   "outputs": [
    {
     "name": "stderr",
     "output_type": "stream",
     "text": [
      "/anaconda/envs/genai_evaluation/lib/python3.13/site-packages/azure/ai/evaluation/simulator/_simulator.py:158: UserWarning: You have specified 'num_queries' > len('tasks') (1 > 0). All tasks will be used for generation and the remaining 1 lines will be simulated in task-free mode\n",
      "  warnings.warn(\n",
      "Generating: 100%|████████████████████████████████████████████████| 5/5 [00:21<00:00,  4.33s/message]\n"
     ]
    }
   ],
   "source": [
    "outputs = await simulator(\n",
    "    num_queries = 1,  # Number of queries\n",
    "    text        = wiki_text,\n",
    "    target      = callback   \n",
    ")"
   ]
  },
  {
   "cell_type": "code",
   "execution_count": 12,
   "id": "a09c66be-ba7a-4cee-8e58-b4b89347708f",
   "metadata": {},
   "outputs": [
    {
     "data": {
      "text/plain": [
       "[{'messages': [{'role': 'user',\n",
       "    'content': 'What was the sale price of Salvator Mundi attributed to Leonardo at auction in 2017?',\n",
       "    'context': 'None'},\n",
       "   {'role': 'assistant',\n",
       "    'content': 'The \"Salvator Mundi\" attributed to Leonardo da Vinci was sold at auction in 2017 for a staggering $450.3 million, making it the most expensive painting ever sold at auction. It\\'s quite a fascinating piece with a mysterious history!',\n",
       "    'context': 'None'},\n",
       "   {'role': 'user',\n",
       "    'content': \"That's incredible! Do you know where the painting is currently located or who owns it now?\",\n",
       "    'context': 'None'},\n",
       "   {'role': 'assistant',\n",
       "    'content': 'The \"Salvator Mundi\" is believed to be owned by Saudi Arabia\\'s Crown Prince Mohammed bin Salman. There have been reports suggesting that the painting might be housed on his yacht, the Serene, or possibly in storage. However, its exact location remains somewhat of a mystery, adding to the intrigue surrounding this masterpiece. Would you like to know more about its history or the controversies surrounding it?',\n",
       "    'context': 'None'},\n",
       "   {'role': 'user',\n",
       "    'content': \"Yes, I'd love to learn more about the controversies surrounding the 'Salvator Mundi.' What are some of the main points of debate or intrigue?\",\n",
       "    'context': 'None'},\n",
       "   {'role': 'assistant',\n",
       "    'content': 'The \"Salvator Mundi\" is indeed surrounded by several controversies and debates. One of the main points of intrigue is its attribution to Leonardo da Vinci. Some experts question whether Leonardo himself painted the entire work or if it was completed by his workshop with his guidance. The painting underwent extensive restoration, which has led to debates about how much of the original work remains and how much was altered during restoration.\\n\\nAnother controversy involves its provenance. The painting\\'s history is somewhat murky, with gaps in its ownership record over the centuries. It was rediscovered in 2005 and underwent significant restoration before being attributed to Leonardo.\\n\\nAdditionally, the painting\\'s current whereabouts and ownership have sparked intrigue. As mentioned, it\\'s believed to be owned by Crown Prince Mohammed bin Salman, but its exact location is uncertain, adding to the mystery.\\n\\nThese factors, combined with its record-breaking sale price, make the \"Salvator Mundi\" a subject of ongoing fascination and debate in the art world. Would you like to delve into any specific aspect further?',\n",
       "    'context': 'None'},\n",
       "   {'role': 'user',\n",
       "    'content': \"The restoration process sounds intriguing. Could you tell me more about what was involved in restoring the 'Salvator Mundi' and how it impacted the painting's authenticity?\",\n",
       "    'context': 'None'},\n",
       "   {'role': 'assistant',\n",
       "    'content': 'The restoration of the \"Salvator Mundi\" was indeed a complex and meticulous process. When the painting was rediscovered in 2005, it was in poor condition, with layers of overpainting and damage that obscured its original features. The restoration involved carefully removing these layers to reveal what was believed to be Leonardo\\'s work underneath.\\n\\nOne of the key aspects of the restoration was the cleaning and stabilization of the paint surface, which required expert knowledge and precision. Conservators worked to uncover the original colors and details, such as the intricate depiction of Christ\\'s face and the orb he holds. This process also involved retouching areas where the original paint had been lost, which is where debates about authenticity arise. Some critics argue that the extent of restoration may have altered the painting\\'s original character, raising questions about how much of the work is truly Leonardo\\'s.\\n\\nThe restoration undoubtedly played a significant role in the painting\\'s attribution to Leonardo and its subsequent valuation. However, it also sparked discussions about the balance between preserving historical art and maintaining its authenticity. The debate continues, with some experts praising the restoration for bringing a masterpiece back to life, while others remain skeptical about the degree of intervention.\\n\\nWould you like to explore more about the techniques used in art restoration or the impact of such processes on other famous artworks?',\n",
       "    'context': 'None'},\n",
       "   {'role': 'user',\n",
       "    'content': \"I'm curious about the techniques used in art restoration. Could you explain some common methods and how they help preserve artworks while maintaining their authenticity?\",\n",
       "    'context': 'None'},\n",
       "   {'role': 'assistant',\n",
       "    'content': \"Art restoration is a fascinating field that combines science, art, and history to preserve and maintain the integrity of artworks. Here are some common techniques used in art restoration:\\n\\n1. **Cleaning**: This involves removing dirt, grime, and old varnish from the surface of a painting. Conservators use gentle solvents and tools to clean the artwork without damaging the original paint. This process can reveal hidden details and restore the vibrancy of the colors.\\n\\n2. **Stabilization**: This technique is used to address structural issues, such as flaking paint or a weakened canvas. Conservators may apply adhesives to secure loose paint or reinforce the canvas to prevent further deterioration.\\n\\n3. **Inpainting**: When parts of a painting are damaged or missing, conservators use inpainting to fill in these areas. They carefully match the original colors and brushstrokes to ensure the restoration blends seamlessly with the existing artwork. This technique is crucial for maintaining the visual continuity of the piece.\\n\\n4. **Varnishing**: After restoration, a new layer of varnish is often applied to protect the painting and enhance its appearance. Varnish can deepen colors and add a uniform sheen, but it must be chosen carefully to avoid altering the artwork's original look.\\n\\n5. **Documentation and Analysis**: Before any restoration work begins, conservators thoroughly document the artwork's condition and conduct scientific analyses, such as X-rays or infrared imaging. These techniques help identify the materials used and the extent of damage, guiding the restoration process.\\n\\nThese methods aim to preserve the artwork's authenticity while ensuring its longevity. The challenge lies in balancing intervention with respect for the original artist's intent. Each restoration is unique, requiring a tailored approach to honor the historical and artistic significance of the piece. Would you like to know more about specific restoration projects or the ethical considerations involved in this field?\",\n",
       "    'context': 'None'}],\n",
       "  'finish_reason': ['stop'],\n",
       "  'context': {'task': None,\n",
       "   'expected_response': 'US$450.3 million',\n",
       "   'query': 'What was the sale price of Salvator Mundi attributed to Leonardo at auction in 2017?',\n",
       "   'original_text': \"Leonardo di ser Piero da Vinci (15 April 1452 – 2 May 1519) was an Italian polymath of the High Renaissance who was active as a painter, draughtsman, engineer, scientist, theorist, sculptor, and architect. While his fame initially rested on his achievements as a painter, he has also become known for his notebooks, in which he made drawings and notes on a variety of subjects, including anatomy, astronomy, botany, cartography, painting, and palaeontology. Leonardo is widely regarded to have been a genius who epitomised the Renaissance humanist ideal, and his collective works comprise a contribution to later generations of artists matched only by that of his younger contemporary Michelangelo.\\nBorn out of wedlock to a successful notary and a lower-class woman in, or near, Vinci, he was educated in Florence by the Italian painter and sculptor Andrea del Verrocchio. He began his career in the city, but then spent much time in the service of Ludovico Sforza in Milan. Later, he worked in Florence and Milan again, as well as briefly in Rome, all while attracting a large following of imitators and students. Upon the invitation of Francis I, he spent his last three years in France, where he died in 1519. Since his death, there has not been a time where his achievements, diverse interests, personal life, and empirical thinking have failed to incite interest and admiration, making him a frequent namesake and subject in culture.\\nLeonardo is identified as one of the greatest painters in the history of Western art and is often credited as the founder of the High Renaissance. Despite having many lost works and fewer than 25 attributed major works – including numerous unfinished works – he created some of the most influential paintings in the Western canon. The Mona Lisa is his best known work and is the world's most famous individual painting. The Last Supper is the most reproduced religious painting of all time and his Vitruvian Man drawing is also regarded as a cultural icon. In 2017, Salvator Mundi, attributed in whole or part to Leonardo, was sold at auction for US$450.3 million, setting a new record for the most expensive painting ever sold at public auction.\\nRevered for his technological ingenuity, he conceptualised flying machines, a type of armoured fighting vehicle, concentrated solar power, a ratio machine that could be used in an adding machine, and the double hull. Relatively few of his designs were constructed or were even feasible during his lifetime, as the modern scientific approaches to metallurgy and engineering were only in their infancy during the Renaissance. Some of his smaller inventions, however, entered the world of manufacturing unheralded, such as an automated bobbin winder and a machine for testing the tensile strength of wire. He made substantial discoveries in anatomy, civil engineering, hydrodynamics, geology, optics, and tribology, but he did not publish his findings and they had little to no direct influence on subsequent science.\"},\n",
       "  '$schema': 'http://azureml/sdk-2-0/ChatConversation.json'}]"
      ]
     },
     "execution_count": 12,
     "metadata": {},
     "output_type": "execute_result"
    }
   ],
   "source": [
    "outputs"
   ]
  },
  {
   "cell_type": "code",
   "execution_count": 13,
   "id": "590db99a-12b5-4abe-92ea-ac12b4e2bf64",
   "metadata": {},
   "outputs": [
    {
     "name": "stdout",
     "output_type": "stream",
     "text": [
      "Message 0 - user: What was the sale price of Salvator Mundi attributed to Leonardo at auction in 2017?\n",
      "\n",
      "Message 1 - assistant: The \"Salvator Mundi\" attributed to Leonardo da Vinci was sold at auction in 2017 for a staggering $450.3 million, making it the most expensive painting ever sold at auction. It's quite a fascinating piece with a mysterious history!\n",
      "\n",
      "Message 2 - user: That's incredible! Do you know where the painting is currently located or who owns it now?\n",
      "\n",
      "Message 3 - assistant: The \"Salvator Mundi\" is believed to be owned by Saudi Arabia's Crown Prince Mohammed bin Salman. There have been reports suggesting that the painting might be housed on his yacht, the Serene, or possibly in storage. However, its exact location remains somewhat of a mystery, adding to the intrigue surrounding this masterpiece. Would you like to know more about its history or the controversies surrounding it?\n",
      "\n",
      "Message 4 - user: Yes, I'd love to learn more about the controversies surrounding the 'Salvator Mundi.' What are some of the main points of debate or intrigue?\n",
      "\n",
      "Message 5 - assistant: The \"Salvator Mundi\" is indeed surrounded by several controversies and debates. One of the main points of intrigue is its attribution to Leonardo da Vinci. Some experts question whether Leonardo himself painted the entire work or if it was completed by his workshop with his guidance. The painting underwent extensive restoration, which has led to debates about how much of the original work remains and how much was altered during restoration.\n",
      "\n",
      "Another controversy involves its provenance. The painting's history is somewhat murky, with gaps in its ownership record over the centuries. It was rediscovered in 2005 and underwent significant restoration before being attributed to Leonardo.\n",
      "\n",
      "Additionally, the painting's current whereabouts and ownership have sparked intrigue. As mentioned, it's believed to be owned by Crown Prince Mohammed bin Salman, but its exact location is uncertain, adding to the mystery.\n",
      "\n",
      "These factors, combined with its record-breaking sale price, make the \"Salvator Mundi\" a subject of ongoing fascination and debate in the art world. Would you like to delve into any specific aspect further?\n",
      "\n",
      "Message 6 - user: The restoration process sounds intriguing. Could you tell me more about what was involved in restoring the 'Salvator Mundi' and how it impacted the painting's authenticity?\n",
      "\n",
      "Message 7 - assistant: The restoration of the \"Salvator Mundi\" was indeed a complex and meticulous process. When the painting was rediscovered in 2005, it was in poor condition, with layers of overpainting and damage that obscured its original features. The restoration involved carefully removing these layers to reveal what was believed to be Leonardo's work underneath.\n",
      "\n",
      "One of the key aspects of the restoration was the cleaning and stabilization of the paint surface, which required expert knowledge and precision. Conservators worked to uncover the original colors and details, such as the intricate depiction of Christ's face and the orb he holds. This process also involved retouching areas where the original paint had been lost, which is where debates about authenticity arise. Some critics argue that the extent of restoration may have altered the painting's original character, raising questions about how much of the work is truly Leonardo's.\n",
      "\n",
      "The restoration undoubtedly played a significant role in the painting's attribution to Leonardo and its subsequent valuation. However, it also sparked discussions about the balance between preserving historical art and maintaining its authenticity. The debate continues, with some experts praising the restoration for bringing a masterpiece back to life, while others remain skeptical about the degree of intervention.\n",
      "\n",
      "Would you like to explore more about the techniques used in art restoration or the impact of such processes on other famous artworks?\n",
      "\n",
      "Message 8 - user: I'm curious about the techniques used in art restoration. Could you explain some common methods and how they help preserve artworks while maintaining their authenticity?\n",
      "\n",
      "Message 9 - assistant: Art restoration is a fascinating field that combines science, art, and history to preserve and maintain the integrity of artworks. Here are some common techniques used in art restoration:\n",
      "\n",
      "1. **Cleaning**: This involves removing dirt, grime, and old varnish from the surface of a painting. Conservators use gentle solvents and tools to clean the artwork without damaging the original paint. This process can reveal hidden details and restore the vibrancy of the colors.\n",
      "\n",
      "2. **Stabilization**: This technique is used to address structural issues, such as flaking paint or a weakened canvas. Conservators may apply adhesives to secure loose paint or reinforce the canvas to prevent further deterioration.\n",
      "\n",
      "3. **Inpainting**: When parts of a painting are damaged or missing, conservators use inpainting to fill in these areas. They carefully match the original colors and brushstrokes to ensure the restoration blends seamlessly with the existing artwork. This technique is crucial for maintaining the visual continuity of the piece.\n",
      "\n",
      "4. **Varnishing**: After restoration, a new layer of varnish is often applied to protect the painting and enhance its appearance. Varnish can deepen colors and add a uniform sheen, but it must be chosen carefully to avoid altering the artwork's original look.\n",
      "\n",
      "5. **Documentation and Analysis**: Before any restoration work begins, conservators thoroughly document the artwork's condition and conduct scientific analyses, such as X-rays or infrared imaging. These techniques help identify the materials used and the extent of damage, guiding the restoration process.\n",
      "\n",
      "These methods aim to preserve the artwork's authenticity while ensuring its longevity. The challenge lies in balancing intervention with respect for the original artist's intent. Each restoration is unique, requiring a tailored approach to honor the historical and artistic significance of the piece. Would you like to know more about specific restoration projects or the ethical considerations involved in this field?\n",
      "\n"
     ]
    }
   ],
   "source": [
    "i = 0\n",
    "for ch in outputs[0][\"messages\"]:\n",
    "    print(f'Message {i} - {ch[\"role\"]}: {ch[\"content\"]}\\n')\n",
    "    i += 1"
   ]
  }
 ],
 "metadata": {
  "kernelspec": {
   "display_name": "genai_evaluation",
   "language": "python",
   "name": "genai_evaluation"
  },
  "language_info": {
   "codemirror_mode": {
    "name": "ipython",
    "version": 3
   },
   "file_extension": ".py",
   "mimetype": "text/x-python",
   "name": "python",
   "nbconvert_exporter": "python",
   "pygments_lexer": "ipython3",
   "version": "3.13.7"
  }
 },
 "nbformat": 4,
 "nbformat_minor": 5
}
