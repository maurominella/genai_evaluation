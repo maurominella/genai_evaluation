{
 "cells": [
  {
   "cell_type": "markdown",
   "id": "c479b344-f6ae-454d-a96c-85f9137f16dc",
   "metadata": {},
   "source": [
    "# [Generate synthetic and simulated data for evaluation](https://learn.microsoft.com/en-us/azure/ai-foundry/how-to/develop/simulator-interaction-data)\n",
    "**Azure AI Evaluation SDK's** `Simulator` provides an end-to-end synthetic data generation capability to help developers test their application's response to typical user queries in the absence of production data. AI developers can use an index or text-based query generator and fully customizable simulator to create robust test datasets around non-adversarial tasks specific to their application. The `Simulator` class is a powerful tool designed to generate synthetic conversations and simulate task-based interactions. This capability is useful for:\n",
    "- **Testing Conversational Applications**: Ensure your chatbots and virtual assistants respond accurately under various scenarios.\n",
    "- **Training AI Models**: Generate diverse datasets to train and fine-tune machine learning models.\n",
    "- **Generating Datasets**: Create extensive conversation logs for analysis and development purposes.\n",
    "By automating the creation of synthetic data, the Simulator class helps streamline the development and testing processes, ensuring your applications are robust and reliable.\n",
    "<br/>\n",
    "By automating the creation of synthetic data, the `Simulator` class helps streamline the development and testing processes, ensuring your applications are robust and reliable."
   ]
  },
  {
   "cell_type": "code",
   "execution_count": 1,
   "id": "43f1ba86-e977-4636-8887-04394b833f55",
   "metadata": {},
   "outputs": [],
   "source": [
    "# !az login"
   ]
  },
  {
   "cell_type": "code",
   "execution_count": 2,
   "id": "7b8ac0ff-c633-4603-b3bf-c63ef79b1995",
   "metadata": {},
   "outputs": [],
   "source": [
    "# Constants and Libraries\n",
    "import os, json\n",
    "from azure.identity import DefaultAzureCredential, get_bearer_token_provider #requires azure-identity\n",
    "from pprint import pprint\n",
    "from dotenv import load_dotenv # requires python-dotenv\n",
    "from typing import List, Dict, Any, Optional\n",
    "from promptflow.client import load_flow\n",
    "from pprint import pprint\n",
    "\n",
    "if not load_dotenv(\"./../../config/credentials_my.env\"):\n",
    "    print(\"Environment variables not loaded, cell execution stopped\")\n",
    "    sys.exit()\n",
    "os.environ[\"AZURE_OPENAI_API_VERSION\"] = os.environ[\"OPENAI_API_VERSION\"]\n",
    "\n",
    "credential = DefaultAzureCredential()"
   ]
  },
  {
   "cell_type": "code",
   "execution_count": 3,
   "id": "4edd78d8-45bd-46ec-aca1-26f28afa8b5b",
   "metadata": {},
   "outputs": [],
   "source": [
    "# Initialize Azure OpenAI connection\n",
    "\n",
    "model_config = {\n",
    "    \"azure_endpoint\": os.environ.get(\"AZURE_OPENAI_ENDPOINT\"),\n",
    "    \"api_key\": os.environ.get(\"AZURE_OPENAI_API_KEY\"),\n",
    "    \"azure_deployment\": os.environ.get(\"MODEL_DEPLOYMENT_NAME\"),\n",
    "    \"api_version\": os.environ.get(\"AZURE_OPENAI_API_VERSION\"),\n",
    "    \"type\": \"AzureOpenAI\" # NEEDED FOR \\Lib\\site-packages\\promptflow\\core\\_prompty_utils.py\n",
    "}"
   ]
  },
  {
   "cell_type": "markdown",
   "id": "4dfa8dc5-c6fc-4306-a3cd-422cb332d808",
   "metadata": {},
   "source": [
    "## Specify application Prompty\n",
    "The following `application.prompty` file specifies how a chat application behaves."
   ]
  },
  {
   "cell_type": "code",
   "execution_count": 4,
   "id": "ca529b72-ba77-4db9-87a9-21696f4b6d1e",
   "metadata": {},
   "outputs": [
    {
     "name": "stdout",
     "output_type": "stream",
     "text": [
      "Overwriting ./eval_assets/application.prompty\n"
     ]
    }
   ],
   "source": [
    "%%writefile ./eval_assets/application.prompty\n",
    "---\n",
    "name: ApplicationPrompty\n",
    "description: Chat RAG application\n",
    "model:\n",
    "    api: chat\n",
    "    parameters:\n",
    "        temperature: 0.0\n",
    "        top_p: 1.0\n",
    "        presence_penalty: 0\n",
    "        frequency_penalty: 0\n",
    "        response_format:\n",
    "            type: text\n",
    " \n",
    "inputs:\n",
    "    context:\n",
    "        type: string\n",
    "    query:\n",
    "        type: string\n",
    "    conversation_history:\n",
    "        type: dict\n",
    "---\n",
    "system:\n",
    "You are a helpful assistant and you're helping with the user's query. \n",
    "Keep the conversation engaging and interesting.\n",
    "\n",
    "Keep your conversation grounded in the provided context: \n",
    "{{ context }}\n",
    "\n",
    "Output with a string that continues the conversation, responding to \n",
    "the latest message from the user query using it same language:\n",
    "{{ query }}\n",
    "\n",
    "given the conversation history:\n",
    "{{ conversation_history }}"
   ]
  },
  {
   "cell_type": "code",
   "execution_count": 5,
   "id": "6da11cff-7a95-4173-a2ce-3148f7d1aecb",
   "metadata": {},
   "outputs": [
    {
     "name": "stdout",
     "output_type": "stream",
     "text": [
      "(\"Preparare una pizza fatta in casa è un'ottima idea! Inizia con l'impasto: \"\n",
      " 'mescola 500g di farina, 300ml di acqua tiepida, 15g di lievito di birra '\n",
      " 'fresco, un cucchiaino di zucchero e 10g di sale. Impasta fino a ottenere una '\n",
      " 'consistenza liscia e elastica, poi lascia lievitare per circa 2 ore. Una '\n",
      " \"volta lievitato, stendi l'impasto su una teglia e aggiungi i tuoi \"\n",
      " 'ingredienti preferiti, come salsa di pomodoro, mozzarella e basilico. Cuoci '\n",
      " 'in forno preriscaldato a 220°C per 10-15 minuti. Buon appetito! Hai qualche '\n",
      " 'domanda sui passaggi?')\n"
     ]
    }
   ],
   "source": [
    "prompty_path = \"eval_assets/application.prompty\"\n",
    "flow = load_flow(source=prompty_path, model={\"configuration\": model_config})\n",
    "\n",
    "pprint(flow(context=\"\", query=\"Come preparare una pizza fatta in casa\", conversation_history=[]))"
   ]
  },
  {
   "cell_type": "raw",
   "id": "bba92efa-4dad-4a4a-bc1a-f5193e10b63c",
   "metadata": {},
   "source": [
    "# Italian version\n",
    "context = \"Conversazione amichevole fra due persone\"\n",
    "\n",
    "conversation_history = [\n",
    "    {\n",
    "        \"content\": \"Cosa fai di bello questa sera?\",\n",
    "        \"role\": \"user\",\n",
    "        \"context\": \"Domanda amichevole\",\n",
    "    },\n",
    "    {\n",
    "        \"content\": \"Vado al cinema\",\n",
    "        \"role\": \"assistant\",\n",
    "        \"context\": \"Esposizione di un'attività ricreativa divertente\",\n",
    "    },\n",
    "    {\n",
    "        \"content\": \"Ah fantastico! Che cosa vai a vedere?\",\n",
    "        \"role\": \"user\",\n",
    "        \"context\": \"Ulteriore domanda amichevole a dimostrare interesse verso l'interlocutore\",\n",
    "    },\n",
    "    {\n",
    "        \"content\": \"Lo SQUALO di Steven Spielberg\",\n",
    "        \"role\": \"assistant\",\n",
    "        \"context\": \"Informazione specifica di un'attività divertente che si intende compiere\",\n",
    "    },\n",
    "]\n",
    "\n",
    "flow(context=conversation_history[-1][\"context\"], query=conversation_history[-1][\"content\"], conversation_history=conversation_history)"
   ]
  },
  {
   "cell_type": "code",
   "execution_count": 6,
   "id": "811aad51-cd89-4f42-85da-ec1238162f0e",
   "metadata": {},
   "outputs": [
    {
     "data": {
      "text/plain": [
       "\"That sounds thrilling! JAWS is such a classic. Are you a fan of Spielberg's work, or is this your first time watching it?\""
      ]
     },
     "execution_count": 6,
     "metadata": {},
     "output_type": "execute_result"
    }
   ],
   "source": [
    "# English version\n",
    "\n",
    "context = \"Friendly conversation between two people, in English\"\n",
    "\n",
    "conversation_history = [\n",
    "    {\n",
    "        \"content\": \"What are you up to this evening?\",\n",
    "        \"role\": \"user\",\n",
    "        \"context\": \"Friendly question\",\n",
    "    },\n",
    "    {\n",
    "        \"content\": \"I'm going to the cinema\",\n",
    "        \"role\": \"assistant\",\n",
    "        \"context\": \"Description of a fun recreational activity\",\n",
    "    },\n",
    "    {\n",
    "        \"content\": \"Ah fantastic! What are you going to see?\",\n",
    "        \"role\": \"user\",\n",
    "        \"context\": \"Follow-up friendly question showing interest in the other person\",\n",
    "    },\n",
    "    {\n",
    "        \"content\": \"JAWS by Steven Spielberg\",\n",
    "        \"role\": \"assistant\",\n",
    "        \"context\": \"Specific information about a fun activity one plans to do\",\n",
    "    },\n",
    "]\n",
    "\n",
    "flow(context=conversation_history[-1][\"context\"], query=conversation_history[-1][\"content\"], conversation_history=conversation_history)"
   ]
  },
  {
   "cell_type": "code",
   "execution_count": 7,
   "id": "be6e7524-1305-4844-b5a6-d2f7a3372f65",
   "metadata": {},
   "outputs": [
    {
     "name": "stdout",
     "output_type": "stream",
     "text": [
      "Message 0 - user: What are you up to this evening?\n",
      "\n",
      "Message 1 - assistant: I'm going to the cinema\n",
      "\n",
      "Message 2 - user: Ah fantastic! What are you going to see?\n",
      "\n",
      "Message 3 - assistant: JAWS by Steven Spielberg\n",
      "\n",
      "Message 4 - user: That sounds thrilling! JAWS is such a classic. Are you a fan of Spielberg's work, or is this your first time watching it?\n",
      "\n"
     ]
    }
   ],
   "source": [
    "i = 0\n",
    "for ch in conversation_history:\n",
    "    print(f'Message {i} - {ch[\"role\"]}: {ch[\"content\"]}\\n')\n",
    "    i += 1\n",
    "    \n",
    "response = flow(context=conversation_history[-1][\"context\"], query=conversation_history[-1][\"content\"], conversation_history=conversation_history)\n",
    "\n",
    "conversation_history.append({\"content\": response, \"role\": \"user\" if conversation_history[-1][\"role\"]==\"assistant\" else \"assistant\", \"context\": \"\"})\n",
    "print(f'Message {i} - {conversation_history[-1][\"role\"]}: {conversation_history[-1][\"content\"]}\\n')"
   ]
  },
  {
   "cell_type": "markdown",
   "id": "4b5a7e0c-ae71-43f8-8422-3d62a6a10e70",
   "metadata": {},
   "source": [
    "## Specify target callback to simulate against\n",
    "You can bring any application endpoint to simulate against by specifying a target callback function such as the following given an application that is an LLM with a Prompty file like `application.prompty`"
   ]
  },
  {
   "cell_type": "code",
   "execution_count": 8,
   "id": "4e4e2868-cd07-403e-a475-6cd468102065",
   "metadata": {},
   "outputs": [],
   "source": [
    "async def callback(\n",
    "    messages: Dict,\n",
    "    stream: bool = False,\n",
    "    session_state: Any = None,  # noqa: ANN401\n",
    "    context: Optional[Dict[str, Any]] = None,\n",
    "    subfolder: str = \"eval_assets\",\n",
    ") -> dict:\n",
    "    messages_list = messages[\"messages\"]\n",
    "    latest_message = messages_list[-1] # Get the last message\n",
    "    query = latest_message[\"content\"]\n",
    "    context = latest_message.get(\"context\", None) # looks for context, default None\n",
    "    # Call your endpoint or AI application here\n",
    "    prompty_path = os.path.join(os.getcwd(), subfolder, \"application.prompty\") \n",
    "    _flow = load_flow(source=prompty_path, model={\"configuration\": model_config})\n",
    "    response = _flow(query=query, context=context, conversation_history=messages_list)\n",
    "    # Format the response to follow the OpenAI chat protocol\n",
    "    formatted_response = {\n",
    "        \"content\": response,\n",
    "        \"role\": \"user\" if conversation_history[-1][\"role\"]==\"assistant\" else \"assistant\",\n",
    "        \"context\": context,\n",
    "    }\n",
    "    messages[\"messages\"].append(formatted_response)\n",
    "    return {\n",
    "        \"messages\": messages[\"messages\"],\n",
    "        \"stream\": stream,\n",
    "        \"session_state\": session_state,\n",
    "        \"context\": context\n",
    "    }"
   ]
  },
  {
   "cell_type": "markdown",
   "id": "6f52fa10-fdff-4c9f-96fe-5b0a768dff29",
   "metadata": {},
   "source": [
    "## Generate text or index-based synthetic data as input\n",
    "In the first part, we prepare the text for generating the input to our simulator"
   ]
  },
  {
   "cell_type": "code",
   "execution_count": 9,
   "id": "767e05b1-2fa7-4447-84c7-b2340ec980b4",
   "metadata": {},
   "outputs": [
    {
     "name": "stdout",
     "output_type": "stream",
     "text": [
      "Leonardo di ser Piero da Vinci (15 April 1452 - 2 May 1519) was an Italian polymath of the High Rena...\n"
     ]
    }
   ],
   "source": [
    "import asyncio\n",
    "from azure.identity import DefaultAzureCredential\n",
    "import wikipedia\n",
    "import os\n",
    "# Prepare the text to send to the simulator\n",
    "wiki_search_term = \"Leonardo da Vinci\"\n",
    "wiki_title = wikipedia.search(wiki_search_term)[0]\n",
    "wiki_page = wikipedia.page(wiki_title)\n",
    "wiki_text = wiki_page.summary[:5000]\n",
    "print(f\"{wiki_text[:100]}...\")"
   ]
  },
  {
   "cell_type": "code",
   "execution_count": 10,
   "id": "ae73503b-a94b-4002-9672-5ee34a6011ff",
   "metadata": {},
   "outputs": [
    {
     "name": "stderr",
     "output_type": "stream",
     "text": [
      "Class Simulator: This is an experimental class, and may change at any time. Please see https://aka.ms/azuremlexperimental for more information.\n"
     ]
    }
   ],
   "source": [
    "from azure.ai.evaluation.simulator import Simulator\n",
    "simulator = Simulator(model_config=model_config)"
   ]
  },
  {
   "cell_type": "code",
   "execution_count": 11,
   "id": "4a38f46a-f767-4449-8fe9-af8ab99233d1",
   "metadata": {},
   "outputs": [
    {
     "name": "stderr",
     "output_type": "stream",
     "text": [
      "D:\\ProgramData\\miniconda3\\envs\\genai_evaluation\\Lib\\site-packages\\azure\\ai\\evaluation\\simulator\\_simulator.py:154: UserWarning: You have specified 'num_queries' > len('tasks') (1 > 0). All tasks will be used for generation and the remaining 1 lines will be simulated in task-free mode\n",
      "  warnings.warn(\n",
      "Generating: 100%|████████████████████████████████████████████████| 5/5 [00:23<00:00,  4.63s/message]\n"
     ]
    }
   ],
   "source": [
    "outputs = await simulator(\n",
    "    num_queries = 1,  # Number of queries\n",
    "    text        = wiki_text,\n",
    "    target      = callback   \n",
    ")"
   ]
  },
  {
   "cell_type": "code",
   "execution_count": 12,
   "id": "a09c66be-ba7a-4cee-8e58-b4b89347708f",
   "metadata": {},
   "outputs": [
    {
     "data": {
      "text/plain": [
       "[{'messages': [{'role': 'user',\n",
       "    'content': 'When was Leonardo da Vinci born?',\n",
       "    'context': 'None'},\n",
       "   {'role': 'assistant',\n",
       "    'content': \"Leonardo da Vinci was born on April 15, 1452. He was an Italian polymath known for his contributions to art, science, and engineering. Is there anything specific about his life or work that you're curious about?\",\n",
       "    'context': 'None'},\n",
       "   {'role': 'user',\n",
       "    'content': \"Yes, I'm curious about his contributions to engineering. Can you tell me more about his inventions or designs?\",\n",
       "    'context': 'None'},\n",
       "   {'role': 'assistant',\n",
       "    'content': 'Leonardo da Vinci was a visionary in engineering, and he designed numerous inventions that were far ahead of his time. Some of his most notable designs include the flying machine, which resembled a bird and was an early concept of a helicopter. He also sketched designs for a tank, a machine for testing the tensile strength of materials, and various water-related devices like a diving suit and a water wheel. Although many of his inventions were never built during his lifetime, his detailed sketches and ideas laid the groundwork for future technological advancements. His ability to blend art and science in his designs is truly remarkable. Would you like to know more about any specific invention or aspect of his engineering work?',\n",
       "    'context': 'None'},\n",
       "   {'role': 'user',\n",
       "    'content': \"I'm particularly interested in his flying machine design. How did he envision it working, and were there any specific features that stood out in his sketches?\",\n",
       "    'context': 'None'},\n",
       "   {'role': 'assistant',\n",
       "    'content': 'Leonardo da Vinci\\'s flying machine design, often referred to as the \"ornithopter,\" was inspired by the flight of birds. He meticulously studied the anatomy and movement of birds, believing that humans could achieve flight by mimicking their wing structure and motion. His sketches show a device with large, flapping wings, which were intended to be powered by human muscle. \\n\\nOne standout feature of his design was the detailed mechanism for the wings, which included pulleys and levers to facilitate movement. He also considered the importance of balance and control, incorporating a tail-like structure to stabilize the machine during flight. Although the technology of his time couldn\\'t support the construction of such a device, his innovative approach and detailed observations were groundbreaking. His work laid the foundation for future aeronautical advancements. Would you like to explore more about his other inventions or his artistic contributions?',\n",
       "    'context': 'None'},\n",
       "   {'role': 'user',\n",
       "    'content': \"I'm fascinated by how Leonardo da Vinci combined art and science. Could you tell me more about how his artistic skills influenced his scientific work or vice versa?\",\n",
       "    'context': 'None'},\n",
       "   {'role': 'assistant',\n",
       "    'content': 'Leonardo da Vinci\\'s artistic skills and scientific inquiries were deeply intertwined, each enhancing the other. His keen observation and attention to detail, honed through his art, were crucial in his scientific studies. For instance, his understanding of light and shadow in painting helped him explore optics and the behavior of light. \\n\\nIn anatomy, his artistic ability allowed him to create incredibly detailed and accurate drawings of the human body, which were not only works of art but also valuable scientific documents. These drawings were based on meticulous dissections and observations, showcasing his dedication to understanding the human form both artistically and scientifically.\\n\\nConversely, his scientific curiosity often informed his art. His studies of proportion and perspective led to more realistic and dynamic compositions in his paintings. The famous \"Vitruvian Man\" is a perfect example of this blend, illustrating the ideal human proportions based on his scientific research.\\n\\nLeonardo\\'s work exemplifies the Renaissance ideal of a \"universal genius,\" where art and science are not separate disciplines but complementary ways of understanding the world. Would you like to delve into a specific aspect of his art or science?',\n",
       "    'context': 'None'},\n",
       "   {'role': 'user',\n",
       "    'content': \"I'm intrigued by the Vitruvian Man. Could you explain the significance of this drawing and how it reflects Leonardo's understanding of human proportions?\",\n",
       "    'context': 'None'},\n",
       "   {'role': 'assistant',\n",
       "    'content': 'The Vitruvian Man is one of Leonardo da Vinci\\'s most iconic drawings, and it beautifully encapsulates his deep understanding of human proportions and the harmony between art and science. Created around 1490, this drawing is based on the work of the ancient Roman architect Vitruvius, who described the ideal human proportions in his treatise \"De Architectura.\"\\n\\nLeonardo\\'s Vitruvian Man illustrates a male figure in two superimposed positions with arms and legs apart, inscribed in both a circle and a square. This composition reflects the idea that the human body is a microcosm of the universe, embodying perfect symmetry and balance. The circle and square symbolize the divine and earthly realms, respectively, and Leonardo\\'s drawing suggests that the human form bridges these two worlds.\\n\\nThrough this work, Leonardo demonstrated his meticulous study of anatomy and proportion, showing how the human body can be used as a measure for architectural design. The Vitruvian Man is not only a testament to Leonardo\\'s artistic skill but also his scientific inquiry, as he sought to understand the mathematical principles underlying the natural world.\\n\\nThis drawing exemplifies the Renaissance belief in the interconnectedness of all knowledge, where art, science, and philosophy converge to reveal deeper truths about humanity and the universe. Would you like to explore more about Leonardo\\'s other works or his influence on the Renaissance?',\n",
       "    'context': 'None'}],\n",
       "  'finish_reason': ['stop'],\n",
       "  'context': {'task': None,\n",
       "   'expected_response': '15 April 1452',\n",
       "   'query': 'When was Leonardo da Vinci born?',\n",
       "   'original_text': \"Leonardo di ser Piero da Vinci (15 April 1452 - 2 May 1519) was an Italian polymath of the High Renaissance who was active as a painter, draughtsman, engineer, scientist, theorist, sculptor, and architect. While his fame initially rested on his achievements as a painter, he has also become known for his notebooks, in which he made drawings and notes on a variety of subjects, including anatomy, astronomy, botany, cartography, painting, and palaeontology. Leonardo is widely regarded to have been a genius who epitomised the Renaissance humanist ideal, and his collective works comprise a contribution to later generations of artists matched only by that of his younger contemporary Michelangelo.\\nBorn out of wedlock to a successful notary and a lower-class woman in, or near, Vinci, he was educated in Florence by the Italian painter and sculptor Andrea del Verrocchio. He began his career in the city, but then spent much time in the service of Ludovico Sforza in Milan. Later, he worked in Florence and Milan again, as well as briefly in Rome, all while attracting a large following of imitators and students. Upon the invitation of Francis I, he spent his last three years in France, where he died in 1519. Since his death, there has not been a time where his achievements, diverse interests, personal life, and empirical thinking have failed to incite interest and admiration, making him a frequent namesake and subject in culture.\\nLeonardo is identified as one of the greatest painters in the history of Western art and is often credited as the founder of the High Renaissance. Despite having many lost works and fewer than 25 attributed major works – including numerous unfinished works – he created some of the most influential paintings in the Western canon. The Mona Lisa is his best known work and is the world's most famous individual painting. The Last Supper is the most reproduced religious painting of all time and his Vitruvian Man drawing is also regarded as a cultural icon. In 2017, Salvator Mundi, attributed in whole or part to Leonardo, was sold at auction for US$450.3 million, setting a new record for the most expensive painting ever sold at public auction.\\nRevered for his technological ingenuity, he conceptualised flying machines, a type of armoured fighting vehicle, concentrated solar power, a ratio machine that could be used in an adding machine, and the double hull. Relatively few of his designs were constructed or were even feasible during his lifetime, as the modern scientific approaches to metallurgy and engineering were only in their infancy during the Renaissance. Some of his smaller inventions, however, entered the world of manufacturing unheralded, such as an automated bobbin winder and a machine for testing the tensile strength of wire. He made substantial discoveries in anatomy, civil engineering, hydrodynamics, geology, optics, and tribology, but he did not publish his findings and they had little to no direct influence on subsequent science.\"},\n",
       "  '$schema': 'http://azureml/sdk-2-0/ChatConversation.json'}]"
      ]
     },
     "execution_count": 12,
     "metadata": {},
     "output_type": "execute_result"
    }
   ],
   "source": [
    "outputs"
   ]
  },
  {
   "cell_type": "code",
   "execution_count": 13,
   "id": "590db99a-12b5-4abe-92ea-ac12b4e2bf64",
   "metadata": {},
   "outputs": [
    {
     "name": "stdout",
     "output_type": "stream",
     "text": [
      "Message 0 - user: When was Leonardo da Vinci born?\n",
      "\n",
      "Message 1 - assistant: Leonardo da Vinci was born on April 15, 1452. He was an Italian polymath known for his contributions to art, science, and engineering. Is there anything specific about his life or work that you're curious about?\n",
      "\n",
      "Message 2 - user: Yes, I'm curious about his contributions to engineering. Can you tell me more about his inventions or designs?\n",
      "\n",
      "Message 3 - assistant: Leonardo da Vinci was a visionary in engineering, and he designed numerous inventions that were far ahead of his time. Some of his most notable designs include the flying machine, which resembled a bird and was an early concept of a helicopter. He also sketched designs for a tank, a machine for testing the tensile strength of materials, and various water-related devices like a diving suit and a water wheel. Although many of his inventions were never built during his lifetime, his detailed sketches and ideas laid the groundwork for future technological advancements. His ability to blend art and science in his designs is truly remarkable. Would you like to know more about any specific invention or aspect of his engineering work?\n",
      "\n",
      "Message 4 - user: I'm particularly interested in his flying machine design. How did he envision it working, and were there any specific features that stood out in his sketches?\n",
      "\n",
      "Message 5 - assistant: Leonardo da Vinci's flying machine design, often referred to as the \"ornithopter,\" was inspired by the flight of birds. He meticulously studied the anatomy and movement of birds, believing that humans could achieve flight by mimicking their wing structure and motion. His sketches show a device with large, flapping wings, which were intended to be powered by human muscle. \n",
      "\n",
      "One standout feature of his design was the detailed mechanism for the wings, which included pulleys and levers to facilitate movement. He also considered the importance of balance and control, incorporating a tail-like structure to stabilize the machine during flight. Although the technology of his time couldn't support the construction of such a device, his innovative approach and detailed observations were groundbreaking. His work laid the foundation for future aeronautical advancements. Would you like to explore more about his other inventions or his artistic contributions?\n",
      "\n",
      "Message 6 - user: I'm fascinated by how Leonardo da Vinci combined art and science. Could you tell me more about how his artistic skills influenced his scientific work or vice versa?\n",
      "\n",
      "Message 7 - assistant: Leonardo da Vinci's artistic skills and scientific inquiries were deeply intertwined, each enhancing the other. His keen observation and attention to detail, honed through his art, were crucial in his scientific studies. For instance, his understanding of light and shadow in painting helped him explore optics and the behavior of light. \n",
      "\n",
      "In anatomy, his artistic ability allowed him to create incredibly detailed and accurate drawings of the human body, which were not only works of art but also valuable scientific documents. These drawings were based on meticulous dissections and observations, showcasing his dedication to understanding the human form both artistically and scientifically.\n",
      "\n",
      "Conversely, his scientific curiosity often informed his art. His studies of proportion and perspective led to more realistic and dynamic compositions in his paintings. The famous \"Vitruvian Man\" is a perfect example of this blend, illustrating the ideal human proportions based on his scientific research.\n",
      "\n",
      "Leonardo's work exemplifies the Renaissance ideal of a \"universal genius,\" where art and science are not separate disciplines but complementary ways of understanding the world. Would you like to delve into a specific aspect of his art or science?\n",
      "\n",
      "Message 8 - user: I'm intrigued by the Vitruvian Man. Could you explain the significance of this drawing and how it reflects Leonardo's understanding of human proportions?\n",
      "\n",
      "Message 9 - assistant: The Vitruvian Man is one of Leonardo da Vinci's most iconic drawings, and it beautifully encapsulates his deep understanding of human proportions and the harmony between art and science. Created around 1490, this drawing is based on the work of the ancient Roman architect Vitruvius, who described the ideal human proportions in his treatise \"De Architectura.\"\n",
      "\n",
      "Leonardo's Vitruvian Man illustrates a male figure in two superimposed positions with arms and legs apart, inscribed in both a circle and a square. This composition reflects the idea that the human body is a microcosm of the universe, embodying perfect symmetry and balance. The circle and square symbolize the divine and earthly realms, respectively, and Leonardo's drawing suggests that the human form bridges these two worlds.\n",
      "\n",
      "Through this work, Leonardo demonstrated his meticulous study of anatomy and proportion, showing how the human body can be used as a measure for architectural design. The Vitruvian Man is not only a testament to Leonardo's artistic skill but also his scientific inquiry, as he sought to understand the mathematical principles underlying the natural world.\n",
      "\n",
      "This drawing exemplifies the Renaissance belief in the interconnectedness of all knowledge, where art, science, and philosophy converge to reveal deeper truths about humanity and the universe. Would you like to explore more about Leonardo's other works or his influence on the Renaissance?\n",
      "\n"
     ]
    }
   ],
   "source": [
    "i = 0\n",
    "for ch in outputs[0][\"messages\"]:\n",
    "    print(f'Message {i} - {ch[\"role\"]}: {ch[\"content\"]}\\n')\n",
    "    i += 1"
   ]
  }
 ],
 "metadata": {
  "kernelspec": {
   "display_name": "Generative AI evaluation",
   "language": "python",
   "name": "genai_evaluation"
  },
  "language_info": {
   "codemirror_mode": {
    "name": "ipython",
    "version": 3
   },
   "file_extension": ".py",
   "mimetype": "text/x-python",
   "name": "python",
   "nbconvert_exporter": "python",
   "pygments_lexer": "ipython3",
   "version": "3.12.11"
  }
 },
 "nbformat": 4,
 "nbformat_minor": 5
}
