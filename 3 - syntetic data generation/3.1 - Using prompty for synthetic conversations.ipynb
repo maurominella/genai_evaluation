{
 "cells": [
  {
   "cell_type": "markdown",
   "id": "c479b344-f6ae-454d-a96c-85f9137f16dc",
   "metadata": {},
   "source": [
    "# [Generate synthetic and simulated data for evaluation](https://learn.microsoft.com/en-us/azure/ai-foundry/how-to/develop/simulator-interaction-data)\n",
    "**Azure AI Evaluation SDK's** `Simulator` provides an end-to-end synthetic data generation capability to help developers test their application's response to typical user queries in the absence of production data. AI developers can use an index or text-based query generator and fully customizable simulator to create robust test datasets around non-adversarial tasks specific to their application. The `Simulator` class is a powerful tool designed to generate synthetic conversations and simulate task-based interactions. This capability is useful for:\n",
    "- **Testing Conversational Applications**: Ensure your chatbots and virtual assistants respond accurately under various scenarios.\n",
    "- **Training AI Models**: Generate diverse datasets to train and fine-tune machine learning models.\n",
    "- **Generating Datasets**: Create extensive conversation logs for analysis and development purposes.\n",
    "By automating the creation of synthetic data, the Simulator class helps streamline the development and testing processes, ensuring your applications are robust and reliable.\n",
    "<br/>\n",
    "By automating the creation of synthetic data, the `Simulator` class helps streamline the development and testing processes, ensuring your applications are robust and reliable."
   ]
  },
  {
   "cell_type": "code",
   "execution_count": null,
   "id": "43f1ba86-e977-4636-8887-04394b833f55",
   "metadata": {},
   "outputs": [],
   "source": [
    "# !az login"
   ]
  },
  {
   "cell_type": "code",
   "execution_count": 1,
   "id": "7b8ac0ff-c633-4603-b3bf-c63ef79b1995",
   "metadata": {},
   "outputs": [],
   "source": [
    "# Constants and Libraries\n",
    "import os, json\n",
    "from azure.identity import DefaultAzureCredential, get_bearer_token_provider #requires azure-identity\n",
    "from pprint import pprint\n",
    "from dotenv import load_dotenv # requires python-dotenv\n",
    "from typing import List, Dict, Any, Optional\n",
    "from promptflow.client import load_flow\n",
    "from pprint import pprint\n",
    "\n",
    "if not load_dotenv(\"./../../config/credentials_my.env\"):\n",
    "    print(\"Environment variables not loaded, cell execution stopped\")\n",
    "    sys.exit()\n",
    "os.environ[\"AZURE_OPENAI_API_VERSION\"] = os.environ[\"OPENAI_API_VERSION\"]\n",
    "\n",
    "credential = DefaultAzureCredential()"
   ]
  },
  {
   "cell_type": "code",
   "execution_count": 2,
   "id": "4edd78d8-45bd-46ec-aca1-26f28afa8b5b",
   "metadata": {},
   "outputs": [],
   "source": [
    "# Initialize Azure OpenAI connection\n",
    "\n",
    "model_config = {\n",
    "    \"azure_endpoint\": os.environ.get(\"AZURE_OPENAI_ENDPOINT\"),\n",
    "    \"api_key\": os.environ.get(\"AZURE_OPENAI_API_KEY\"),\n",
    "    \"azure_deployment\": os.environ.get(\"MODEL_DEPLOYMENT_NAME\"),\n",
    "    \"api_version\": os.environ.get(\"AZURE_OPENAI_API_VERSION\"),\n",
    "    \"type\": \"AzureOpenAI\" # NEEDED FOR \\Lib\\site-packages\\promptflow\\core\\_prompty_utils.py\n",
    "}"
   ]
  },
  {
   "cell_type": "markdown",
   "id": "4dfa8dc5-c6fc-4306-a3cd-422cb332d808",
   "metadata": {},
   "source": [
    "## Specify application Prompty\n",
    "The following `application.prompty` file specifies how a chat application behaves."
   ]
  },
  {
   "cell_type": "code",
   "execution_count": 3,
   "id": "ca529b72-ba77-4db9-87a9-21696f4b6d1e",
   "metadata": {},
   "outputs": [
    {
     "name": "stdout",
     "output_type": "stream",
     "text": [
      "Overwriting ./eval_assets/application.prompty\n"
     ]
    }
   ],
   "source": [
    "%%writefile ./eval_assets/application.prompty\n",
    "---\n",
    "name: ApplicationPrompty\n",
    "description: Chat RAG application\n",
    "model:\n",
    "    api: chat\n",
    "    parameters:\n",
    "        temperature: 0.0\n",
    "        top_p: 1.0\n",
    "        presence_penalty: 0\n",
    "        frequency_penalty: 0\n",
    "        response_format:\n",
    "            type: text\n",
    " \n",
    "inputs:\n",
    "    context:\n",
    "        type: string\n",
    "    query:\n",
    "        type: string\n",
    "    conversation_history:\n",
    "        type: dict\n",
    "---\n",
    "system:\n",
    "You are a helpful assistant and you're helping with the user's query. \n",
    "Keep the conversation engaging and interesting.\n",
    "\n",
    "Keep your conversation grounded in the provided context: \n",
    "{{ context }}\n",
    "\n",
    "Output with a string that continues the conversation, responding to \n",
    "the latest message from the user query using it same language:\n",
    "{{ query }}\n",
    "\n",
    "given the conversation history:\n",
    "{{ conversation_history }}"
   ]
  },
  {
   "cell_type": "code",
   "execution_count": 4,
   "id": "6da11cff-7a95-4173-a2ce-3148f7d1aecb",
   "metadata": {},
   "outputs": [
    {
     "name": "stdout",
     "output_type": "stream",
     "text": [
      "(\"Preparare una pizza fatta in casa è un'ottima idea! Inizia con l'impasto: \"\n",
      " 'mescola 500g di farina, 300ml di acqua tiepida, 15g di lievito fresco, un '\n",
      " 'cucchiaino di zucchero e 10g di sale. Impasta fino a ottenere una '\n",
      " 'consistenza liscia e elastica, poi lascia lievitare per circa 2 ore. Una '\n",
      " \"volta lievitato, stendi l'impasto su una teglia e aggiungi i tuoi \"\n",
      " 'ingredienti preferiti, come salsa di pomodoro, mozzarella e basilico. Cuoci '\n",
      " 'in forno preriscaldato a 220°C per circa 10-15 minuti. Buon appetito!')\n"
     ]
    }
   ],
   "source": [
    "prompty_path = \"eval_assets/application.prompty\"\n",
    "flow = load_flow(source=prompty_path, model={\"configuration\": model_config})\n",
    "\n",
    "pprint(flow(context=\"\", query=\"Come preparare una pizza fatta in casa\", conversation_history=[]))"
   ]
  },
  {
   "cell_type": "code",
   "execution_count": 5,
   "id": "811aad51-cd89-4f42-85da-ec1238162f0e",
   "metadata": {},
   "outputs": [
    {
     "data": {
      "text/plain": [
       "'Wow, un classico! È sempre emozionante vedere Lo SQUALO sul grande schermo. Sei un fan dei film di Spielberg?'"
      ]
     },
     "execution_count": 5,
     "metadata": {},
     "output_type": "execute_result"
    }
   ],
   "source": [
    "context = \"Conversazione amichevole fra due persone\"\n",
    "\n",
    "conversation_history = [\n",
    "    {\n",
    "        \"content\": \"Cosa fai di bello questa sera?\",\n",
    "        \"role\": \"user\",\n",
    "        \"context\": \"Domanda amichevole\",\n",
    "    },\n",
    "    {\n",
    "        \"content\": \"Vado al cinema\",\n",
    "        \"role\": \"assistant\",\n",
    "        \"context\": \"Esposizione di un'attività ricreativa divertente\",\n",
    "    },\n",
    "    {\n",
    "        \"content\": \"Ah fantastico! Che cosa vai a vedere?\",\n",
    "        \"role\": \"user\",\n",
    "        \"context\": \"Ulteriore domanda amichevole a dimostrare interesse verso l'interlocutore\",\n",
    "    },\n",
    "    {\n",
    "        \"content\": \"Lo SQUALO di Steven Spielberg\",\n",
    "        \"role\": \"assistant\",\n",
    "        \"context\": \"Informazione specifica di un'attività divertente che si intende compiere\",\n",
    "    },\n",
    "]\n",
    "\n",
    "flow(context=conversation_history[-1][\"context\"], query=conversation_history[-1][\"content\"], conversation_history=conversation_history)"
   ]
  },
  {
   "cell_type": "code",
   "execution_count": 11,
   "id": "be6e7524-1305-4844-b5a6-d2f7a3372f65",
   "metadata": {},
   "outputs": [
    {
     "name": "stdout",
     "output_type": "stream",
     "text": [
      "Message 0 - user: Cosa fai di bello questa sera?\n",
      "\n",
      "Message 1 - assistant: Vado al cinema\n",
      "\n",
      "Message 2 - user: Ah fantastico! Che cosa vai a vedere?\n",
      "\n",
      "Message 3 - assistant: Lo SQUALO di Steven Spielberg\n",
      "\n",
      "Message 4 - user: Che scelta interessante! È un classico che non perde mai il suo fascino. Sei un fan dei film di Spielberg o è la prima volta che vedi \"Lo SQUALO\"?\n",
      "\n",
      "Message 5 - assistant: Sono un grande fan dei film di Spielberg! Ho visto \"Lo SQUALO\" diverse volte, ma ogni volta è come se fosse la prima. C'è qualcosa di magico nel modo in cui Spielberg riesce a creare suspense e tensione. Tu hai un film preferito di Spielberg?\n",
      "\n",
      "Message 6 - user: Anche io adoro i film di Spielberg! È difficile scegliere un preferito, ma \"E.T. l'extra-terrestre\" ha sempre avuto un posto speciale nel mio cuore. La storia di amicizia e avventura è davvero commovente. Qual è il tuo preferito?\n",
      "\n",
      "Message 7 - assistant: \"E.T. è davvero un capolavoro! Spielberg ha un talento unico nel raccontare storie che toccano il cuore. Personalmente, oltre a \"Lo SQUALO\", adoro \"Indiana Jones e i predatori dell'arca perduta\". È un film che combina avventura, mistero e azione in modo perfetto. Hai mai visto la serie di Indiana Jones?\"\n",
      "\n",
      "Message 8 - user: \"Sì, ho visto tutta la serie di Indiana Jones! Ogni film ha il suo fascino unico e Harrison Ford è semplicemente perfetto nel ruolo di Indy. La combinazione di avventura, storia e un pizzico di umorismo rende questi film indimenticabili. Qual è il tuo preferito della serie?\"\n",
      "\n",
      "Message 9 - assistant: \"È difficile scegliere, ma direi che 'Indiana Jones e l'ultima crociata' è il mio preferito. La dinamica tra Indiana e suo padre, interpretato da Sean Connery, aggiunge un livello di profondità e umorismo che adoro. E tu, quale film della serie ti ha colpito di più?\"\n",
      "\n"
     ]
    }
   ],
   "source": [
    "i = 0\n",
    "for ch in conversation_history:\n",
    "    print(f'Message {i} - {ch[\"role\"]}: {ch[\"content\"]}\\n')\n",
    "    i += 1\n",
    "    \n",
    "response = flow(context=conversation_history[-1][\"context\"], query=conversation_history[-1][\"content\"], conversation_history=conversation_history)\n",
    "\n",
    "conversation_history.append({\"content\": response, \"role\": \"user\" if conversation_history[-1][\"role\"]==\"assistant\" else \"assistant\", \"context\": \"\"})\n",
    "print(f'Message {i} - {conversation_history[-1][\"role\"]}: {conversation_history[-1][\"content\"]}\\n')"
   ]
  },
  {
   "cell_type": "markdown",
   "id": "4b5a7e0c-ae71-43f8-8422-3d62a6a10e70",
   "metadata": {},
   "source": [
    "## Specify target callback to simulate against\n",
    "You can bring any application endpoint to simulate against by specifying a target callback function such as the following given an application that is an LLM with a Prompty file like `application.prompty`"
   ]
  },
  {
   "cell_type": "code",
   "execution_count": 12,
   "id": "4e4e2868-cd07-403e-a475-6cd468102065",
   "metadata": {},
   "outputs": [],
   "source": [
    "async def callback(\n",
    "    messages: Dict,\n",
    "    stream: bool = False,\n",
    "    session_state: Any = None,  # noqa: ANN401\n",
    "    context: Optional[Dict[str, Any]] = None,\n",
    "    subfolder: str = \"eval_assets\",\n",
    ") -> dict:\n",
    "    messages_list = messages[\"messages\"]\n",
    "    latest_message = messages_list[-1] # Get the last message\n",
    "    query = latest_message[\"content\"]\n",
    "    context = latest_message.get(\"context\", None) # looks for context, default None\n",
    "    # Call your endpoint or AI application here\n",
    "    prompty_path = os.path.join(os.getcwd(), subfolder, \"application.prompty\") \n",
    "    _flow = load_flow(source=prompty_path, model={\"configuration\": model_config})\n",
    "    response = _flow(query=query, context=context, conversation_history=messages_list)\n",
    "    # Format the response to follow the OpenAI chat protocol\n",
    "    formatted_response = {\n",
    "        \"content\": response,\n",
    "        \"role\": \"user\" if conversation_history[-1][\"role\"]==\"assistant\" else \"assistant\",\n",
    "        \"context\": context,\n",
    "    }\n",
    "    messages[\"messages\"].append(formatted_response)\n",
    "    return {\n",
    "        \"messages\": messages[\"messages\"],\n",
    "        \"stream\": stream,\n",
    "        \"session_state\": session_state,\n",
    "        \"context\": context\n",
    "    }"
   ]
  },
  {
   "cell_type": "markdown",
   "id": "6f52fa10-fdff-4c9f-96fe-5b0a768dff29",
   "metadata": {},
   "source": [
    "## Generate text or index-based synthetic data as input\n",
    "In the first part, we prepare the text for generating the input to our simulator"
   ]
  },
  {
   "cell_type": "code",
   "execution_count": 13,
   "id": "767e05b1-2fa7-4447-84c7-b2340ec980b4",
   "metadata": {},
   "outputs": [
    {
     "name": "stdout",
     "output_type": "stream",
     "text": [
      "Leonardo di ser Piero da Vinci (15 April 1452 – 2 May 1519) was an Italian polymath of the High Rena...\n"
     ]
    }
   ],
   "source": [
    "import asyncio\n",
    "from azure.identity import DefaultAzureCredential\n",
    "import wikipedia\n",
    "import os\n",
    "# Prepare the text to send to the simulator\n",
    "wiki_search_term = \"Leonardo da Vinci\"\n",
    "wiki_title = wikipedia.search(wiki_search_term)[0]\n",
    "wiki_page = wikipedia.page(wiki_title)\n",
    "wiki_text = wiki_page.summary[:5000]\n",
    "print(f\"{wiki_text[:100]}...\")"
   ]
  },
  {
   "cell_type": "code",
   "execution_count": 14,
   "id": "ae73503b-a94b-4002-9672-5ee34a6011ff",
   "metadata": {},
   "outputs": [
    {
     "name": "stderr",
     "output_type": "stream",
     "text": [
      "Class Simulator: This is an experimental class, and may change at any time. Please see https://aka.ms/azuremlexperimental for more information.\n"
     ]
    }
   ],
   "source": [
    "from azure.ai.evaluation.simulator import Simulator\n",
    "simulator = Simulator(model_config=model_config)"
   ]
  },
  {
   "cell_type": "code",
   "execution_count": 15,
   "id": "4a38f46a-f767-4449-8fe9-af8ab99233d1",
   "metadata": {},
   "outputs": [
    {
     "name": "stderr",
     "output_type": "stream",
     "text": [
      "D:\\ProgramData\\miniconda3\\envs\\genai_evaluation\\Lib\\site-packages\\azure\\ai\\evaluation\\simulator\\_simulator.py:153: UserWarning: You have specified 'num_queries' > len('tasks') (1 > 0). All tasks will be used for generation and the remaining 1 lines will be simulated in task-free mode\n",
      "  warnings.warn(\n",
      "Generating: 100%|████████████████████████████████████████████████| 5/5 [00:22<00:00,  4.53s/message]\n"
     ]
    }
   ],
   "source": [
    "outputs = await simulator(\n",
    "    num_queries = 1,  # Number of queries\n",
    "    text        = wiki_text,\n",
    "    target      = callback   \n",
    ")"
   ]
  },
  {
   "cell_type": "code",
   "execution_count": 16,
   "id": "a09c66be-ba7a-4cee-8e58-b4b89347708f",
   "metadata": {},
   "outputs": [
    {
     "data": {
      "text/plain": [
       "[{'messages': [{'role': 'user',\n",
       "    'content': 'What was the sale price of Salvator Mundi attributed to Leonardo at auction in 2017?',\n",
       "    'context': 'None'},\n",
       "   {'role': 'assistant',\n",
       "    'content': 'The \"Salvator Mundi\" attributed to Leonardo da Vinci was sold at auction in 2017 for a staggering $450.3 million, making it the most expensive painting ever sold at auction. It\\'s quite a fascinating piece with a mysterious history!',\n",
       "    'context': 'None'},\n",
       "   {'role': 'user',\n",
       "    'content': \"That's incredible! Do you know where the painting is currently located or who owns it now?\",\n",
       "    'context': 'None'},\n",
       "   {'role': 'assistant',\n",
       "    'content': 'The \"Salvator Mundi\" is believed to be owned by Saudi Arabia\\'s Crown Prince Mohammed bin Salman. There have been reports suggesting that the painting might be housed on his yacht or possibly in storage. There was also speculation about it being displayed at the Louvre Abu Dhabi, but as of now, its exact location remains somewhat of a mystery. It\\'s fascinating how such a renowned artwork can have such an elusive presence!',\n",
       "    'context': 'None'},\n",
       "   {'role': 'user',\n",
       "    'content': \"It's intriguing how the whereabouts of such a famous painting can be so uncertain. Do you know if there have been any recent developments or exhibitions planned for the 'Salvator Mundi'?\",\n",
       "    'context': 'None'},\n",
       "   {'role': 'assistant',\n",
       "    'content': \"As of the latest updates, there haven't been any confirmed plans for exhibitions or public displays of the 'Salvator Mundi.' The painting's mysterious status continues to captivate art enthusiasts and historians alike. There have been occasional rumors and discussions about potential exhibitions, but nothing concrete has emerged. It's quite fascinating how the intrigue surrounding its location and future plans adds to the allure of this masterpiece!\",\n",
       "    'context': 'None'},\n",
       "   {'role': 'user',\n",
       "    'content': \"Given its mysterious status, are there any theories or speculations about why the 'Salvator Mundi' hasn't been publicly displayed yet?\",\n",
       "    'context': 'None'},\n",
       "   {'role': 'assistant',\n",
       "    'content': 'There are indeed several theories and speculations about why the \"Salvator Mundi\" hasn\\'t been publicly displayed. One theory suggests that the painting\\'s authenticity and attribution to Leonardo da Vinci might still be under scrutiny, which could be a reason for the hesitation in displaying it. Another speculation is that the owner might be waiting for the right moment or venue to showcase the painting, possibly to maximize its impact or value. Additionally, there could be logistical or security concerns involved in displaying such a high-profile and valuable artwork. The mystery surrounding its public display only adds to the intrigue and fascination surrounding this masterpiece!',\n",
       "    'context': 'None'},\n",
       "   {'role': 'user',\n",
       "    'content': \"It's interesting to consider the various factors that might be influencing the decision not to display the 'Salvator Mundi.' Are there any other famous artworks with similarly mysterious circumstances or histories?\",\n",
       "    'context': 'None'},\n",
       "   {'role': 'assistant',\n",
       "    'content': 'Absolutely, there are several famous artworks with mysterious circumstances or intriguing histories. One example is the \"Isleworth Mona Lisa,\" which some believe to be an earlier version of the Mona Lisa painted by Leonardo da Vinci. Its authenticity and connection to Leonardo have been subjects of debate for years.\\n\\nAnother fascinating case is the \"Portrait of Dr. Gachet\" by Vincent van Gogh, which was sold for a record price in 1990 but has since disappeared from public view. Its whereabouts remain unknown, adding to the mystery surrounding it.\\n\\nThen there\\'s the \"Amber Room,\" a stunning chamber decorated with amber panels, gold leaf, and mirrors, originally constructed in the 18th century. It was lost during World War II and has never been found, despite numerous searches and theories about its location.\\n\\nThese artworks, like the \"Salvator Mundi,\" captivate the imagination not only for their artistic value but also for the enigmatic stories that surround them. Do any of these stories pique your interest further?',\n",
       "    'context': 'None'}],\n",
       "  'finish_reason': ['stop'],\n",
       "  'context': {'task': None,\n",
       "   'expected_response': 'US$450.3 million',\n",
       "   'query': 'What was the sale price of Salvator Mundi attributed to Leonardo at auction in 2017?',\n",
       "   'original_text': \"Leonardo di ser Piero da Vinci (15 April 1452 – 2 May 1519) was an Italian polymath of the High Renaissance who was active as a painter, draughtsman, engineer, scientist, theorist, sculptor, and architect. While his fame initially rested on his achievements as a painter, he has also become known for his notebooks, in which he made drawings and notes on a variety of subjects, including anatomy, astronomy, botany, cartography, painting, and palaeontology. Leonardo is widely regarded to have been a genius who epitomised the Renaissance humanist ideal, and his collective works comprise a contribution to later generations of artists matched only by that of his younger contemporary Michelangelo.\\nBorn out of wedlock to a successful notary and a lower-class woman in, or near, Vinci, he was educated in Florence by the Italian painter and sculptor Andrea del Verrocchio. He began his career in the city, but then spent much time in the service of Ludovico Sforza in Milan. Later, he worked in Florence and Milan again, as well as briefly in Rome, all while attracting a large following of imitators and students. Upon the invitation of Francis I, he spent his last three years in France, where he died in 1519. Since his death, there has not been a time where his achievements, diverse interests, personal life, and empirical thinking have failed to incite interest and admiration, making him a frequent namesake and subject in culture.\\nLeonardo is identified as one of the greatest painters in the history of Western art and is often credited as the founder of the High Renaissance. Despite having many lost works and fewer than 25 attributed major works – including numerous unfinished works – he created some of the most influential paintings in the Western canon. The Mona Lisa is his best known work and is the world's most famous individual painting. The Last Supper is the most reproduced religious painting of all time and his Vitruvian Man drawing is also regarded as a cultural icon. In 2017, Salvator Mundi, attributed in whole or part to Leonardo, was sold at auction for US$450.3 million, setting a new record for the most expensive painting ever sold at public auction.\\nRevered for his technological ingenuity, he conceptualised flying machines, a type of armoured fighting vehicle, concentrated solar power, a ratio machine that could be used in an adding machine, and the double hull. Relatively few of his designs were constructed or were even feasible during his lifetime, as the modern scientific approaches to metallurgy and engineering were only in their infancy during the Renaissance. Some of his smaller inventions, however, entered the world of manufacturing unheralded, such as an automated bobbin winder and a machine for testing the tensile strength of wire. He made substantial discoveries in anatomy, civil engineering, hydrodynamics, geology, optics, and tribology, but he did not publish his findings and they had little to no direct influence on subsequent science.\"},\n",
       "  '$schema': 'http://azureml/sdk-2-0/ChatConversation.json'}]"
      ]
     },
     "execution_count": 16,
     "metadata": {},
     "output_type": "execute_result"
    }
   ],
   "source": [
    "outputs"
   ]
  },
  {
   "cell_type": "code",
   "execution_count": 17,
   "id": "590db99a-12b5-4abe-92ea-ac12b4e2bf64",
   "metadata": {},
   "outputs": [
    {
     "name": "stdout",
     "output_type": "stream",
     "text": [
      "Message 0 - user: What was the sale price of Salvator Mundi attributed to Leonardo at auction in 2017?\n",
      "\n",
      "Message 1 - assistant: The \"Salvator Mundi\" attributed to Leonardo da Vinci was sold at auction in 2017 for a staggering $450.3 million, making it the most expensive painting ever sold at auction. It's quite a fascinating piece with a mysterious history!\n",
      "\n",
      "Message 2 - user: That's incredible! Do you know where the painting is currently located or who owns it now?\n",
      "\n",
      "Message 3 - assistant: The \"Salvator Mundi\" is believed to be owned by Saudi Arabia's Crown Prince Mohammed bin Salman. There have been reports suggesting that the painting might be housed on his yacht or possibly in storage. There was also speculation about it being displayed at the Louvre Abu Dhabi, but as of now, its exact location remains somewhat of a mystery. It's fascinating how such a renowned artwork can have such an elusive presence!\n",
      "\n",
      "Message 4 - user: It's intriguing how the whereabouts of such a famous painting can be so uncertain. Do you know if there have been any recent developments or exhibitions planned for the 'Salvator Mundi'?\n",
      "\n",
      "Message 5 - assistant: As of the latest updates, there haven't been any confirmed plans for exhibitions or public displays of the 'Salvator Mundi.' The painting's mysterious status continues to captivate art enthusiasts and historians alike. There have been occasional rumors and discussions about potential exhibitions, but nothing concrete has emerged. It's quite fascinating how the intrigue surrounding its location and future plans adds to the allure of this masterpiece!\n",
      "\n",
      "Message 6 - user: Given its mysterious status, are there any theories or speculations about why the 'Salvator Mundi' hasn't been publicly displayed yet?\n",
      "\n",
      "Message 7 - assistant: There are indeed several theories and speculations about why the \"Salvator Mundi\" hasn't been publicly displayed. One theory suggests that the painting's authenticity and attribution to Leonardo da Vinci might still be under scrutiny, which could be a reason for the hesitation in displaying it. Another speculation is that the owner might be waiting for the right moment or venue to showcase the painting, possibly to maximize its impact or value. Additionally, there could be logistical or security concerns involved in displaying such a high-profile and valuable artwork. The mystery surrounding its public display only adds to the intrigue and fascination surrounding this masterpiece!\n",
      "\n",
      "Message 8 - user: It's interesting to consider the various factors that might be influencing the decision not to display the 'Salvator Mundi.' Are there any other famous artworks with similarly mysterious circumstances or histories?\n",
      "\n",
      "Message 9 - assistant: Absolutely, there are several famous artworks with mysterious circumstances or intriguing histories. One example is the \"Isleworth Mona Lisa,\" which some believe to be an earlier version of the Mona Lisa painted by Leonardo da Vinci. Its authenticity and connection to Leonardo have been subjects of debate for years.\n",
      "\n",
      "Another fascinating case is the \"Portrait of Dr. Gachet\" by Vincent van Gogh, which was sold for a record price in 1990 but has since disappeared from public view. Its whereabouts remain unknown, adding to the mystery surrounding it.\n",
      "\n",
      "Then there's the \"Amber Room,\" a stunning chamber decorated with amber panels, gold leaf, and mirrors, originally constructed in the 18th century. It was lost during World War II and has never been found, despite numerous searches and theories about its location.\n",
      "\n",
      "These artworks, like the \"Salvator Mundi,\" captivate the imagination not only for their artistic value but also for the enigmatic stories that surround them. Do any of these stories pique your interest further?\n",
      "\n"
     ]
    }
   ],
   "source": [
    "i = 0\n",
    "for ch in outputs[0][\"messages\"]:\n",
    "    print(f'Message {i} - {ch[\"role\"]}: {ch[\"content\"]}\\n')\n",
    "    i += 1"
   ]
  }
 ],
 "metadata": {
  "kernelspec": {
   "display_name": "Generative AI evaluation",
   "language": "python",
   "name": "genai_evaluation"
  },
  "language_info": {
   "codemirror_mode": {
    "name": "ipython",
    "version": 3
   },
   "file_extension": ".py",
   "mimetype": "text/x-python",
   "name": "python",
   "nbconvert_exporter": "python",
   "pygments_lexer": "ipython3",
   "version": "3.12.9"
  }
 },
 "nbformat": 4,
 "nbformat_minor": 5
}
