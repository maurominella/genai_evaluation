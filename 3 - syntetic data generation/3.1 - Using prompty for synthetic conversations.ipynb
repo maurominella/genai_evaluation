{
 "cells": [
  {
   "cell_type": "markdown",
   "id": "c479b344-f6ae-454d-a96c-85f9137f16dc",
   "metadata": {},
   "source": [
    "# [Generate synthetic and simulated data for evaluation](https://learn.microsoft.com/en-us/azure/ai-foundry/how-to/develop/simulator-interaction-data)\n",
    "**Azure AI Evaluation SDK's** `Simulator` provides an end-to-end synthetic data generation capability to help developers test their application's response to typical user queries in the absence of production data. AI developers can use an index or text-based query generator and fully customizable simulator to create robust test datasets around non-adversarial tasks specific to their application. The `Simulator` class is a powerful tool designed to generate synthetic conversations and simulate task-based interactions. This capability is useful for:\n",
    "- **Testing Conversational Applications**: Ensure your chatbots and virtual assistants respond accurately under various scenarios.\n",
    "- **Training AI Models**: Generate diverse datasets to train and fine-tune machine learning models.\n",
    "- **Generating Datasets**: Create extensive conversation logs for analysis and development purposes.\n",
    "By automating the creation of synthetic data, the Simulator class helps streamline the development and testing processes, ensuring your applications are robust and reliable.\n",
    "<br/>\n",
    "By automating the creation of synthetic data, the `Simulator` class helps streamline the development and testing processes, ensuring your applications are robust and reliable."
   ]
  },
  {
   "cell_type": "code",
   "execution_count": 1,
   "id": "43f1ba86-e977-4636-8887-04394b833f55",
   "metadata": {},
   "outputs": [],
   "source": [
    "# !az login"
   ]
  },
  {
   "cell_type": "code",
   "execution_count": 2,
   "id": "7b8ac0ff-c633-4603-b3bf-c63ef79b1995",
   "metadata": {},
   "outputs": [],
   "source": [
    "# Constants and Libraries\n",
    "import os, json\n",
    "from azure.identity import DefaultAzureCredential, get_bearer_token_provider #requires azure-identity\n",
    "from pprint import pprint\n",
    "from dotenv import load_dotenv # requires python-dotenv\n",
    "from typing import List, Dict, Any, Optional\n",
    "from promptflow.client import load_flow\n",
    "from pprint import pprint\n",
    "\n",
    "if not load_dotenv(\"./../../config/credentials_my.env\"):\n",
    "    print(\"Environment variables not loaded, cell execution stopped\")\n",
    "    sys.exit()\n",
    "os.environ[\"AZURE_OPENAI_API_VERSION\"] = os.environ[\"OPENAI_API_VERSION\"]\n",
    "\n",
    "credential = DefaultAzureCredential()"
   ]
  },
  {
   "cell_type": "code",
   "execution_count": 3,
   "id": "4edd78d8-45bd-46ec-aca1-26f28afa8b5b",
   "metadata": {},
   "outputs": [],
   "source": [
    "# Initialize Azure OpenAI connection\n",
    "\n",
    "model_config = {\n",
    "    \"azure_endpoint\": os.environ.get(\"AZURE_OPENAI_ENDPOINT\"),\n",
    "    \"api_key\": os.environ.get(\"AZURE_OPENAI_API_KEY\"),\n",
    "    \"azure_deployment\": os.environ.get(\"MODEL_DEPLOYMENT_NAME\"),\n",
    "    \"api_version\": os.environ.get(\"AZURE_OPENAI_API_VERSION\"),\n",
    "    \"type\": \"AzureOpenAI\" # NEEDED FOR \\Lib\\site-packages\\promptflow\\core\\_prompty_utils.py\n",
    "}"
   ]
  },
  {
   "cell_type": "markdown",
   "id": "4dfa8dc5-c6fc-4306-a3cd-422cb332d808",
   "metadata": {},
   "source": [
    "## Specify application Prompty\n",
    "The following `application.prompty` file specifies how a chat application behaves."
   ]
  },
  {
   "cell_type": "code",
   "execution_count": 4,
   "id": "ca529b72-ba77-4db9-87a9-21696f4b6d1e",
   "metadata": {},
   "outputs": [
    {
     "name": "stdout",
     "output_type": "stream",
     "text": [
      "Overwriting ./eval_assets/application.prompty\n"
     ]
    }
   ],
   "source": [
    "%%writefile ./eval_assets/application.prompty\n",
    "---\n",
    "name: ApplicationPrompty\n",
    "description: Chat RAG application\n",
    "model:\n",
    "    api: chat\n",
    "    parameters:\n",
    "        temperature: 0.0\n",
    "        top_p: 1.0\n",
    "        presence_penalty: 0\n",
    "        frequency_penalty: 0\n",
    "        response_format:\n",
    "            type: text\n",
    " \n",
    "inputs:\n",
    "    context:\n",
    "        type: string\n",
    "    query:\n",
    "        type: string\n",
    "    conversation_history:\n",
    "        type: dict\n",
    "---\n",
    "system:\n",
    "You are a helpful assistant and you're helping with the user's query. \n",
    "Keep the conversation engaging and interesting.\n",
    "\n",
    "Keep your conversation grounded in the provided context: \n",
    "{{ context }}\n",
    "\n",
    "Output with a string that continues the conversation, responding to \n",
    "the latest message from the user query using it same language:\n",
    "{{ query }}\n",
    "\n",
    "given the conversation history:\n",
    "{{ conversation_history }}"
   ]
  },
  {
   "cell_type": "code",
   "execution_count": 5,
   "id": "6da11cff-7a95-4173-a2ce-3148f7d1aecb",
   "metadata": {},
   "outputs": [
    {
     "name": "stdout",
     "output_type": "stream",
     "text": [
      "(\"Making a pizza at home is a fun and delicious activity! Here's a simple way \"\n",
      " 'to do it:\\n'\n",
      " '\\n'\n",
      " '1. **Prepare the Dough**: You can either buy pre-made dough or make your '\n",
      " 'own. For homemade dough, mix 2 cups of flour, 1 packet of yeast, 1 teaspoon '\n",
      " 'of salt, 1 tablespoon of olive oil, and 3/4 cup of warm water. Knead until '\n",
      " 'smooth and let it rise for about an hour.\\n'\n",
      " '\\n'\n",
      " '2. **Roll Out the Dough**: Once the dough has risen, roll it out on a '\n",
      " 'floured surface to your desired thickness.\\n'\n",
      " '\\n'\n",
      " '3. **Add Sauce**: Spread a layer of tomato sauce over the dough. You can use '\n",
      " 'store-bought or make your own by simmering tomatoes, garlic, and herbs.\\n'\n",
      " '\\n'\n",
      " '4. **Top It Off**: Add your favorite toppings! Classic choices include '\n",
      " 'mozzarella cheese, pepperoni, mushrooms, bell peppers, and onions.\\n'\n",
      " '\\n'\n",
      " '5. **Bake**: Preheat your oven to 475°F (245°C). Bake the pizza for about '\n",
      " '10-15 minutes, or until the crust is golden and the cheese is bubbly.\\n'\n",
      " '\\n'\n",
      " '6. **Enjoy**: Let it cool for a few minutes, slice it up, and enjoy your '\n",
      " 'homemade pizza!\\n'\n",
      " '\\n'\n",
      " \"Do you have any favorite toppings you'd like to try?\")\n"
     ]
    }
   ],
   "source": [
    "prompty_path = \"eval_assets/application.prompty\"\n",
    "flow = load_flow(source=prompty_path, model={\"configuration\": model_config})\n",
    "\n",
    "pprint(flow(context=\"\", query=\"How to make a pizza at home\", conversation_history=[]))"
   ]
  },
  {
   "cell_type": "raw",
   "id": "bba92efa-4dad-4a4a-bc1a-f5193e10b63c",
   "metadata": {},
   "source": [
    "# Italian version\n",
    "context = \"Conversazione amichevole fra due persone\"\n",
    "\n",
    "conversation_history = [\n",
    "    {\n",
    "        \"content\": \"Cosa fai di bello questa sera?\",\n",
    "        \"role\": \"user\",\n",
    "        \"context\": \"Domanda amichevole\",\n",
    "    },\n",
    "    {\n",
    "        \"content\": \"Vado al cinema\",\n",
    "        \"role\": \"assistant\",\n",
    "        \"context\": \"Esposizione di un'attività ricreativa divertente\",\n",
    "    },\n",
    "    {\n",
    "        \"content\": \"Ah fantastico! Che cosa vai a vedere?\",\n",
    "        \"role\": \"user\",\n",
    "        \"context\": \"Ulteriore domanda amichevole a dimostrare interesse verso l'interlocutore\",\n",
    "    },\n",
    "    {\n",
    "        \"content\": \"Lo SQUALO di Steven Spielberg\",\n",
    "        \"role\": \"assistant\",\n",
    "        \"context\": \"Informazione specifica di un'attività divertente che si intende compiere\",\n",
    "    },\n",
    "]\n",
    "\n",
    "flow(context=conversation_history[-1][\"context\"], query=conversation_history[-1][\"content\"], conversation_history=conversation_history)"
   ]
  },
  {
   "cell_type": "code",
   "execution_count": 6,
   "id": "811aad51-cd89-4f42-85da-ec1238162f0e",
   "metadata": {},
   "outputs": [],
   "source": [
    "# English version\n",
    "\n",
    "context = \"Friendly conversation between two people, in English\"\n",
    "\n",
    "conversation_history = [\n",
    "    {\n",
    "        \"content\": \"What are you up to this evening?\",\n",
    "        \"role\": \"user\",\n",
    "        \"context\": \"Friendly question\",\n",
    "    },\n",
    "    {\n",
    "        \"content\": \"I'm going to the cinema\",\n",
    "        \"role\": \"assistant\",\n",
    "        \"context\": \"Description of a fun recreational activity\",\n",
    "    },\n",
    "    {\n",
    "        \"content\": \"Ah fantastic! What are you going to see?\",\n",
    "        \"role\": \"user\",\n",
    "        \"context\": \"Follow-up friendly question showing interest in the other person\",\n",
    "    },\n",
    "    {\n",
    "        \"content\": \"JAWS by Steven Spielberg\",\n",
    "        \"role\": \"assistant\",\n",
    "        \"context\": \"Specific information about a fun activity one plans to do\",\n",
    "    },\n",
    "]\n",
    "\n",
    "# flow(context=conversation_history[-1][\"context\"], query=conversation_history[-1][\"content\"], conversation_history=conversation_history)"
   ]
  },
  {
   "cell_type": "code",
   "execution_count": 12,
   "id": "be6e7524-1305-4844-b5a6-d2f7a3372f65",
   "metadata": {},
   "outputs": [
    {
     "name": "stdout",
     "output_type": "stream",
     "text": [
      "Message 0 - user: What are you up to this evening?\n",
      "\n",
      "Message 1 - assistant: I'm going to the cinema\n",
      "\n",
      "Message 2 - user: Ah fantastic! What are you going to see?\n",
      "\n",
      "Message 3 - assistant: JAWS by Steven Spielberg\n",
      "\n",
      "Message 4 - user: Oh, that's a classic! JAWS is such a thrilling movie. Are you a fan of Spielberg's work, or is this your first time watching it?\n",
      "\n",
      "Message 5 - assistant: I've seen a few of Spielberg's films, but this is my first time watching JAWS on the big screen. I'm really excited to experience it in a theater setting! How about you? Do you have a favorite Spielberg movie?\n",
      "\n",
      "Message 6 - user: Spielberg has so many great films, it's hard to pick just one! I think \"Jurassic Park\" might be my favorite. The mix of adventure, suspense, and groundbreaking effects really captivated me. How about you? Do you have a Spielberg favorite that stands out?\n",
      "\n",
      "Message 7 - assistant: \"Jurassic Park\" is definitely a masterpiece! For me, \"E.T. the Extra-Terrestrial\" holds a special place in my heart. The story of friendship and adventure, combined with the emotional depth, really resonates with me. Plus, who can forget that iconic flying bicycle scene? Spielberg truly knows how to create magic on screen. Do you have any other favorite directors or films that you enjoy?\n",
      "\n",
      "Message 8 - user: Spielberg is indeed a master of storytelling! Besides him, I really admire Christopher Nolan for his mind-bending narratives and visual style. Films like \"Inception\" and \"The Dark Knight\" are just phenomenal. How about you? Are there any directors or films that you find particularly captivating?\n",
      "\n"
     ]
    }
   ],
   "source": [
    "i = 0\n",
    "for ch in conversation_history:\n",
    "    print(f'Message {i} - {ch[\"role\"]}: {ch[\"content\"]}\\n')\n",
    "    i += 1\n",
    "    \n",
    "response = flow(context=conversation_history[-1][\"context\"], query=conversation_history[-1][\"content\"], conversation_history=conversation_history)\n",
    "\n",
    "conversation_history.append({\"content\": response, \"role\": \"user\" if conversation_history[-1][\"role\"]==\"assistant\" else \"assistant\", \"context\": \"\"})\n",
    "print(f'Message {i} - {conversation_history[-1][\"role\"]}: {conversation_history[-1][\"content\"]}\\n')"
   ]
  },
  {
   "cell_type": "markdown",
   "id": "4b5a7e0c-ae71-43f8-8422-3d62a6a10e70",
   "metadata": {},
   "source": [
    "## Specify target callback to simulate against\n",
    "You can bring any application endpoint to simulate against by specifying a target callback function such as the following given an application that is an LLM with a Prompty file like `application.prompty`"
   ]
  },
  {
   "cell_type": "code",
   "execution_count": 13,
   "id": "4e4e2868-cd07-403e-a475-6cd468102065",
   "metadata": {},
   "outputs": [],
   "source": [
    "async def callback(\n",
    "    messages: Dict,\n",
    "    stream: bool = False,\n",
    "    session_state: Any = None,  # noqa: ANN401\n",
    "    context: Optional[Dict[str, Any]] = None,\n",
    "    subfolder: str = \"eval_assets\",\n",
    ") -> dict:\n",
    "    messages_list = messages[\"messages\"]\n",
    "    latest_message = messages_list[-1] # Get the last message\n",
    "    query = latest_message[\"content\"]\n",
    "    context = latest_message.get(\"context\", None) # looks for context, default None\n",
    "    # Call your endpoint or AI application here\n",
    "    prompty_path = os.path.join(os.getcwd(), subfolder, \"application.prompty\") \n",
    "    _flow = load_flow(source=prompty_path, model={\"configuration\": model_config})\n",
    "    response = _flow(query=query, context=context, conversation_history=messages_list)\n",
    "    # Format the response to follow the OpenAI chat protocol\n",
    "    formatted_response = {\n",
    "        \"content\": response,\n",
    "        \"role\": \"user\" if conversation_history[-1][\"role\"]==\"assistant\" else \"assistant\",\n",
    "        \"context\": context,\n",
    "    }\n",
    "    messages[\"messages\"].append(formatted_response)\n",
    "    return {\n",
    "        \"messages\": messages[\"messages\"],\n",
    "        \"stream\": stream,\n",
    "        \"session_state\": session_state,\n",
    "        \"context\": context\n",
    "    }"
   ]
  },
  {
   "cell_type": "markdown",
   "id": "6f52fa10-fdff-4c9f-96fe-5b0a768dff29",
   "metadata": {},
   "source": [
    "## Generate text or index-based synthetic data as input\n",
    "In the first part, we prepare the text for generating the input to our simulator"
   ]
  },
  {
   "cell_type": "code",
   "execution_count": 14,
   "id": "767e05b1-2fa7-4447-84c7-b2340ec980b4",
   "metadata": {},
   "outputs": [
    {
     "name": "stdout",
     "output_type": "stream",
     "text": [
      "Leonardo di ser Piero da Vinci (15 April 1452 - 2 May 1519) was an Italian polymath of the High Rena...\n"
     ]
    }
   ],
   "source": [
    "import asyncio\n",
    "from azure.identity import DefaultAzureCredential\n",
    "import wikipedia\n",
    "import os\n",
    "# Prepare the text to send to the simulator\n",
    "wiki_search_term = \"Leonardo da Vinci\"\n",
    "wiki_title = wikipedia.search(wiki_search_term)[0]\n",
    "wiki_page = wikipedia.page(wiki_title)\n",
    "wiki_text = wiki_page.summary[:5000]\n",
    "print(f\"{wiki_text[:100]}...\")"
   ]
  },
  {
   "cell_type": "code",
   "execution_count": 15,
   "id": "ae73503b-a94b-4002-9672-5ee34a6011ff",
   "metadata": {},
   "outputs": [
    {
     "name": "stderr",
     "output_type": "stream",
     "text": [
      "Class Simulator: This is an experimental class, and may change at any time. Please see https://aka.ms/azuremlexperimental for more information.\n"
     ]
    }
   ],
   "source": [
    "from azure.ai.evaluation.simulator import Simulator\n",
    "simulator = Simulator(model_config=model_config)"
   ]
  },
  {
   "cell_type": "code",
   "execution_count": 16,
   "id": "4a38f46a-f767-4449-8fe9-af8ab99233d1",
   "metadata": {},
   "outputs": [
    {
     "name": "stderr",
     "output_type": "stream",
     "text": [
      "D:\\ProgramData\\miniconda3\\envs\\genai_evaluation\\Lib\\site-packages\\azure\\ai\\evaluation\\simulator\\_simulator.py:154: UserWarning: You have specified 'num_queries' > len('tasks') (1 > 0). All tasks will be used for generation and the remaining 1 lines will be simulated in task-free mode\n",
      "  warnings.warn(\n",
      "Generating: 100%|████████████████████████████████████████████████| 5/5 [00:26<00:00,  5.32s/message]\n"
     ]
    }
   ],
   "source": [
    "outputs = await simulator(\n",
    "    num_queries = 1,  # Number of queries\n",
    "    text        = wiki_text,\n",
    "    target      = callback   \n",
    ")"
   ]
  },
  {
   "cell_type": "code",
   "execution_count": 17,
   "id": "a09c66be-ba7a-4cee-8e58-b4b89347708f",
   "metadata": {},
   "outputs": [
    {
     "data": {
      "text/plain": [
       "[{'messages': [{'role': 'user',\n",
       "    'content': 'When was Leonardo da Vinci born?',\n",
       "    'context': 'None'},\n",
       "   {'role': 'assistant',\n",
       "    'content': \"Leonardo da Vinci was born on April 15, 1452. He was a true Renaissance man, known for his incredible contributions to art, science, and engineering. Is there anything specific about his life or work that you're curious about?\",\n",
       "    'context': 'None'},\n",
       "   {'role': 'user',\n",
       "    'content': \"I'm curious about his contributions to engineering. Could you tell me more about his inventions or designs?\",\n",
       "    'context': 'None'},\n",
       "   {'role': 'assistant',\n",
       "    'content': \"Leonardo da Vinci was a visionary in engineering, and his notebooks are filled with sketches and ideas that were far ahead of his time. Some of his most fascinating designs include the flying machine, which resembles a modern-day helicopter, and the armored vehicle, an early concept of a tank. He also designed various machines for water and hydraulic systems, such as a water wheel and a canal system. Although many of his inventions were never built during his lifetime, they demonstrate his incredible foresight and understanding of mechanics. His work laid the groundwork for future innovations in engineering. Is there a particular invention of his that you'd like to know more about?\",\n",
       "    'context': 'None'},\n",
       "   {'role': 'user',\n",
       "    'content': \"I'm intrigued by his flying machine design. How did Leonardo da Vinci envision it working, and were there any specific features that stood out in his sketches?\",\n",
       "    'context': 'None'},\n",
       "   {'role': 'assistant',\n",
       "    'content': \"Leonardo da Vinci's flying machine design is truly fascinating. He envisioned it as an ornithopter, a device that would mimic the flapping of bird wings to achieve flight. His sketches show a contraption with large, bat-like wings made of wood and silk, which he believed could be powered by human strength. One of the standout features in his design is the detailed study of bird flight, which he meticulously observed and documented. He understood the importance of aerodynamics and the need for lift, even though the technology of his time couldn't support such a machine. His flying machine was never built, but it demonstrated his deep curiosity and innovative thinking about the possibilities of human flight. Would you like to explore more about his other inventions or perhaps his artistic achievements?\",\n",
       "    'context': 'None'},\n",
       "   {'role': 'user',\n",
       "    'content': \"I'm interested in learning more about Leonardo da Vinci's artistic achievements. Could you tell me about some of his most famous paintings and what makes them unique?\",\n",
       "    'context': 'None'},\n",
       "   {'role': 'assistant',\n",
       "    'content': 'Leonardo da Vinci\\'s artistic achievements are truly remarkable, and his paintings are celebrated for their innovation and mastery. Two of his most famous works are \"The Last Supper\" and \"Mona Lisa.\"\\n\\n\"The Last Supper,\" painted between 1495 and 1498, is a mural located in the Convent of Santa Maria delle Grazie in Milan. What makes this painting unique is Leonardo\\'s use of perspective and composition to create a dramatic narrative moment. He captures the moment Jesus announces that one of his disciples will betray him, and the reactions of the apostles are vividly portrayed. Leonardo\\'s use of light and shadow, as well as his attention to detail, make this work a masterpiece of Renaissance art.\\n\\nThe \"Mona Lisa,\" painted between 1503 and 1506, is perhaps the most famous painting in the world. It is renowned for the subject\\'s enigmatic expression, which seems to change when viewed from different angles. Leonardo\\'s use of sfumato, a technique that creates a soft transition between colors and tones, gives the painting a lifelike quality. The background landscape is also notable for its atmospheric perspective, adding depth to the composition.\\n\\nBoth paintings showcase Leonardo\\'s skill in capturing human emotion and his innovative techniques that have influenced countless artists. Is there a particular aspect of his art that you\\'d like to delve deeper into?',\n",
       "    'context': 'None'},\n",
       "   {'role': 'user',\n",
       "    'content': \"I'm curious about the technique of sfumato that Leonardo used in the Mona Lisa. How did he achieve this effect, and why is it considered significant in art history?\",\n",
       "    'context': 'None'},\n",
       "   {'role': 'assistant',\n",
       "    'content': 'Sfumato is a fascinating technique that Leonardo da Vinci mastered, and it\\'s one of the reasons the \"Mona Lisa\" is so captivating. The term \"sfumato\" comes from the Italian word \"fumo,\" meaning smoke, and it describes a way of blending colors and tones so seamlessly that there are no harsh lines or edges. This creates a soft, almost smoky effect that gives the painting a lifelike and three-dimensional quality.\\n\\nLeonardo achieved this effect by applying multiple thin layers of translucent paint, allowing the colors to gradually transition into one another. This meticulous process required patience and precision, as it involved building up the layers slowly to achieve the desired depth and subtlety.\\n\\nThe significance of sfumato in art history lies in its revolutionary approach to realism. Before Leonardo, artists often used more defined lines and contrasts. Sfumato allowed for a more natural representation of light and shadow, enhancing the emotional and atmospheric qualities of a painting. This technique influenced many artists who followed, contributing to the evolution of portraiture and landscape painting.\\n\\nLeonardo\\'s use of sfumato in the \"Mona Lisa\" is particularly notable in the soft contours of her face and the mysterious quality of her expression, which seems to change depending on the viewer\\'s perspective. It\\'s a testament to his genius and his ability to capture the complexity of human emotion. Would you like to explore more about Leonardo\\'s techniques or perhaps another aspect of his work?',\n",
       "    'context': 'None'}],\n",
       "  'finish_reason': ['stop'],\n",
       "  'context': {'task': None,\n",
       "   'expected_response': '15 April 1452',\n",
       "   'query': 'When was Leonardo da Vinci born?',\n",
       "   'original_text': \"Leonardo di ser Piero da Vinci (15 April 1452 - 2 May 1519) was an Italian polymath of the High Renaissance who was active as a painter, draughtsman, engineer, scientist, theorist, sculptor, and architect. While his fame initially rested on his achievements as a painter, he has also become known for his notebooks, in which he made drawings and notes on a variety of subjects, including anatomy, astronomy, botany, cartography, painting, and palaeontology. Leonardo is widely regarded to have been a genius who epitomised the Renaissance humanist ideal, and his collective works comprise a contribution to later generations of artists matched only by that of his younger contemporary Michelangelo.\\nBorn out of wedlock to a successful notary and a lower-class woman in, or near, Vinci, he was educated in Florence by the Italian painter and sculptor Andrea del Verrocchio. He began his career in the city, but then spent much time in the service of Ludovico Sforza in Milan. Later, he worked in Florence and Milan again, as well as briefly in Rome, all while attracting a large following of imitators and students. Upon the invitation of Francis I, he spent his last three years in France, where he died in 1519. Since his death, there has not been a time where his achievements, diverse interests, personal life, and empirical thinking have failed to incite interest and admiration, making him a frequent namesake and subject in culture.\\nLeonardo is identified as one of the greatest painters in the history of Western art and is often credited as the founder of the High Renaissance. Despite having many lost works and fewer than 25 attributed major works – including numerous unfinished works – he created some of the most influential paintings in the Western canon. The Mona Lisa is his best known work and is the world's most famous individual painting. The Last Supper is the most reproduced religious painting of all time and his Vitruvian Man drawing is also regarded as a cultural icon. In 2017, Salvator Mundi, attributed in whole or part to Leonardo, was sold at auction for US$450.3 million, setting a new record for the most expensive painting ever sold at public auction.\\nRevered for his technological ingenuity, he conceptualised flying machines, a type of armoured fighting vehicle, concentrated solar power, a ratio machine that could be used in an adding machine, and the double hull. Relatively few of his designs were constructed or were even feasible during his lifetime, as the modern scientific approaches to metallurgy and engineering were only in their infancy during the Renaissance. Some of his smaller inventions, however, entered the world of manufacturing unheralded, such as an automated bobbin winder and a machine for testing the tensile strength of wire. He made substantial discoveries in anatomy, civil engineering, hydrodynamics, geology, optics, and tribology, but he did not publish his findings and they had little to no direct influence on subsequent science.\"},\n",
       "  '$schema': 'http://azureml/sdk-2-0/ChatConversation.json'}]"
      ]
     },
     "execution_count": 17,
     "metadata": {},
     "output_type": "execute_result"
    }
   ],
   "source": [
    "outputs"
   ]
  },
  {
   "cell_type": "code",
   "execution_count": null,
   "id": "590db99a-12b5-4abe-92ea-ac12b4e2bf64",
   "metadata": {},
   "outputs": [],
   "source": [
    "i = 0\n",
    "for ch in outputs[0][\"messages\"]:\n",
    "    print(f'Message {i} - {ch[\"role\"]}: {ch[\"content\"]}\\n')\n",
    "    i += 1"
   ]
  }
 ],
 "metadata": {
  "kernelspec": {
   "display_name": "Generative AI evaluation",
   "language": "python",
   "name": "genai_evaluation"
  },
  "language_info": {
   "codemirror_mode": {
    "name": "ipython",
    "version": 3
   },
   "file_extension": ".py",
   "mimetype": "text/x-python",
   "name": "python",
   "nbconvert_exporter": "python",
   "pygments_lexer": "ipython3",
   "version": "3.12.11"
  }
 },
 "nbformat": 4,
 "nbformat_minor": 5
}
