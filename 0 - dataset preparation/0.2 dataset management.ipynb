{
 "cells": [
  {
   "cell_type": "markdown",
   "id": "4c784d56-d236-4acb-bbb7-63ae85ef23a6",
   "metadata": {},
   "source": [
    "# Variables, Constants and Libraries definition\n",
    "In the command line you may use\n",
    "```\n",
    "az login --use-device-code --allow-no-subscriptions --output none < /dev/null\n",
    "az account set --subscription subscription_id\n",
    "```"
   ]
  },
  {
   "cell_type": "code",
   "execution_count": 1,
   "id": "e949a0ff-016b-4e7f-94ba-dd82d8ca8868",
   "metadata": {},
   "outputs": [],
   "source": [
    "from azure.identity import DefaultAzureCredential\n",
    "credential = DefaultAzureCredential()"
   ]
  },
  {
   "cell_type": "code",
   "execution_count": 2,
   "id": "f34c9140-3264-47d3-8426-fdf36d8fa5e6",
   "metadata": {},
   "outputs": [
    {
     "name": "stdout",
     "output_type": "stream",
     "text": [
      "openai_endpoint: <https://mmoaiswc-01.openai.azure.com/>\n",
      "azure_deployment_name: gpt-4o\n",
      "openai_api_version: 2025-04-01-preview\n"
     ]
    }
   ],
   "source": [
    "from dotenv import load_dotenv # requires python-dotenv\n",
    "from azure.identity import DefaultAzureCredential, get_bearer_token_provider #requires azure-identity\n",
    "from openai import AzureOpenAI\n",
    "import openai, os, json, time, glob, kagglehub # openai is used for error catching, otherwise we use AzureOpenAI\n",
    "import pandas as pd\n",
    "\n",
    "if not load_dotenv(\"./../../config/credentials_my.env\"):\n",
    "    print(\"Environment variables not loaded, cell execution stopped\")\n",
    "    sys.exit()\n",
    "\n",
    "openai_endpoint       = os.environ[\"AZURE_OPENAI_ENDPOINT\"]\n",
    "openai_api_key        = os.environ[\"AZURE_OPENAI_API_KEY\"]\n",
    "openai_api_version    = os.environ[\"OPENAI_API_VERSION\"]\n",
    "azure_deployment_name = os.environ[\"MODEL_DEPLOYMENT_NAME\"]\n",
    "\n",
    "credential            = DefaultAzureCredential()\n",
    "\n",
    "token_provider        = get_bearer_token_provider(\n",
    "    DefaultAzureCredential(), \"https://cognitiveservices.azure.com/.default\")\n",
    "\n",
    "folder_path = \"./../data\"\n",
    "\n",
    "# Create the folder if it doesn't exist\n",
    "os.makedirs(folder_path, exist_ok=True)\n",
    "output_file_name = os.path.join(folder_path, \"questions_enriched\")\n",
    "\n",
    "# Get the current user's home directory\n",
    "home_dir = os.path.expanduser(\"~\")\n",
    "\n",
    "# Print some constants\n",
    "print(f'openai_endpoint: <{openai_endpoint}>')\n",
    "print(f\"azure_deployment_name: {azure_deployment_name}\")\n",
    "print(f\"openai_api_version: {openai_api_version}\")"
   ]
  },
  {
   "cell_type": "markdown",
   "id": "cda2da8c-5ca6-4a6b-847c-d7faa07f3c8b",
   "metadata": {},
   "source": [
    "# [Single-Topic RAG Evaluation Dataset](https://www.kaggle.com/datasets/samuelmatsuoharris/single-topic-rag-evaluation-dataset) retrieval"
   ]
  },
  {
   "cell_type": "code",
   "execution_count": 3,
   "id": "8dc80af2-a2a7-4cb5-9661-60cf24567c80",
   "metadata": {},
   "outputs": [],
   "source": [
    "sample_size = 10\n",
    "\n",
    "enriched_df = pd.read_csv(f\"{output_file_name}.csv\")\n",
    "\n",
    "# Selecting sample_size random rows\n",
    "random_sample = enriched_df.sample(frac=1).reset_index(drop=True).head(sample_size)\n",
    "random_sample\n",
    "\n",
    "# Exporting to CSV format\n",
    "random_sample.to_csv (f\"{output_file_name}_(size {sample_size}).csv\", index=False)\n",
    "\n",
    "# Exporting to JSONL format\n",
    "random_sample.to_json(f\"{output_file_name}_records_(size {sample_size}).jsonl\", orient=\"records\", lines=True)"
   ]
  }
 ],
 "metadata": {
  "kernelspec": {
   "display_name": "genai_evaluation",
   "language": "python",
   "name": "genai_evaluation"
  },
  "language_info": {
   "codemirror_mode": {
    "name": "ipython",
    "version": 3
   },
   "file_extension": ".py",
   "mimetype": "text/x-python",
   "name": "python",
   "nbconvert_exporter": "python",
   "pygments_lexer": "ipython3",
   "version": "3.13.7"
  }
 },
 "nbformat": 4,
 "nbformat_minor": 5
}
