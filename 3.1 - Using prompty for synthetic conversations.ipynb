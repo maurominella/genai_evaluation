{
 "cells": [
  {
   "cell_type": "markdown",
   "id": "c479b344-f6ae-454d-a96c-85f9137f16dc",
   "metadata": {},
   "source": [
    "# [Generate synthetic and simulated data for evaluation](https://learn.microsoft.com/en-us/azure/ai-foundry/how-to/develop/simulator-interaction-data)\n",
    "**Azure AI Evaluation SDK's** `Simulator` provides an end-to-end synthetic data generation capability to help developers test their application's response to typical user queries in the absence of production data. AI developers can use an index or text-based query generator and fully customizable simulator to create robust test datasets around non-adversarial tasks specific to their application. The `Simulator` class is a powerful tool designed to generate synthetic conversations and simulate task-based interactions. This capability is useful for:\n",
    "- **Testing Conversational Applications**: Ensure your chatbots and virtual assistants respond accurately under various scenarios.\n",
    "- **Training AI Models**: Generate diverse datasets to train and fine-tune machine learning models.\n",
    "- **Generating Datasets**: Create extensive conversation logs for analysis and development purposes.\n",
    "By automating the creation of synthetic data, the Simulator class helps streamline the development and testing processes, ensuring your applications are robust and reliable.\n",
    "<br/>\n",
    "By automating the creation of synthetic data, the `Simulator` class helps streamline the development and testing processes, ensuring your applications are robust and reliable."
   ]
  },
  {
   "cell_type": "code",
   "execution_count": 1,
   "id": "43f1ba86-e977-4636-8887-04394b833f55",
   "metadata": {},
   "outputs": [],
   "source": [
    "# !az login"
   ]
  },
  {
   "cell_type": "code",
   "execution_count": 2,
   "id": "7b8ac0ff-c633-4603-b3bf-c63ef79b1995",
   "metadata": {},
   "outputs": [],
   "source": [
    "# Constants and Libraries\n",
    "import os, json\n",
    "from azure.identity import DefaultAzureCredential, get_bearer_token_provider #requires azure-identity\n",
    "from pprint import pprint\n",
    "from dotenv import load_dotenv # requires python-dotenv\n",
    "from typing import List, Dict, Any, Optional\n",
    "from promptflow.client import load_flow\n",
    "from pprint import pprint\n",
    "\n",
    "if not load_dotenv(\"./../../config/credentials_my.env\"):\n",
    "    print(\"Environment variables not loaded, cell execution stopped\")\n",
    "    sys.exit()\n",
    "os.environ[\"AZURE_OPENAI_API_VERSION\"] = os.environ[\"OPENAI_API_VERSION\"]\n",
    "\n",
    "credential = DefaultAzureCredential()"
   ]
  },
  {
   "cell_type": "code",
   "execution_count": 3,
   "id": "4edd78d8-45bd-46ec-aca1-26f28afa8b5b",
   "metadata": {},
   "outputs": [],
   "source": [
    "# Initialize Azure OpenAI connection\n",
    "\n",
    "model_config = {\n",
    "    \"azure_endpoint\": os.environ.get(\"AZURE_OPENAI_ENDPOINT\"),\n",
    "    \"api_key\": os.environ.get(\"AZURE_OPENAI_API_KEY\"),\n",
    "    \"azure_deployment\": os.environ.get(\"MODEL_DEPLOYMENT_NAME\"),\n",
    "    \"api_version\": os.environ.get(\"AZURE_OPENAI_API_VERSION\"),\n",
    "    \"type\": \"AzureOpenAI\" # NEEDED FOR \\Lib\\site-packages\\promptflow\\core\\_prompty_utils.py\n",
    "}"
   ]
  },
  {
   "cell_type": "markdown",
   "id": "4dfa8dc5-c6fc-4306-a3cd-422cb332d808",
   "metadata": {},
   "source": [
    "## Specify application Prompty\n",
    "The following `application.prompty` file specifies how a chat application behaves."
   ]
  },
  {
   "cell_type": "code",
   "execution_count": 4,
   "id": "ca529b72-ba77-4db9-87a9-21696f4b6d1e",
   "metadata": {},
   "outputs": [
    {
     "name": "stdout",
     "output_type": "stream",
     "text": [
      "Overwriting ./eval_assets/application.prompty\n"
     ]
    }
   ],
   "source": [
    "%%writefile ./eval_assets/application.prompty\n",
    "---\n",
    "name: ApplicationPrompty\n",
    "description: Chat RAG application\n",
    "model:\n",
    "    api: chat\n",
    "    parameters:\n",
    "        temperature: 0.0\n",
    "        top_p: 1.0\n",
    "        presence_penalty: 0\n",
    "        frequency_penalty: 0\n",
    "        response_format:\n",
    "            type: text\n",
    " \n",
    "inputs:\n",
    "    context:\n",
    "        type: string\n",
    "    query:\n",
    "        type: string\n",
    "    conversation_history:\n",
    "        type: dict\n",
    "---\n",
    "system:\n",
    "You are a helpful assistant and you're helping with the user's query. \n",
    "Keep the conversation engaging and interesting.\n",
    "\n",
    "Keep your conversation grounded in the provided context: \n",
    "{{ context }}\n",
    "\n",
    "Output with a string that continues the conversation, responding to \n",
    "the latest message from the user query using it same language:\n",
    "{{ query }}\n",
    "\n",
    "given the conversation history:\n",
    "{{ conversation_history }}"
   ]
  },
  {
   "cell_type": "code",
   "execution_count": 5,
   "id": "6da11cff-7a95-4173-a2ce-3148f7d1aecb",
   "metadata": {},
   "outputs": [
    {
     "name": "stdout",
     "output_type": "stream",
     "text": [
      "(\"Making a pizza at home is a fun and delicious activity! Here's a simple way \"\n",
      " 'to do it:\\n'\n",
      " '\\n'\n",
      " '1. **Prepare the Dough**: You can either buy pre-made dough or make your '\n",
      " 'own. For homemade dough, mix 2 cups of flour, 1 packet of yeast, 1 teaspoon '\n",
      " 'of salt, 1 tablespoon of olive oil, and 3/4 cup of warm water. Knead the '\n",
      " 'dough until smooth, then let it rise for about an hour.\\n'\n",
      " '\\n'\n",
      " '2. **Roll Out the Dough**: Once the dough has risen, roll it out on a '\n",
      " 'floured surface to your desired thickness.\\n'\n",
      " '\\n'\n",
      " '3. **Add Sauce**: Spread a layer of tomato sauce over the dough. You can use '\n",
      " 'store-bought sauce or make your own by blending tomatoes, garlic, and '\n",
      " 'herbs.\\n'\n",
      " '\\n'\n",
      " '4. **Top It Off**: Add your favorite toppings! Classic choices include '\n",
      " 'mozzarella cheese, pepperoni, mushrooms, bell peppers, and onions. Be '\n",
      " 'creative and add whatever you love.\\n'\n",
      " '\\n'\n",
      " '5. **Bake**: Preheat your oven to 475°F (245°C). Place the pizza on a baking '\n",
      " 'sheet or pizza stone and bake for 10-15 minutes, or until the crust is '\n",
      " 'golden and the cheese is bubbly.\\n'\n",
      " '\\n'\n",
      " '6. **Enjoy**: Let it cool for a few minutes, slice it up, and enjoy your '\n",
      " 'homemade pizza!\\n'\n",
      " '\\n'\n",
      " \"Do you have any favorite toppings you'd like to try?\")\n"
     ]
    }
   ],
   "source": [
    "prompty_path = \"eval_assets/application.prompty\"\n",
    "flow = load_flow(source=prompty_path, model={\"configuration\": model_config})\n",
    "\n",
    "pprint(flow(context=\"\", query=\"How to make a pizza at home\", conversation_history=[]))"
   ]
  },
  {
   "cell_type": "raw",
   "id": "bba92efa-4dad-4a4a-bc1a-f5193e10b63c",
   "metadata": {},
   "source": [
    "# Italian version\n",
    "context = \"Conversazione amichevole fra due persone\"\n",
    "\n",
    "conversation_history = [\n",
    "    {\n",
    "        \"content\": \"Cosa fai di bello questa sera?\",\n",
    "        \"role\": \"user\",\n",
    "        \"context\": \"Domanda amichevole\",\n",
    "    },\n",
    "    {\n",
    "        \"content\": \"Vado al cinema\",\n",
    "        \"role\": \"assistant\",\n",
    "        \"context\": \"Esposizione di un'attività ricreativa divertente\",\n",
    "    },\n",
    "    {\n",
    "        \"content\": \"Ah fantastico! Che cosa vai a vedere?\",\n",
    "        \"role\": \"user\",\n",
    "        \"context\": \"Ulteriore domanda amichevole a dimostrare interesse verso l'interlocutore\",\n",
    "    },\n",
    "    {\n",
    "        \"content\": \"Lo SQUALO di Steven Spielberg\",\n",
    "        \"role\": \"assistant\",\n",
    "        \"context\": \"Informazione specifica di un'attività divertente che si intende compiere\",\n",
    "    },\n",
    "]\n",
    "\n",
    "flow(context=conversation_history[-1][\"context\"], query=conversation_history[-1][\"content\"], conversation_history=conversation_history)"
   ]
  },
  {
   "cell_type": "code",
   "execution_count": 6,
   "id": "811aad51-cd89-4f42-85da-ec1238162f0e",
   "metadata": {},
   "outputs": [],
   "source": [
    "# English version\n",
    "\n",
    "context = \"Friendly conversation between two people, in English\"\n",
    "\n",
    "conversation_history = [\n",
    "    {\n",
    "        \"content\": \"What are you up to this evening?\",\n",
    "        \"role\": \"user\",\n",
    "        \"context\": \"Friendly question\",\n",
    "    },\n",
    "    {\n",
    "        \"content\": \"I'm going to the cinema\",\n",
    "        \"role\": \"assistant\",\n",
    "        \"context\": \"Description of a fun recreational activity\",\n",
    "    },\n",
    "    {\n",
    "        \"content\": \"Ah fantastic! What are you going to see?\",\n",
    "        \"role\": \"user\",\n",
    "        \"context\": \"Follow-up friendly question showing interest in the other person\",\n",
    "    },\n",
    "    {\n",
    "        \"content\": \"JAWS by Steven Spielberg\",\n",
    "        \"role\": \"assistant\",\n",
    "        \"context\": \"Specific information about a fun activity one plans to do\",\n",
    "    },\n",
    "]\n",
    "\n",
    "# flow(context=conversation_history[-1][\"context\"], query=conversation_history[-1][\"content\"], conversation_history=conversation_history)"
   ]
  },
  {
   "cell_type": "code",
   "execution_count": 7,
   "id": "be6e7524-1305-4844-b5a6-d2f7a3372f65",
   "metadata": {},
   "outputs": [
    {
     "name": "stdout",
     "output_type": "stream",
     "text": [
      "Message 0 - user: What are you up to this evening?\n",
      "\n",
      "Message 1 - assistant: I'm going to the cinema\n",
      "\n",
      "Message 2 - user: Ah fantastic! What are you going to see?\n",
      "\n",
      "Message 3 - assistant: JAWS by Steven Spielberg\n",
      "\n",
      "Message 4 - user: That sounds thrilling! JAWS is such a classic. Are you a fan of Spielberg's work, or is this your first time watching it?\n",
      "\n"
     ]
    }
   ],
   "source": [
    "i = 0\n",
    "for ch in conversation_history:\n",
    "    print(f'Message {i} - {ch[\"role\"]}: {ch[\"content\"]}\\n')\n",
    "    i += 1\n",
    "    \n",
    "response = flow(context=conversation_history[-1][\"context\"], query=conversation_history[-1][\"content\"], conversation_history=conversation_history)\n",
    "\n",
    "conversation_history.append({\"content\": response, \"role\": \"user\" if conversation_history[-1][\"role\"]==\"assistant\" else \"assistant\", \"context\": \"\"})\n",
    "print(f'Message {i} - {conversation_history[-1][\"role\"]}: {conversation_history[-1][\"content\"]}\\n')"
   ]
  },
  {
   "cell_type": "markdown",
   "id": "4b5a7e0c-ae71-43f8-8422-3d62a6a10e70",
   "metadata": {},
   "source": [
    "## Specify target callback to simulate against\n",
    "You can bring any application endpoint to simulate against by specifying a target callback function such as the following given an application that is an LLM with a Prompty file like `application.prompty`"
   ]
  },
  {
   "cell_type": "code",
   "execution_count": 8,
   "id": "4e4e2868-cd07-403e-a475-6cd468102065",
   "metadata": {},
   "outputs": [],
   "source": [
    "async def callback(\n",
    "    messages: Dict,\n",
    "    stream: bool = False,\n",
    "    session_state: Any = None,  # noqa: ANN401\n",
    "    context: Optional[Dict[str, Any]] = None,\n",
    "    subfolder: str = \"eval_assets\",\n",
    ") -> dict:\n",
    "    messages_list = messages[\"messages\"]\n",
    "    latest_message = messages_list[-1] # Get the last message\n",
    "    query = latest_message[\"content\"]\n",
    "    context = latest_message.get(\"context\", None) # looks for context, default None\n",
    "    # Call your endpoint or AI application here\n",
    "    prompty_path = os.path.join(os.getcwd(), subfolder, \"application.prompty\") \n",
    "    _flow = load_flow(source=prompty_path, model={\"configuration\": model_config})\n",
    "    response = _flow(query=query, context=context, conversation_history=messages_list)\n",
    "    # Format the response to follow the OpenAI chat protocol\n",
    "    formatted_response = {\n",
    "        \"content\": response,\n",
    "        \"role\": \"user\" if conversation_history[-1][\"role\"]==\"assistant\" else \"assistant\",\n",
    "        \"context\": context,\n",
    "    }\n",
    "    messages[\"messages\"].append(formatted_response)\n",
    "    return {\n",
    "        \"messages\": messages[\"messages\"],\n",
    "        \"stream\": stream,\n",
    "        \"session_state\": session_state,\n",
    "        \"context\": context\n",
    "    }"
   ]
  },
  {
   "cell_type": "markdown",
   "id": "6f52fa10-fdff-4c9f-96fe-5b0a768dff29",
   "metadata": {},
   "source": [
    "## Generate text or index-based synthetic data as input\n",
    "In the first part, we prepare the text for generating the input to our simulator"
   ]
  },
  {
   "cell_type": "code",
   "execution_count": 9,
   "id": "767e05b1-2fa7-4447-84c7-b2340ec980b4",
   "metadata": {},
   "outputs": [
    {
     "name": "stdout",
     "output_type": "stream",
     "text": [
      "Leonardo di ser Piero da Vinci (15 April 1452 – 2 May 1519) was an Italian polymath of the High Rena...\n"
     ]
    }
   ],
   "source": [
    "import asyncio\n",
    "from azure.identity import DefaultAzureCredential\n",
    "import wikipedia\n",
    "import os\n",
    "# Prepare the text to send to the simulator\n",
    "wiki_search_term = \"Leonardo da Vinci\"\n",
    "wiki_title = wikipedia.search(wiki_search_term)[0]\n",
    "wiki_page = wikipedia.page(wiki_title)\n",
    "wiki_text = wiki_page.summary[:5000]\n",
    "print(f\"{wiki_text[:100]}...\")"
   ]
  },
  {
   "cell_type": "code",
   "execution_count": 10,
   "id": "ae73503b-a94b-4002-9672-5ee34a6011ff",
   "metadata": {},
   "outputs": [
    {
     "name": "stderr",
     "output_type": "stream",
     "text": [
      "Class Simulator: This is an experimental class, and may change at any time. Please see https://aka.ms/azuremlexperimental for more information.\n"
     ]
    }
   ],
   "source": [
    "from azure.ai.evaluation.simulator import Simulator\n",
    "simulator = Simulator(model_config=model_config)"
   ]
  },
  {
   "cell_type": "code",
   "execution_count": 11,
   "id": "4a38f46a-f767-4449-8fe9-af8ab99233d1",
   "metadata": {},
   "outputs": [
    {
     "name": "stderr",
     "output_type": "stream",
     "text": [
      "/anaconda/envs/genai_evaluation/lib/python3.13/site-packages/azure/ai/evaluation/simulator/_simulator.py:158: UserWarning: You have specified 'num_queries' > len('tasks') (1 > 0). All tasks will be used for generation and the remaining 1 lines will be simulated in task-free mode\n",
      "  warnings.warn(\n",
      "Generating: 100%|████████████████████████████████████████████████| 5/5 [00:16<00:00,  3.32s/message]\n"
     ]
    }
   ],
   "source": [
    "outputs = await simulator(\n",
    "    num_queries = 1,  # Number of queries\n",
    "    text        = wiki_text,\n",
    "    target      = callback   \n",
    ")"
   ]
  },
  {
   "cell_type": "code",
   "execution_count": 12,
   "id": "a09c66be-ba7a-4cee-8e58-b4b89347708f",
   "metadata": {},
   "outputs": [
    {
     "data": {
      "text/plain": [
       "[{'messages': [{'role': 'user',\n",
       "    'content': 'What was the sale price of Salvator Mundi attributed to Leonardo at auction in 2017?',\n",
       "    'context': 'None'},\n",
       "   {'role': 'assistant',\n",
       "    'content': 'The \"Salvator Mundi\" attributed to Leonardo da Vinci was sold at auction in 2017 for a staggering $450.3 million, making it the most expensive painting ever sold at auction. It\\'s quite a fascinating piece with a mysterious history!',\n",
       "    'context': 'None'},\n",
       "   {'role': 'user',\n",
       "    'content': \"That's an incredible amount! Do you know who purchased the painting at that auction?\",\n",
       "    'context': 'None'},\n",
       "   {'role': 'assistant',\n",
       "    'content': \"The painting was purchased by Prince Badr bin Abdullah bin Mohammed bin Farhan Al Saud, who was acting on behalf of the Saudi Arabian crown prince, Mohammed bin Salman. It's believed that the painting is intended for display at the Louvre Abu Dhabi. The acquisition certainly stirred quite a bit of intrigue and discussion in the art world!\",\n",
       "    'context': 'None'},\n",
       "   {'role': 'user',\n",
       "    'content': \"That's fascinating! Do you know if the painting is currently on display at the Louvre Abu Dhabi or if there have been any updates on its whereabouts?\",\n",
       "    'context': 'None'},\n",
       "   {'role': 'assistant',\n",
       "    'content': 'As of the latest updates, the \"Salvator Mundi\" has not been publicly displayed at the Louvre Abu Dhabi, and its exact whereabouts remain somewhat mysterious. There have been various speculations and reports about its location, but no official confirmation has been made. The intrigue surrounding the painting continues to captivate art enthusiasts and historians alike!',\n",
       "    'context': 'None'},\n",
       "   {'role': 'user',\n",
       "    'content': \"Given the mystery surrounding its location, are there any theories or speculations about why the painting hasn't been displayed yet?\",\n",
       "    'context': 'None'},\n",
       "   {'role': 'assistant',\n",
       "    'content': 'There are indeed several theories and speculations about why the \"Salvator Mundi\" hasn\\'t been displayed yet. Some suggest that there might be concerns about the painting\\'s condition or authenticity, which could be causing hesitation in publicly exhibiting it. Others speculate that political or diplomatic factors might be at play, given the involvement of high-profile figures in its acquisition. Additionally, some believe that the painting might be held in private for security reasons or as part of a strategic decision regarding its future display. The mystery certainly adds to the allure and intrigue surrounding this enigmatic masterpiece!',\n",
       "    'context': 'None'},\n",
       "   {'role': 'user',\n",
       "    'content': \"With all these speculations, has there been any recent news or developments regarding the painting's condition or authenticity?\",\n",
       "    'context': 'None'},\n",
       "   {'role': 'assistant',\n",
       "    'content': 'As of the latest information available, there haven\\'t been any definitive updates regarding the condition or authenticity of the \"Salvator Mundi.\" The painting continues to be a subject of debate among art historians and experts, with discussions about its provenance and the extent of Leonardo\\'s involvement in its creation. While some experts affirm its authenticity, others remain skeptical, pointing to stylistic differences and historical records. The painting\\'s mysterious status and the lack of public display only fuel these ongoing discussions. It\\'s a fascinating case that keeps the art world buzzing with curiosity!',\n",
       "    'context': 'None'}],\n",
       "  'finish_reason': ['stop'],\n",
       "  'context': {'task': None,\n",
       "   'expected_response': 'US$450.3 million',\n",
       "   'query': 'What was the sale price of Salvator Mundi attributed to Leonardo at auction in 2017?',\n",
       "   'original_text': \"Leonardo di ser Piero da Vinci (15 April 1452 – 2 May 1519) was an Italian polymath of the High Renaissance who was active as a painter, draughtsman, engineer, scientist, theorist, sculptor, and architect. While his fame initially rested on his achievements as a painter, he has also become known for his notebooks, in which he made drawings and notes on a variety of subjects, including anatomy, astronomy, botany, cartography, painting, and palaeontology. Leonardo is widely regarded to have been a genius who epitomised the Renaissance humanist ideal, and his collective works comprise a contribution to later generations of artists matched only by that of his younger contemporary Michelangelo.\\nBorn out of wedlock to a successful notary and a lower-class woman in, or near, Vinci, he was educated in Florence by the Italian painter and sculptor Andrea del Verrocchio. He began his career in the city, but then spent much time in the service of Ludovico Sforza in Milan. Later, he worked in Florence and Milan again, as well as briefly in Rome, all while attracting a large following of imitators and students. Upon the invitation of Francis I, he spent his last three years in France, where he died in 1519. Since his death, there has not been a time where his achievements, diverse interests, personal life, and empirical thinking have failed to incite interest and admiration, making him a frequent namesake and subject in culture.\\nLeonardo is identified as one of the greatest painters in the history of Western art and is often credited as the founder of the High Renaissance. Despite having many lost works and fewer than 25 attributed major works – including numerous unfinished works – he created some of the most influential paintings in the Western canon. The Mona Lisa is his best known work and is the world's most famous individual painting. The Last Supper is the most reproduced religious painting of all time and his Vitruvian Man drawing is also regarded as a cultural icon. In 2017, Salvator Mundi, attributed in whole or part to Leonardo, was sold at auction for US$450.3 million, setting a new record for the most expensive painting ever sold at public auction.\\nRevered for his technological ingenuity, he conceptualised flying machines, a type of armoured fighting vehicle, concentrated solar power, a ratio machine that could be used in an adding machine, and the double hull. Relatively few of his designs were constructed or were even feasible during his lifetime, as the modern scientific approaches to metallurgy and engineering were only in their infancy during the Renaissance. Some of his smaller inventions, however, entered the world of manufacturing unheralded, such as an automated bobbin winder and a machine for testing the tensile strength of wire. He made substantial discoveries in anatomy, civil engineering, hydrodynamics, geology, optics, and tribology, but he did not publish his findings and they had little to no direct influence on subsequent science.\"},\n",
       "  '$schema': 'http://azureml/sdk-2-0/ChatConversation.json'}]"
      ]
     },
     "execution_count": 12,
     "metadata": {},
     "output_type": "execute_result"
    }
   ],
   "source": [
    "outputs"
   ]
  },
  {
   "cell_type": "code",
   "execution_count": 13,
   "id": "590db99a-12b5-4abe-92ea-ac12b4e2bf64",
   "metadata": {},
   "outputs": [
    {
     "name": "stdout",
     "output_type": "stream",
     "text": [
      "Message 0 - user: What was the sale price of Salvator Mundi attributed to Leonardo at auction in 2017?\n",
      "\n",
      "Message 1 - assistant: The \"Salvator Mundi\" attributed to Leonardo da Vinci was sold at auction in 2017 for a staggering $450.3 million, making it the most expensive painting ever sold at auction. It's quite a fascinating piece with a mysterious history!\n",
      "\n",
      "Message 2 - user: That's an incredible amount! Do you know who purchased the painting at that auction?\n",
      "\n",
      "Message 3 - assistant: The painting was purchased by Prince Badr bin Abdullah bin Mohammed bin Farhan Al Saud, who was acting on behalf of the Saudi Arabian crown prince, Mohammed bin Salman. It's believed that the painting is intended for display at the Louvre Abu Dhabi. The acquisition certainly stirred quite a bit of intrigue and discussion in the art world!\n",
      "\n",
      "Message 4 - user: That's fascinating! Do you know if the painting is currently on display at the Louvre Abu Dhabi or if there have been any updates on its whereabouts?\n",
      "\n",
      "Message 5 - assistant: As of the latest updates, the \"Salvator Mundi\" has not been publicly displayed at the Louvre Abu Dhabi, and its exact whereabouts remain somewhat mysterious. There have been various speculations and reports about its location, but no official confirmation has been made. The intrigue surrounding the painting continues to captivate art enthusiasts and historians alike!\n",
      "\n",
      "Message 6 - user: Given the mystery surrounding its location, are there any theories or speculations about why the painting hasn't been displayed yet?\n",
      "\n",
      "Message 7 - assistant: There are indeed several theories and speculations about why the \"Salvator Mundi\" hasn't been displayed yet. Some suggest that there might be concerns about the painting's condition or authenticity, which could be causing hesitation in publicly exhibiting it. Others speculate that political or diplomatic factors might be at play, given the involvement of high-profile figures in its acquisition. Additionally, some believe that the painting might be held in private for security reasons or as part of a strategic decision regarding its future display. The mystery certainly adds to the allure and intrigue surrounding this enigmatic masterpiece!\n",
      "\n",
      "Message 8 - user: With all these speculations, has there been any recent news or developments regarding the painting's condition or authenticity?\n",
      "\n",
      "Message 9 - assistant: As of the latest information available, there haven't been any definitive updates regarding the condition or authenticity of the \"Salvator Mundi.\" The painting continues to be a subject of debate among art historians and experts, with discussions about its provenance and the extent of Leonardo's involvement in its creation. While some experts affirm its authenticity, others remain skeptical, pointing to stylistic differences and historical records. The painting's mysterious status and the lack of public display only fuel these ongoing discussions. It's a fascinating case that keeps the art world buzzing with curiosity!\n",
      "\n"
     ]
    }
   ],
   "source": [
    "i = 0\n",
    "for ch in outputs[0][\"messages\"]:\n",
    "    print(f'Message {i} - {ch[\"role\"]}: {ch[\"content\"]}\\n')\n",
    "    i += 1"
   ]
  }
 ],
 "metadata": {
  "kernelspec": {
   "display_name": "genai_evaluation",
   "language": "python",
   "name": "genai_evaluation"
  },
  "language_info": {
   "codemirror_mode": {
    "name": "ipython",
    "version": 3
   },
   "file_extension": ".py",
   "mimetype": "text/x-python",
   "name": "python",
   "nbconvert_exporter": "python",
   "pygments_lexer": "ipython3",
   "version": "3.13.7"
  }
 },
 "nbformat": 4,
 "nbformat_minor": 5
}
