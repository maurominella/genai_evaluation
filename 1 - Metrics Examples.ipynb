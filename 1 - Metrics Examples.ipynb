{
 "cells": [
  {
   "cell_type": "markdown",
   "id": "2c41a2d7-801a-4403-bae9-367112b34555",
   "metadata": {},
   "source": [
    "# [Azure OpenAI Responses API's](https://learn.microsoft.com/en-us/azure/ai-services/openai/how-to/responses?tabs=python-secure#generate-a-text-response) (with Entra ID authentication)"
   ]
  },
  {
   "cell_type": "code",
   "execution_count": 1,
   "id": "1e02d339-2fed-4267-a979-2ca5ba446151",
   "metadata": {},
   "outputs": [],
   "source": [
    "from azure.identity import DefaultAzureCredential\n",
    "credential = DefaultAzureCredential()"
   ]
  },
  {
   "cell_type": "code",
   "execution_count": 2,
   "id": "8c1e5663-9501-4620-9190-57f9a7a088f7",
   "metadata": {},
   "outputs": [],
   "source": [
    "import os, json\n",
    "from openai import AzureOpenAI\n",
    "from azure.identity import DefaultAzureCredential, get_bearer_token_provider\n",
    "from dotenv import load_dotenv # requires python-dotenv\n",
    "\n",
    "load_dotenv(\"./../../config/credentials_my.env\")\n",
    "\n",
    "os.environ[\"AZURE_OPENAI_ENDPOINT\"] = os.environ['AZURE_OPENAI_ENDPOINT']\n",
    "api_version = os.environ[\"OPENAI_API_VERSION\"] # at least \"2025-03-01-preview\"\n",
    "\n",
    "# credential = DefaultAzureCredential() \n",
    "\n",
    "token_provider = get_bearer_token_provider(\n",
    "    DefaultAzureCredential(), \"https://cognitiveservices.azure.com/.default\")\n",
    "\n",
    "client = AzureOpenAI(\n",
    "  azure_ad_token_provider=token_provider,\n",
    "  api_version=api_version)"
   ]
  },
  {
   "cell_type": "markdown",
   "id": "56ab7964-0df1-44d6-a76d-d03da2447fb9",
   "metadata": {},
   "source": [
    "# Read the system message plus the json list of metrics"
   ]
  },
  {
   "cell_type": "code",
   "execution_count": 3,
   "id": "bebebe22-df9b-47a7-b96b-a7e013483bf8",
   "metadata": {},
   "outputs": [
    {
     "name": "stdout",
     "output_type": "stream",
     "text": [
      "1: Intent Resolution\n",
      "2: Tool Call Accuracy\n",
      "3: Task Adherence\n",
      "4: Response Completeness\n",
      "5: Groundedness (prompt-based)\n",
      "6: Groundedness Pro\n",
      "7: Retrieval\n",
      "8: Relevance\n",
      "9: Coherence\n",
      "10: Fluency\n",
      "11: Similarity\n",
      "12: F1 Score\n",
      "13: BLEU Score\n",
      "14: ROUGE Score\n",
      "15: METEOR Score\n"
     ]
    }
   ],
   "source": [
    "# Open the system_message file in read mode\n",
    "with open(\"system_message.txt\", \"r\", encoding=\"utf-8\") as file:\n",
    "    system_message = file.read()\n",
    "\n",
    "# Open the metrics file in read mode\n",
    "with open(\"metrics.json\", \"r\", encoding=\"utf-8\") as file:\n",
    "    metrics_list = json.loads(file.read().replace(\"\\n\", \"\"))\n",
    "\n",
    "i=1\n",
    "for m in metrics_list:\n",
    "    print (f'{i}: {m[\"metric_name\"]}')\n",
    "    i += 1"
   ]
  },
  {
   "cell_type": "markdown",
   "id": "fd692fb0-62c5-4fa6-bb09-5b83e3b78560",
   "metadata": {},
   "source": [
    "# You may run the next cell multiple times to explore metrics samples"
   ]
  },
  {
   "cell_type": "code",
   "execution_count": 8,
   "id": "94e2d034-08cc-4080-8218-b1f7ac04c297",
   "metadata": {},
   "outputs": [
    {
     "name": "stdin",
     "output_type": "stream",
     "text": [
      "Which metric would you like to analyze? 10\n"
     ]
    },
    {
     "data": {
      "text/markdown": [
       "\n",
       "\n",
       "**GREAT CHOICE!** Here are a couple examples for the metric `<Fluency>`\n"
      ],
      "text/plain": [
       "<IPython.core.display.Markdown object>"
      ]
     },
     "metadata": {},
     "output_type": "display_data"
    },
    {
     "data": {
      "text/markdown": [
       "Certainly! Let's break down fluency with specific examples for different scores:  \n",
       "  \n",
       "**Fluency**  \n",
       "  \n",
       "**Score 5 (Highest):**  \n",
       "  \n",
       "- **QUESTION:** What did the meeting focus on?  \n",
       "- **ANSWER:** The meeting focused on the upcoming project deadlines and strategies to enhance team productivity.  \n",
       "- **SCORE:** 5  \n",
       "- **EXPLANATION:** This answer is grammatically correct, clear, uses appropriate vocabulary, and smoothly conveys the intended message.  \n",
       "  \n",
       "**Score 4:**  \n",
       "  \n",
       "- **QUESTION:** What did the meeting focus on?  \n",
       "- **ANSWER:** The team talked about project deadlines and finding ways for more productivity.  \n",
       "- **SCORE:** 4  \n",
       "- **EXPLANATION:** Mostly fluent, but uses simpler sentence structure and vocabulary which slightly reduces readability.  \n",
       "  \n",
       "**Score 3:**  \n",
       "  \n",
       "- **QUESTION:** What did the meeting focus on?  \n",
       "- **ANSWER:** Meeting talked about deadlines, productivity solutions considered.  \n",
       "- **SCORE:** 3  \n",
       "- **EXPLANATION:** Some clarity present, but lacks complete sentences and smooth flow; the message is still understandable.  \n",
       "  \n",
       "**Score 2:**  \n",
       "  \n",
       "- **QUESTION:** What did the meeting focus on?  \n",
       "- **ANSWER:** Deadline project. Productivity discussing.  \n",
       "- **SCORE:** 2  \n",
       "- **EXPLANATION:** Fragmented phrases and poor vocabulary choice; difficult to follow, reducing readability and coherence.  \n",
       "  \n",
       "**Score 1 (Lowest):**  \n",
       "  \n",
       "- **QUESTION:** What did the meeting focus on?  \n",
       "- **ANSWER:** Deadline deadline meeting productivity.  \n",
       "- **SCORE:** 1  \n",
       "- **EXPLANATION:** Incoherent and lacks clarity; grammatical errors and poor vocabulary make it very hard to understand.  \n",
       "  \n",
       "These examples illustrate how fluency varies with clarity, grammar, and ease of comprehension."
      ],
      "text/plain": [
       "<IPython.core.display.Markdown object>"
      ]
     },
     "metadata": {},
     "output_type": "display_data"
    }
   ],
   "source": [
    "from IPython.display import Markdown, display\n",
    "\n",
    "index = int(input(\"Which metric would you like to analyze?\"))\n",
    "\n",
    "display(Markdown(f\"\\n\\n**GREAT CHOICE!** Here are a couple examples for the metric `<{metrics_list[index-1]['metric_name']}>`\\n\"))\n",
    "\n",
    "messages=[{\"role\": \"system\", \"content\": system_message},\n",
    "          {\"role\": \"user\", \"content\": json.dumps(metrics_list[index-1])}]\n",
    "\n",
    "response = client.responses.create(\n",
    "    model=os.environ['AZURE_OPENAI_CHAT_DEPLOYMENT_NAME'],\n",
    "    input=messages)\n",
    "\n",
    "display(Markdown(response.output_text.replace(\"\\n\", \"  \\n\")))"
   ]
  }
 ],
 "metadata": {
  "kernelspec": {
   "display_name": "genai_evaluation",
   "language": "python",
   "name": "genai_evaluation"
  },
  "language_info": {
   "codemirror_mode": {
    "name": "ipython",
    "version": 3
   },
   "file_extension": ".py",
   "mimetype": "text/x-python",
   "name": "python",
   "nbconvert_exporter": "python",
   "pygments_lexer": "ipython3",
   "version": "3.13.7"
  }
 },
 "nbformat": 4,
 "nbformat_minor": 5
}
